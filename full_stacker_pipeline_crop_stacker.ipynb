{
  "nbformat": 4,
  "nbformat_minor": 0,
  "metadata": {
    "colab": {
      "name": "full_stacker_pipeline_crop_stacker.ipynb",
      "provenance": [],
      "collapsed_sections": [],
      "toc_visible": true,
      "machine_shape": "hm"
    },
    "kernelspec": {
      "name": "python3",
      "display_name": "Python 3"
    },
    "language_info": {
      "name": "python"
    },
    "accelerator": "GPU"
  },
  "cells": [
    {
      "cell_type": "code",
      "metadata": {
        "colab": {
          "base_uri": "https://localhost:8080/"
        },
        "id": "T6bptu2Se79F",
        "outputId": "9833e185-c808-4c29-fb0d-ed9bb49558e5"
      },
      "source": [
        "gpu_info = !nvidia-smi\n",
        "gpu_info = '\\n'.join(gpu_info)\n",
        "if gpu_info.find('failed') >= 0:\n",
        "  print('Select the Runtime > \"Change runtime type\" menu to enable a GPU accelerator, ')\n",
        "  print('and then re-execute this cell.')\n",
        "else:\n",
        "  print(gpu_info)"
      ],
      "execution_count": 1,
      "outputs": [
        {
          "output_type": "stream",
          "text": [
            "Sat Apr 10 20:31:53 2021       \n",
            "+-----------------------------------------------------------------------------+\n",
            "| NVIDIA-SMI 460.67       Driver Version: 460.32.03    CUDA Version: 11.2     |\n",
            "|-------------------------------+----------------------+----------------------+\n",
            "| GPU  Name        Persistence-M| Bus-Id        Disp.A | Volatile Uncorr. ECC |\n",
            "| Fan  Temp  Perf  Pwr:Usage/Cap|         Memory-Usage | GPU-Util  Compute M. |\n",
            "|                               |                      |               MIG M. |\n",
            "|===============================+======================+======================|\n",
            "|   0  Tesla P100-PCIE...  Off  | 00000000:00:04.0 Off |                    0 |\n",
            "| N/A   37C    P0    27W / 250W |      0MiB / 16280MiB |      0%      Default |\n",
            "|                               |                      |                  N/A |\n",
            "+-------------------------------+----------------------+----------------------+\n",
            "                                                                               \n",
            "+-----------------------------------------------------------------------------+\n",
            "| Processes:                                                                  |\n",
            "|  GPU   GI   CI        PID   Type   Process name                  GPU Memory |\n",
            "|        ID   ID                                                   Usage      |\n",
            "|=============================================================================|\n",
            "|  No running processes found                                                 |\n",
            "+-----------------------------------------------------------------------------+\n"
          ],
          "name": "stdout"
        }
      ]
    },
    {
      "cell_type": "code",
      "metadata": {
        "colab": {
          "base_uri": "https://localhost:8080/"
        },
        "id": "eofpkTcme-vU",
        "outputId": "1ed71650-8fba-47f6-a852-731100f3b716"
      },
      "source": [
        "from psutil import virtual_memory\n",
        "ram_gb = virtual_memory().total / 1e9\n",
        "print('Your runtime has {:.1f} gigabytes of available RAM\\n'.format(ram_gb))\n",
        "\n",
        "if ram_gb < 20:\n",
        "  print('To enable a high-RAM runtime, select the Runtime > \"Change runtime type\"')\n",
        "  print('menu, and then select High-RAM in the Runtime shape dropdown. Then, ')\n",
        "  print('re-execute this cell.')\n",
        "else:\n",
        "  print('You are using a high-RAM runtime!')"
      ],
      "execution_count": 2,
      "outputs": [
        {
          "output_type": "stream",
          "text": [
            "Your runtime has 27.4 gigabytes of available RAM\n",
            "\n",
            "You are using a high-RAM runtime!\n"
          ],
          "name": "stdout"
        }
      ]
    },
    {
      "cell_type": "code",
      "metadata": {
        "id": "B_G8aermNnoC"
      },
      "source": [
        "# Algorithmic methods imports\n",
        "\n",
        "import cv2\n",
        "import os\n",
        "import numpy as np\n",
        "import matplotlib.pyplot as plt\n",
        "from scipy import ndimage, misc\n",
        "from PIL import Image\n",
        "from google.colab.patches import cv2_imshow"
      ],
      "execution_count": 3,
      "outputs": []
    },
    {
      "cell_type": "code",
      "metadata": {
        "id": "0BQQQybIZIwG"
      },
      "source": [
        "import torch\n",
        "import torch.nn as nn\n",
        "import torch.nn.functional as F\n",
        "from torch.utils.data import DataLoader, Dataset\n",
        "from torch.utils.data.sampler import SubsetRandomSampler\n",
        "import numpy as np\n",
        "from IPython.display import clear_output "
      ],
      "execution_count": 4,
      "outputs": []
    },
    {
      "cell_type": "code",
      "metadata": {
        "colab": {
          "base_uri": "https://localhost:8080/"
        },
        "id": "MkJJAQK1DfuO",
        "outputId": "6e6e5f98-e7f4-4f23-e171-214024631f0e"
      },
      "source": [
        "from google.colab import drive\n",
        "drive.mount('/content/drive')"
      ],
      "execution_count": 5,
      "outputs": [
        {
          "output_type": "stream",
          "text": [
            "Mounted at /content/drive\n"
          ],
          "name": "stdout"
        }
      ]
    },
    {
      "cell_type": "code",
      "metadata": {
        "id": "Tg1WvW0KOFwj"
      },
      "source": [
        "kevin_path = \"/content/drive/MyDrive/University Academics/Year 4 EngSci\"\n",
        "jay_path = \"./drive/MyDrive/CSC413 Project/\"\n",
        "\n",
        "select_path = jay_path # Change to kevin_path if needed\n",
        "\n",
        "#data_path = \"./drive/MyDrive/CSC413 Project/trainA\"\n",
        "#label_path = \"./drive/MyDrive/CSC413 Project/trainB\"\n",
        "train_path = os.path.join(select_path, \"trainA\")\n",
        "train_label_path = os.path.join(select_path, \"trainB\")\n",
        "train_path_cropped = os.path.join(select_path, \"trainA/original_cropped\")\n",
        "train_label_path_cropped = os.path.join(select_path, \"trainB/original_cropped\")\n",
        "test_path = os.path.join(select_path, \"testA\")\n",
        "test_label_path = os.path.join(select_path, \"testB\")\n",
        "output_path = os.path.join(select_path, \"trainA/autoencoder\")\n",
        "test_output_path = os.path.join(select_path, \"testA/autoencoder\")\n",
        "\n",
        "# Stacker paths\n",
        "train_0_cropped = os.path.join(train_path, \"original_cropped\")\n",
        "train_1_cropped = os.path.join(train_path, \"adaptive_filtered_cropped\")\n",
        "train_2_cropped = os.path.join(train_path, \"edge_dilation_erosion_cropped\")\n",
        "train_3_cropped = os.path.join(train_path, \"median_filtered_cropped\")\n",
        "train_4_cropped = os.path.join(train_path, \"autoencoder\") # Already cropped"
      ],
      "execution_count": 17,
      "outputs": []
    },
    {
      "cell_type": "markdown",
      "metadata": {
        "id": "LLNG3wX9-sAU"
      },
      "source": [
        "# Data cleaning and pre-processing\n",
        "Written by Kevin Zhang 2021-04-08"
      ]
    },
    {
      "cell_type": "code",
      "metadata": {
        "colab": {
          "base_uri": "https://localhost:8080/"
        },
        "id": "0HtlaPM7-q36",
        "outputId": "ffc4e7e7-b3c4-47b3-b610-2868b02d1d91"
      },
      "source": [
        "if not os.path.exists(train_path+\"/original_cropped\"):\n",
        "  os.mkdir(train_path+\"/original_cropped\")\n",
        "\n",
        "idx = 0 \n",
        "for img in sorted(os.listdir(train_path)):\n",
        "  if img.endswith('.png'):\n",
        "    input_image_path = os.path.join(train_path,img)\n",
        "    raw_image = cv2.imread(input_image_path, cv2.IMREAD_GRAYSCALE)\n",
        "    output = raw_image[0:256, 0:256].copy()\n",
        " \n",
        "    idx += 1\n",
        "    clear_output()\n",
        "    print(\"processing\", idx)\n",
        "    cv2.imwrite(os.path.join(train_path+\"/original_cropped\", img), output)"
      ],
      "execution_count": null,
      "outputs": [
        {
          "output_type": "stream",
          "text": [
            "processing 2448\n"
          ],
          "name": "stdout"
        }
      ]
    },
    {
      "cell_type": "code",
      "metadata": {
        "colab": {
          "base_uri": "https://localhost:8080/"
        },
        "id": "4bI5updTINTq",
        "outputId": "b2654fa4-0170-4fb9-aad4-4313c94d6e83"
      },
      "source": [
        "if not os.path.exists(train_label_path+\"/original_cropped\"):\n",
        "  os.mkdir(train_label_path+\"/original_cropped\")\n",
        " \n",
        "idx = 0\n",
        "for img in sorted(os.listdir(train_label_path)):\n",
        "  if img.endswith('.png'):\n",
        "    input_image_path = os.path.join(train_label_path,img)\n",
        "    raw_image = cv2.imread(input_image_path, cv2.IMREAD_GRAYSCALE)\n",
        "    output = raw_image[0:256, 0:256].copy()\n",
        " \n",
        "    idx += 1\n",
        "    clear_output()\n",
        "    print(\"processing\", idx)\n",
        "    cv2.imwrite(os.path.join(train_label_path+\"/original_cropped\", img), output)"
      ],
      "execution_count": null,
      "outputs": [
        {
          "output_type": "stream",
          "text": [
            "processing 2448\n"
          ],
          "name": "stdout"
        }
      ]
    },
    {
      "cell_type": "markdown",
      "metadata": {
        "id": "uAZenmvaULBG"
      },
      "source": [
        "# Defining algorithmic processing methods\n",
        "Written by Kevin Zhang"
      ]
    },
    {
      "cell_type": "code",
      "metadata": {
        "id": "G1y2qC3sT4zq"
      },
      "source": [
        "########################################################\n",
        "# PART 1 - Median Filtering\n",
        "########################################################\n",
        "def median_filter(image_path):\n",
        "  img = cv2.imread(image_path, cv2.IMREAD_GRAYSCALE) # Load image\n",
        "  img_median = cv2.medianBlur(img, 25) # Add median filter to image\n",
        "  result = np.minimum(img.astype(np.uint16)+(255-img_median.astype(np.uint16)), 255)\n",
        "  return result.astype(np.uint8)"
      ],
      "execution_count": 8,
      "outputs": []
    },
    {
      "cell_type": "code",
      "metadata": {
        "id": "bSEalB-aUGjg"
      },
      "source": [
        "########################################################\n",
        "# PART 2 - Edge Detection, Dilation Erosion\n",
        "########################################################\n",
        "def edge_dilation_erosion_filter(image_path):\n",
        "  img = cv2.imread(image_path, cv2.IMREAD_GRAYSCALE) # Load image\n",
        "  edges = cv2.Canny(img,100,200)\n",
        "  dilated = cv2.dilate(edges, np.ones((3,3),np.uint8), iterations=1)\n",
        "  eroded = cv2.erode(dilated, np.ones((4,4),np.uint8), iterations=1)\n",
        "  return cv2.bitwise_not(eroded)"
      ],
      "execution_count": 9,
      "outputs": []
    },
    {
      "cell_type": "code",
      "metadata": {
        "id": "I0JF0WqEUHlV"
      },
      "source": [
        "########################################################\n",
        "# PART 3 - Adaptive Filter\n",
        "########################################################\n",
        "def adaptive_filter(image_path):\n",
        "  img = cv2.imread(image_path, cv2.IMREAD_GRAYSCALE) # Load image\n",
        "  return cv2.adaptiveThreshold(img,255,cv2.ADAPTIVE_THRESH_GAUSSIAN_C,\\\n",
        "            cv2.THRESH_BINARY,15,20)"
      ],
      "execution_count": 10,
      "outputs": []
    },
    {
      "cell_type": "markdown",
      "metadata": {
        "id": "Xdh8BsTwWPAO"
      },
      "source": [
        "## Creating images using algorithmic methods\n",
        "\n",
        "Written by Kevin Zhang"
      ]
    },
    {
      "cell_type": "code",
      "metadata": {
        "id": "6CjFQxmSUSUp",
        "colab": {
          "base_uri": "https://localhost:8080/"
        },
        "outputId": "bd98b462-6a87-44dd-cadb-861c332fa935"
      },
      "source": [
        "if not os.path.exists(train_path+\"/median_filtered_cropped\"):\n",
        "  os.mkdir(train_path+\"/median_filtered_cropped\")\n",
        "if not os.path.exists(train_path+\"/edge_dilation_erosion_cropped\"):\n",
        "  os.mkdir(train_path+\"/edge_dilation_erosion_cropped\")\n",
        "if not os.path.exists(train_path+\"/adaptive_filtered_cropped\"):\n",
        "  os.mkdir(train_path+\"/adaptive_filtered_cropped\")\n",
        "\n",
        "idx = 0 \n",
        "for img in sorted(os.listdir(train_path_cropped)):\n",
        "  if img.endswith('.png'):\n",
        "    input_image_path = os.path.join(train_path_cropped,img)\n",
        "\n",
        "    median_filter_path = os.path.join(train_path+\"/median_filtered_cropped\",img)\n",
        "    edge_dilation_erosion_path = os.path.join(train_path+\"/edge_dilation_erosion_cropped\",img)\n",
        "    adaptive_filter_path = os.path.join(train_path+\"/adaptive_filtered_cropped\",img)\n",
        "\n",
        "    idx += 1\n",
        "    clear_output()\n",
        "    print(\"processing\", idx)\n",
        "\n",
        "    if not os.path.exists(median_filter_path):\n",
        "      cv2.imwrite(median_filter_path, median_filter(input_image_path))\n",
        "    if not os.path.exists(edge_dilation_erosion_path):\n",
        "      cv2.imwrite(edge_dilation_erosion_path, edge_dilation_erosion_filter(input_image_path))\n",
        "    if not os.path.exists(adaptive_filter_path):\n",
        "      cv2.imwrite(adaptive_filter_path, adaptive_filter(input_image_path))"
      ],
      "execution_count": null,
      "outputs": [
        {
          "output_type": "stream",
          "text": [
            "processing 2448\n"
          ],
          "name": "stdout"
        }
      ]
    },
    {
      "cell_type": "code",
      "metadata": {
        "colab": {
          "base_uri": "https://localhost:8080/",
          "height": 273
        },
        "id": "KhmLrIffUxhn",
        "outputId": "f4efcb7e-a843-427e-a80d-19be6e857da9"
      },
      "source": [
        "# Test image\n",
        "result = edge_dilation_erosion_filter(os.path.join(train_path_cropped, \"img_0000.png\"))\n",
        "cv2_imshow(result)"
      ],
      "execution_count": null,
      "outputs": [
        {
          "output_type": "display_data",
          "data": {
            "image/png": "[encoded data removed]",
            "text/plain": [
              "<PIL.Image.Image image mode=L size=256x256 at 0x7F8AB1D34850>"
            ]
          },
          "metadata": {
            "tags": []
          }
        }
      ]
    },
    {
      "cell_type": "markdown",
      "metadata": {
        "id": "uezuBRZ_aaKf"
      },
      "source": [
        "# Machine Learning Methods\n",
        "Written by Jay Yoo\n",
        "\n",
        "Adjusted by Kevin Zhang 2021-04-08\n",
        "- added train-test splits, validation, plot loss"
      ]
    },
    {
      "cell_type": "code",
      "metadata": {
        "id": "SmBZaIDliPay"
      },
      "source": [
        "def prepare_params(batch_size=128, num_epochs=100, learning_rate=1e-4, \\\n",
        "                   summary_epoch_interval=10, validation_split=.15, \\\n",
        "                   shuffle=True, random_seed=0, \\\n",
        "                   loss_function=nn.MSELoss(), optimizer=torch.optim.Adam, \\\n",
        "                   model_save_path=\"./models\"):\n",
        "  # optimizer is passed the function definition, not a called function \n",
        "    # (note the lack of brackets in the base argument)\n",
        "  \n",
        "  params = {\n",
        "      'batch_size' : batch_size,\n",
        "      'num_epochs' : num_epochs,\n",
        "      'learning_rate' : learning_rate,\n",
        "      'summary_epoch_interval' : summary_epoch_interval, \n",
        "      'validation_split': validation_split,\n",
        "      'shuffle': shuffle,\n",
        "      'random_seed': random_seed,\n",
        "      'loss_function' : loss_function, \n",
        "      'optimizer' : optimizer,\n",
        "      'save_model_path': model_save_path\n",
        "  }\n",
        "\n",
        "  return params"
      ],
      "execution_count": 11,
      "outputs": []
    },
    {
      "cell_type": "code",
      "metadata": {
        "id": "C3TLQU9wdX5x"
      },
      "source": [
        "class model_container():\n",
        "  def __init__(self, dataset, model, params):\n",
        "    # Model does not have to be transferred to cuda gpu\n",
        "\n",
        "    self.batch_size = params['batch_size']\n",
        "    self.num_epochs = params['num_epochs']\n",
        "    self.learning_rate = params['learning_rate']\n",
        "    self.summary_epoch_interval = params['summary_epoch_interval']\n",
        "    self.val_split = params['validation_split']\n",
        "    self.shuffle = params['shuffle']\n",
        "    self.random_seed = params['random_seed']\n",
        "    self.loss_function = params['loss_function']\n",
        "    self.optimizer = params['optimizer']\n",
        "    self.save_model_path = params['save_model_path']\n",
        "    self.model = model.cuda()\n",
        "\n",
        "    if not os.path.exists(self.save_model_path):\n",
        "      os.mkdir(self.save_model_path)\n",
        "\n",
        "    # code for train-test split on custom dataset\n",
        "    dataset_size = len(dataset)\n",
        "    indices = list(range(dataset_size))\n",
        "    split = int(np.floor(self.val_split * dataset_size))\n",
        "    if self.shuffle:\n",
        "      np.random.seed(self.random_seed)\n",
        "      np.random.shuffle(indices)\n",
        "    train_indices, val_indices = indices[split:], indices[:split]\n",
        "\n",
        "    train_sampler = SubsetRandomSampler(train_indices)\n",
        "    valid_sampler = SubsetRandomSampler(val_indices)\n",
        "\n",
        "    self.train_loader = DataLoader(dataset, batch_size=self.batch_size, \n",
        "                                   sampler=train_sampler, pin_memory=True, num_workers=0)\n",
        "    self.val_loader = DataLoader(dataset, batch_size=self.batch_size, \n",
        "                                        sampler=valid_sampler, pin_memory=True, num_workers=0)\n",
        "    \n",
        "\n",
        "  def train(self):\n",
        "    self.model.train()\n",
        "\n",
        "    # optimizer = torch.optim.Adam(lr=learning_rate, params=self.model.parameters())\n",
        "    optimizer = self.optimizer(lr=self.learning_rate, params=self.model.parameters())\n",
        "\n",
        "    loss_history = []\n",
        "    val_loss_history = []\n",
        "    \n",
        "    for epoch in range(1, self.num_epochs + 1):\n",
        "      cumulated_loss = 0\n",
        "\n",
        "      for model_input, labels in self.train_loader:\n",
        "        model_input = model_input.cuda()\n",
        "        labels = labels.cuda()\n",
        "        model_output = self.model(model_input)\n",
        "        loss = self.loss_function(model_output, labels)\n",
        "\n",
        "        optimizer.zero_grad()\n",
        "        loss.backward()\n",
        "        optimizer.step()\n",
        "\n",
        "        cumulated_loss += loss.item()\n",
        "      \n",
        "      loss_history.append(cumulated_loss)\n",
        "      \n",
        "      self.model.eval()\n",
        "      cumulated_val_loss = 0\n",
        "      \n",
        "      for model_input, labels in self.val_loader:\n",
        "        model_input = model_input.cuda()\n",
        "        labels = labels.cuda()\n",
        "        model_output = self.model(model_input)\n",
        "        loss = self.loss_function(model_output, labels)\n",
        "        cumulated_val_loss += loss.item()\n",
        "    \n",
        "      val_loss_history.append(cumulated_val_loss)\n",
        "      \n",
        "      if cumulated_val_loss <= min(val_loss_history):\n",
        "        torch.save(self.model.state_dict(), self.save_model_path+\"_%d\"%epoch)\n",
        "        print(\"New model saved!\")\n",
        "\n",
        "      if not epoch % self.summary_epoch_interval:\n",
        "        print(\"Epoch %d, Total training loss %0.6f, Total validation loss %0.6f\" % (epoch, cumulated_loss, cumulated_val_loss))\n",
        "        \n",
        "    plt.figure()\n",
        "    plt.plot(loss_history, \"ro-\", label=\"Train\")\n",
        "    plt.plot(val_loss_history, \"go-\", label=\"Validation\")\n",
        "    plt.legend()\n",
        "    plt.title(\"Loss\")\n",
        "    plt.xlabel(\"Epochs\")\n",
        "\n",
        "  def inference(self, data_to_infer, save_path=None, filenames=None, is_autoencoder=True):\n",
        "    # Assumed to be list of numpy\n",
        "    # Add option to automatically save to a directory if memory is a concern\n",
        "\n",
        "    self.model.eval()\n",
        "\n",
        "    if save_path is None:\n",
        "      outputs = []\n",
        "      for data in data_to_infer:\n",
        "        model_input = torch.from_numpy(data)\n",
        "        model_input = torch.unsqueeze(model_input, dim=0)\n",
        "        if is_autoencoder:\n",
        "          model_input = torch.unsqueeze(model_input, dim=0)\n",
        "        model_input = model_input.type(torch.FloatTensor)\n",
        "        model_input = model_input.cuda()\n",
        "        outputs.append(self.model(model_input).cpu().detach().numpy() * 255)\n",
        "\n",
        "      return outputs\n",
        "    else:\n",
        "      outputs = []\n",
        "      if not os.path.exists(save_path):\n",
        "        os.mkdir(save_path)\n",
        "      if filenames is None:\n",
        "        filenames = [str(idx)  + '.png' for idx in range(len(data_to_infer))]\n",
        "      for idx, data in enumerate(data_to_infer):\n",
        "        model_input = torch.from_numpy(data)\n",
        "        model_input = torch.unsqueeze(model_input, dim=0)\n",
        "        if is_autoencoder:\n",
        "          model_input = torch.unsqueeze(model_input, dim=0)\n",
        "        model_input = model_input.type(torch.FloatTensor)\n",
        "        model_input = model_input.cuda()\n",
        "\n",
        "        model_output = self.model(model_input).cpu().detach().numpy() * 255\n",
        "        outputs.append(model_output)\n",
        "        cv2.imwrite(os.path.join(save_path, filenames[idx]), model_output)\n",
        "      \n",
        "      return outputs\n",
        "\n",
        "  def delete_data(self):\n",
        "    # For memory optimizations\n",
        "    del self.dataloader\n",
        "  \n",
        "  def get_model():\n",
        "    self.model.eval()\n",
        "    return self.model"
      ],
      "execution_count": 12,
      "outputs": []
    },
    {
      "cell_type": "code",
      "metadata": {
        "id": "ftcCNfmalbX8"
      },
      "source": [
        "def get_images_from_dir(data_path, track_progress=True, stop_idx=None, \\\n",
        "                        image_shape=None, cropped=True):\n",
        "\n",
        "  dir_paths = os.listdir(data_path)\n",
        "  num_paths = len(dir_paths)\n",
        "\n",
        "  if stop_idx is None:\n",
        "    stop_idx = num_paths\n",
        "\n",
        "  if track_progress == True:\n",
        "    def show_progress(idx):\n",
        "      clear_output()\n",
        "      print(idx, '/', stop_idx)\n",
        "  else:\n",
        "    def show_progress(idx):\n",
        "      pass\n",
        "\n",
        "  filenames = []\n",
        "  num_pngs = 0\n",
        "  image_shape = [np.infty, np.infty]\n",
        "  for idx, img in enumerate(sorted(dir_paths)):\n",
        "    if num_pngs == stop_idx:\n",
        "      break\n",
        "      \n",
        "    if img.endswith('.png'):\n",
        "      num_pngs += 1\n",
        "\n",
        "  image_shape = [num_pngs] + [256, 256]\n",
        "  images = np.zeros(image_shape)\n",
        "    \n",
        "    \n",
        "  if not cropped:\n",
        "    png_idx = 0\n",
        "    for idx, img in enumerate(sorted(dir_paths)):\n",
        "      if png_idx == stop_idx:\n",
        "        break\n",
        "\n",
        "      show_progress(idx)\n",
        "      if img.endswith('.png'):\n",
        "        filenames.append(img)\n",
        "        image_path = os.path.join(data_path,img)\n",
        "        raw_image = cv2.imread(image_path, cv2.IMREAD_GRAYSCALE)\n",
        "        images[png_idx] = raw_image[0:256, 0:256] / 255\n",
        "        png_idx += 1\n",
        "  else:\n",
        "    png_idx = 0\n",
        "    for idx, img in enumerate(sorted(dir_paths)):\n",
        "      if png_idx == stop_idx:\n",
        "        break\n",
        "\n",
        "      show_progress(png_idx)\n",
        "      if img.endswith('.png'):\n",
        "        filenames.append(img)\n",
        "        image_path = os.path.join(data_path,img)\n",
        "        raw_image = cv2.imread(image_path, cv2.IMREAD_GRAYSCALE)\n",
        "        images[png_idx] = raw_image/255\n",
        "        png_idx += 1\n",
        "\n",
        "  return images, image_shape, filenames"
      ],
      "execution_count": 13,
      "outputs": []
    },
    {
      "cell_type": "markdown",
      "metadata": {
        "id": "I3KVHj9maO0V"
      },
      "source": [
        "##  Autoencoder model\n",
        "Written by Jay Yoo"
      ]
    },
    {
      "cell_type": "code",
      "metadata": {
        "id": "iosiXxWcYHV6"
      },
      "source": [
        "class autoencoder_dataset(Dataset):\n",
        "    def __init__(self, data, labels):\n",
        "        super().__init__()\n",
        "        # data and labels are both (dataset size, m, n) where images are m x n\n",
        "\n",
        "        self.num_data = len(data)\n",
        "        self.train_data = torch.unsqueeze(torch.from_numpy(data), dim=1)\n",
        "        self.train_data = self.train_data.type(torch.FloatTensor)\n",
        "        self.labels = torch.from_numpy(labels)\n",
        "        self.labels = self.labels.type(torch.FloatTensor)\n",
        "\n",
        "    def __len__(self):\n",
        "        return self.num_data\n",
        "\n",
        "    def __getitem__(self, idx):\n",
        "        return self.train_data[idx], self.labels[idx]"
      ],
      "execution_count": null,
      "outputs": []
    },
    {
      "cell_type": "code",
      "metadata": {
        "id": "cgkdASRxXkAw"
      },
      "source": [
        "def autoencoder_layer(in_channels, out_channels, kernel_size=3, stride=1, \\\n",
        "                  padding=1, bias=True, batchnorm=True, activation='relu', \\\n",
        "                  upsample=None):\n",
        "    # Convolution layer that maintains shape \n",
        "        # with optional activation layer and batchnorm\n",
        "    # Use stride = 1, kernel = 3, padding = 1 for convenience\n",
        "    # Activation argument is one of 'relu', 'sigmoid', 'leaky_relu', or 'none\n",
        "\n",
        "    layers = []\n",
        "\n",
        "    # Upsampling\n",
        "    if upsample is not None:\n",
        "        layers.append(nn.Upsample(scale_factor=upsample))\n",
        "\n",
        "    # Adding convolutional layer\n",
        "    layers.append(nn.Conv2d(in_channels=in_channels, \\\n",
        "                            out_channels=out_channels, \\\n",
        "                            kernel_size=kernel_size, \\\n",
        "                            stride=stride, \\\n",
        "                            padding=padding, \\\n",
        "                            bias=bias))\n",
        "\n",
        "    # Adding batchnorm\n",
        "    if batchnorm:\n",
        "        layers.append(nn.BatchNorm2d(out_channels))\n",
        "\n",
        "    # Adding activation\n",
        "    if activation == 'relu':\n",
        "        layers.append(nn.ReLU())\n",
        "    elif activation == 'sigmoid':\n",
        "        layers.append(nn.Sigmoid())\n",
        "    elif activation == 'leaky_relu':\n",
        "        layers.append(nn.LeakyReLU())\n",
        "    elif activation == 'none':\n",
        "        pass\n",
        "    else:\n",
        "        assert False, \"Invalid activation function.\"\n",
        "        \n",
        "    return nn.Sequential(*layers)\n",
        "\n",
        "class autoencoder_architecture(nn.Module):\n",
        "    def __init__(self, num_hidden_channels=64):\n",
        "        super().__init__()\n",
        "        \n",
        "        self.net = []\n",
        "\n",
        "        self.net.append(autoencoder_layer(in_channels=1, \\\n",
        "                                      out_channels=num_hidden_channels, \\\n",
        "                                      activation='leaky_relu', \\\n",
        "                                      batchnorm=True, \\\n",
        "                                      upsample=None))\n",
        "        self.net.append(autoencoder_layer(in_channels=num_hidden_channels, \\\n",
        "                                      out_channels=num_hidden_channels, \\\n",
        "                                      activation='leaky_relu', \\\n",
        "                                      batchnorm=False, \\\n",
        "                                      upsample=None))\n",
        "        self.net.append(nn.MaxPool2d(2)) # Pool to half of shape\n",
        "        self.net.append(autoencoder_layer(in_channels=num_hidden_channels, \\\n",
        "                                      out_channels=num_hidden_channels, \\\n",
        "                                      activation='leaky_relu', \\\n",
        "                                      batchnorm=True, \\\n",
        "                                      upsample=None))\n",
        "        self.net.append(autoencoder_layer(in_channels=num_hidden_channels, \\\n",
        "                                      out_channels=num_hidden_channels, \\\n",
        "                                      activation='leaky_relu', \\\n",
        "                                      batchnorm=False, \\\n",
        "                                      upsample=2))\n",
        "        self.net.append(autoencoder_layer(in_channels=num_hidden_channels, \\\n",
        "                                      out_channels=1, \\\n",
        "                                      activation='sigmoid', \\\n",
        "                                      batchnorm=False, \\\n",
        "                                      upsample=None))\n",
        "        \n",
        "        self.net = nn.Sequential(*self.net)\n",
        "    \n",
        "    def forward(self, concatenated_inputs):\n",
        "        output = self.net(concatenated_inputs)\n",
        "        return output.squeeze()"
      ],
      "execution_count": null,
      "outputs": []
    },
    {
      "cell_type": "code",
      "metadata": {
        "colab": {
          "base_uri": "https://localhost:8080/"
        },
        "id": "lHo04LxhmI7G",
        "outputId": "4cf8d666-0e1e-4357-c644-a1a6f40a9d34"
      },
      "source": [
        "autoencoder_train_data, shape, train_filenames = get_images_from_dir(train_path_cropped)\n",
        "autoencoder_labels, shape, _ = get_images_from_dir(train_label_path_cropped)"
      ],
      "execution_count": null,
      "outputs": [
        {
          "output_type": "stream",
          "text": [
            "2447 / 2448\n"
          ],
          "name": "stdout"
        }
      ]
    },
    {
      "cell_type": "code",
      "metadata": {
        "id": "YQo3Xyq9jasN"
      },
      "source": [
        "dataset = autoencoder_dataset(autoencoder_train_data, autoencoder_labels)\n",
        "autoencoder_model = autoencoder_architecture(num_hidden_channels=64)\n",
        "autoencoder_params = prepare_params(batch_size=32, summary_epoch_interval=1, num_epochs=100, learning_rate=1e-4, model_save_path=\"./models/AEmodel\")"
      ],
      "execution_count": null,
      "outputs": []
    },
    {
      "cell_type": "code",
      "metadata": {
        "id": "KT5jMCW3jwRu"
      },
      "source": [
        "autoencoder = model_container(dataset, autoencoder_model, autoencoder_params)"
      ],
      "execution_count": null,
      "outputs": []
    },
    {
      "cell_type": "code",
      "metadata": {
        "id": "D2gqFlRfkX-u",
        "colab": {
          "base_uri": "https://localhost:8080/",
          "height": 1000
        },
        "outputId": "df7550ad-4eb8-4818-8184-70567aa86ad0"
      },
      "source": [
        "autoencoder.train()"
      ],
      "execution_count": null,
      "outputs": [
        {
          "output_type": "stream",
          "text": [
            "/usr/local/lib/python3.7/dist-packages/torch/nn/modules/loss.py:528: UserWarning: Using a target size (torch.Size([1, 256, 256])) that is different to the input size (torch.Size([256, 256])). This will likely lead to incorrect results due to broadcasting. Please ensure they have the same size.\n",
            "  return F.mse_loss(input, target, reduction=self.reduction)\n"
          ],
          "name": "stderr"
        },
        {
          "output_type": "stream",
          "text": [
            "New model saved!\n",
            "Epoch 1, Total training loss 3.855344, Total validation loss 0.197453\n",
            "New model saved!\n",
            "Epoch 2, Total training loss 0.540544, Total validation loss 0.068965\n",
            "New model saved!\n",
            "Epoch 3, Total training loss 0.308325, Total validation loss 0.049062\n",
            "New model saved!\n",
            "Epoch 4, Total training loss 0.236588, Total validation loss 0.044046\n",
            "New model saved!\n",
            "Epoch 5, Total training loss 0.200335, Total validation loss 0.035327\n",
            "New model saved!\n",
            "Epoch 6, Total training loss 0.175782, Total validation loss 0.031652\n",
            "New model saved!\n",
            "Epoch 7, Total training loss 0.159258, Total validation loss 0.029086\n",
            "New model saved!\n",
            "Epoch 8, Total training loss 0.148118, Total validation loss 0.026903\n",
            "New model saved!\n",
            "Epoch 9, Total training loss 0.139351, Total validation loss 0.026215\n",
            "New model saved!\n",
            "Epoch 10, Total training loss 0.131151, Total validation loss 0.024236\n",
            "New model saved!\n",
            "Epoch 11, Total training loss 0.124214, Total validation loss 0.023629\n",
            "New model saved!\n",
            "Epoch 12, Total training loss 0.120098, Total validation loss 0.021975\n",
            "New model saved!\n",
            "Epoch 13, Total training loss 0.114311, Total validation loss 0.021290\n",
            "New model saved!\n",
            "Epoch 14, Total training loss 0.109875, Total validation loss 0.020522\n",
            "Epoch 15, Total training loss 0.109003, Total validation loss 0.026929\n",
            "New model saved!\n",
            "Epoch 16, Total training loss 0.107160, Total validation loss 0.019778\n",
            "New model saved!\n",
            "Epoch 17, Total training loss 0.099981, Total validation loss 0.018741\n",
            "New model saved!\n",
            "Epoch 18, Total training loss 0.097169, Total validation loss 0.018440\n",
            "New model saved!\n",
            "Epoch 19, Total training loss 0.094682, Total validation loss 0.017541\n",
            "Epoch 20, Total training loss 0.094493, Total validation loss 0.019679\n",
            "New model saved!\n",
            "Epoch 21, Total training loss 0.091355, Total validation loss 0.016845\n",
            "New model saved!\n",
            "Epoch 22, Total training loss 0.088531, Total validation loss 0.016799\n",
            "New model saved!\n",
            "Epoch 23, Total training loss 0.088379, Total validation loss 0.016266\n",
            "Epoch 24, Total training loss 0.087481, Total validation loss 0.016488\n",
            "Epoch 25, Total training loss 0.085788, Total validation loss 0.034938\n",
            "New model saved!\n",
            "Epoch 26, Total training loss 0.093334, Total validation loss 0.015441\n",
            "New model saved!\n",
            "Epoch 27, Total training loss 0.080541, Total validation loss 0.015227\n",
            "Epoch 28, Total training loss 0.079246, Total validation loss 0.015580\n",
            "Epoch 29, Total training loss 0.079094, Total validation loss 0.017923\n",
            "New model saved!\n",
            "Epoch 30, Total training loss 0.079128, Total validation loss 0.014525\n",
            "Epoch 31, Total training loss 0.076387, Total validation loss 0.014577\n",
            "Epoch 32, Total training loss 0.075408, Total validation loss 0.015454\n",
            "Epoch 33, Total training loss 0.074937, Total validation loss 0.017343\n",
            "Epoch 34, Total training loss 0.073756, Total validation loss 0.014809\n",
            "New model saved!\n",
            "Epoch 35, Total training loss 0.072000, Total validation loss 0.013448\n",
            "Epoch 36, Total training loss 0.070787, Total validation loss 0.013521\n",
            "Epoch 37, Total training loss 0.071075, Total validation loss 0.013634\n",
            "New model saved!\n",
            "Epoch 38, Total training loss 0.070415, Total validation loss 0.012960\n",
            "Epoch 39, Total training loss 0.068519, Total validation loss 0.013452\n",
            "Epoch 40, Total training loss 0.067547, Total validation loss 0.013256\n",
            "Epoch 41, Total training loss 0.067414, Total validation loss 0.013493\n",
            "New model saved!\n",
            "Epoch 42, Total training loss 0.066738, Total validation loss 0.012536\n",
            "New model saved!\n",
            "Epoch 43, Total training loss 0.065174, Total validation loss 0.012136\n",
            "Epoch 44, Total training loss 0.065106, Total validation loss 0.013433\n",
            "Epoch 45, Total training loss 0.064372, Total validation loss 0.012637\n",
            "New model saved!\n",
            "Epoch 46, Total training loss 0.063163, Total validation loss 0.011776\n",
            "New model saved!\n",
            "Epoch 47, Total training loss 0.062169, Total validation loss 0.011720\n",
            "Epoch 48, Total training loss 0.062108, Total validation loss 0.011728\n",
            "New model saved!\n",
            "Epoch 49, Total training loss 0.061362, Total validation loss 0.011394\n",
            "New model saved!\n",
            "Epoch 50, Total training loss 0.060473, Total validation loss 0.011320\n",
            "Epoch 51, Total training loss 0.059604, Total validation loss 0.011786\n",
            "New model saved!\n",
            "Epoch 52, Total training loss 0.060040, Total validation loss 0.011109\n",
            "Epoch 53, Total training loss 0.058809, Total validation loss 0.011791\n",
            "Epoch 54, Total training loss 0.058864, Total validation loss 0.011221\n",
            "New model saved!\n",
            "Epoch 55, Total training loss 0.057104, Total validation loss 0.010767\n",
            "Epoch 56, Total training loss 0.057183, Total validation loss 0.011193\n",
            "New model saved!\n",
            "Epoch 57, Total training loss 0.057213, Total validation loss 0.010576\n",
            "Epoch 58, Total training loss 0.055922, Total validation loss 0.010697\n",
            "Epoch 59, Total training loss 0.055819, Total validation loss 0.014916\n",
            "Epoch 60, Total training loss 0.056664, Total validation loss 0.010670\n",
            "New model saved!\n",
            "Epoch 61, Total training loss 0.054476, Total validation loss 0.010164\n",
            "New model saved!\n",
            "Epoch 62, Total training loss 0.053390, Total validation loss 0.010155\n",
            "Epoch 63, Total training loss 0.053044, Total validation loss 0.012208\n",
            "New model saved!\n",
            "Epoch 64, Total training loss 0.053635, Total validation loss 0.009790\n",
            "Epoch 65, Total training loss 0.052776, Total validation loss 0.010790\n",
            "New model saved!\n",
            "Epoch 66, Total training loss 0.053154, Total validation loss 0.009673\n",
            "Epoch 67, Total training loss 0.051397, Total validation loss 0.011379\n",
            "Epoch 68, Total training loss 0.051873, Total validation loss 0.010175\n",
            "Epoch 69, Total training loss 0.051062, Total validation loss 0.009814\n",
            "Epoch 70, Total training loss 0.050986, Total validation loss 0.010357\n",
            "New model saved!\n",
            "Epoch 71, Total training loss 0.050992, Total validation loss 0.009465\n",
            "Epoch 72, Total training loss 0.049177, Total validation loss 0.009974\n",
            "Epoch 73, Total training loss 0.050122, Total validation loss 0.009515\n",
            "Epoch 74, Total training loss 0.049574, Total validation loss 0.010216\n",
            "New model saved!\n",
            "Epoch 75, Total training loss 0.049225, Total validation loss 0.009331\n",
            "Epoch 76, Total training loss 0.049746, Total validation loss 0.010265\n",
            "Epoch 77, Total training loss 0.048564, Total validation loss 0.009907\n",
            "New model saved!\n",
            "Epoch 78, Total training loss 0.047330, Total validation loss 0.008903\n",
            "New model saved!\n",
            "Epoch 79, Total training loss 0.047207, Total validation loss 0.008745\n",
            "Epoch 80, Total training loss 0.046560, Total validation loss 0.009588\n",
            "Epoch 81, Total training loss 0.046614, Total validation loss 0.008760\n",
            "Epoch 82, Total training loss 0.046108, Total validation loss 0.009456\n",
            "New model saved!\n",
            "Epoch 83, Total training loss 0.045609, Total validation loss 0.008618\n",
            "Epoch 84, Total training loss 0.046065, Total validation loss 0.010375\n",
            "New model saved!\n",
            "Epoch 85, Total training loss 0.045761, Total validation loss 0.008444\n",
            "Epoch 86, Total training loss 0.044649, Total validation loss 0.008549\n",
            "New model saved!\n",
            "Epoch 87, Total training loss 0.044081, Total validation loss 0.008259\n",
            "Epoch 88, Total training loss 0.043744, Total validation loss 0.008313\n",
            "Epoch 89, Total training loss 0.043689, Total validation loss 0.008370\n",
            "Epoch 90, Total training loss 0.044045, Total validation loss 0.008783\n",
            "Epoch 91, Total training loss 0.043487, Total validation loss 0.010588\n",
            "Epoch 92, Total training loss 0.043287, Total validation loss 0.008410\n",
            "New model saved!\n",
            "Epoch 93, Total training loss 0.042779, Total validation loss 0.007991\n",
            "New model saved!\n",
            "Epoch 94, Total training loss 0.042520, Total validation loss 0.007927\n",
            "Epoch 95, Total training loss 0.041962, Total validation loss 0.009053\n",
            "Epoch 96, Total training loss 0.042532, Total validation loss 0.009262\n",
            "New model saved!\n",
            "Epoch 97, Total training loss 0.041546, Total validation loss 0.007921\n",
            "Epoch 98, Total training loss 0.041010, Total validation loss 0.008271\n",
            "Epoch 99, Total training loss 0.040462, Total validation loss 0.008338\n",
            "New model saved!\n",
            "Epoch 100, Total training loss 0.040021, Total validation loss 0.007661\n"
          ],
          "name": "stdout"
        },
        {
          "output_type": "display_data",
          "data": {
            "image/png": "[encoded data removed]",
            "text/plain": [
              "<Figure size 432x288 with 1 Axes>"
            ]
          },
          "metadata": {
            "tags": [],
            "needs_background": "light"
          }
        }
      ]
    },
    {
      "cell_type": "code",
      "metadata": {
        "id": "bQTXNqPNXWIB"
      },
      "source": [
        "# Set MODEL PATH for loading model\n",
        "PATH = \"/content/drive/MyDrive/University Academics/Year 4 EngSci/CSC413 Project/models/AEmodel_100\"\n",
        "\n",
        "model = autoencoder_architecture(num_hidden_channels=64)\n",
        "model.load_state_dict(torch.load(PATH))\n",
        "model.eval()\n",
        "\n",
        "autoencoder = model_container(dataset, model, autoencoder_params)"
      ],
      "execution_count": null,
      "outputs": []
    },
    {
      "cell_type": "code",
      "metadata": {
        "id": "o6I1jZ10RgiP",
        "colab": {
          "base_uri": "https://localhost:8080/"
        },
        "outputId": "c28769cd-436d-412f-c303-6b2bb824f865"
      },
      "source": [
        "autoencoder_test_data, shapes, test_filenames = get_images_from_dir(test_path, cropped=False)\n",
        "test_outputs = autoencoder.inference(autoencoder_test_data, save_path=test_output_path, filenames=test_filenames)"
      ],
      "execution_count": null,
      "outputs": [
        {
          "output_type": "stream",
          "text": [
            "432 / 433\n"
          ],
          "name": "stdout"
        }
      ]
    },
    {
      "cell_type": "code",
      "metadata": {
        "id": "gXDw0e0hfi4P"
      },
      "source": [
        "cv2_imshow(test_outputs[0])"
      ],
      "execution_count": null,
      "outputs": []
    },
    {
      "cell_type": "code",
      "metadata": {
        "id": "Gh4cmVmJXaif"
      },
      "source": [
        "# Generating output for saving\n",
        "outputs = autoencoder.inference(autoencoder_train_data, save_path=output_path, filenames=train_filenames)"
      ],
      "execution_count": null,
      "outputs": []
    },
    {
      "cell_type": "markdown",
      "metadata": {
        "id": "ogqOSbN8-mA_"
      },
      "source": [
        "## Stacker Model\n",
        "Written by Jay Yoo"
      ]
    },
    {
      "cell_type": "code",
      "metadata": {
        "id": "ycdnmoD_Fyiv"
      },
      "source": [
        "class stacker_dataset(Dataset):\n",
        "    def __init__(self, data_to_stack, labels):\n",
        "        super().__init__()\n",
        "        # elements of data_to_stack are all (dataset size, m, n) where images are m x n\n",
        "\n",
        "        self.num_data = len(data_to_stack[0])\n",
        "        self.train_data = torch.cat([torch.unsqueeze(torch.from_numpy(data), dim=1) for data in data_to_stack], dim=1)\n",
        "        self.train_data = self.train_data.type(torch.FloatTensor)\n",
        "            # dataset size x N x m x n where N is the number of inputs to stack\n",
        "        self.labels = torch.from_numpy(labels)\n",
        "        self.labels = self.labels.type(torch.FloatTensor)\n",
        "\n",
        "    def __len__(self):\n",
        "        return self.num_data\n",
        "\n",
        "    def __getitem__(self, idx):\n",
        "        return self.train_data[idx], self.labels[idx]"
      ],
      "execution_count": 14,
      "outputs": []
    },
    {
      "cell_type": "code",
      "metadata": {
        "id": "0i0Cg7CaFzd9"
      },
      "source": [
        "def stacker_layer(in_channels, out_channels, kernel_size=3, stride=1, \\\n",
        "                  padding=1, bias=True, batchnorm=True, activation='relu'):\n",
        "    # Convolution layer that maintains shape \n",
        "        # with optional activation layer and batchnorm\n",
        "    # Use stride = 1, kernel = 3, padding = 1 for convenience\n",
        "    # Activation argument is one of 'relu', 'sigmoid', or 'none\n",
        "\n",
        "    layers = []\n",
        "    # Adding convolutional layer\n",
        "    layers.append(nn.Conv2d(in_channels=in_channels, \\\n",
        "                            out_channels=out_channels, \\\n",
        "                            kernel_size=kernel_size, \\\n",
        "                            stride=stride, \\\n",
        "                            padding=padding, \\\n",
        "                            bias=bias))\n",
        "\n",
        "    # Adding batchnorm\n",
        "    if batchnorm:\n",
        "        layers.append(nn.BatchNorm2d(out_channels))\n",
        "\n",
        "    # Adding activation\n",
        "    if activation == 'relu':\n",
        "        layers.append(nn.ReLU())\n",
        "    elif activation == 'sigmoid':\n",
        "        layers.append(nn.Sigmoid())\n",
        "    elif activation == 'none':\n",
        "        pass\n",
        "    else:\n",
        "        assert False, \"Invalid activation function.\"\n",
        "        \n",
        "    return nn.Sequential(*layers)\n",
        "\n",
        "def check_power_2(val):\n",
        "    # Checks if input val is a power of 2\n",
        "\n",
        "    return (val & (val - 1) == 0) and val != 0\n",
        "\n",
        "class stacker_architecture(nn.Module):\n",
        "    def __init__(self, num_input_types, initial_channels=64, encode_channels=16):\n",
        "        # initial_channels is the initial channels to convolve to\n",
        "        # encode channels is the number of channels to decode to\n",
        "\n",
        "        super().__init__()\n",
        "\n",
        "        assert check_power_2(initial_channels) and \\\n",
        "        check_power_2(encode_channels), \\\n",
        "        \"initial_channels and encode_channels must be powers of 2.\"\n",
        "\n",
        "        num_encode_decode_layers = np.log2(initial_channels // encode_channels).astype(int)\n",
        "        \n",
        "        self.net = []\n",
        "\n",
        "        # First layer\n",
        "        self.net.append(stacker_layer(in_channels=num_input_types, \\\n",
        "                                      out_channels=initial_channels, \\\n",
        "                                      activation='relu', \\\n",
        "                                      batchnorm=True))\n",
        "\n",
        "        # Encoding\n",
        "        for layer_idx in range(0, num_encode_decode_layers):\n",
        "            self.net.append(stacker_layer(in_channels=initial_channels // (2 ** layer_idx), \\\n",
        "                                          out_channels=initial_channels // (2 ** (layer_idx + 1)), \\\n",
        "                                          activation='relu', \\\n",
        "                                          batchnorm=True))\n",
        "        \n",
        "        # Decoding\n",
        "        # Note that no batchnorm in the final decoding layer\n",
        "        for layer_idx in range(0, num_encode_decode_layers):\n",
        "            self.net.append(stacker_layer(in_channels=encode_channels * (2 ** layer_idx), \\\n",
        "                                          out_channels=encode_channels * (2 ** (layer_idx + 1)), \\\n",
        "                                          activation='relu', \\\n",
        "                                          batchnorm=layer_idx != num_encode_decode_layers - 1))\n",
        "\n",
        "        # Final layer\n",
        "        self.net.append(stacker_layer(in_channels=initial_channels, \\\n",
        "                                      out_channels=1, \\\n",
        "                                      activation='sigmoid', \\\n",
        "                                      batchnorm=False))\n",
        "        \n",
        "        self.net = nn.Sequential(*self.net)\n",
        "    \n",
        "    def forward(self, concatenated_inputs):\n",
        "        output = self.net(concatenated_inputs)\n",
        "        return output.squeeze()"
      ],
      "execution_count": 15,
      "outputs": []
    },
    {
      "cell_type": "code",
      "metadata": {
        "id": "CSeOtprGXLYi"
      },
      "source": [
        "from_scratch = True\n",
        "save_produced_data = False"
      ],
      "execution_count": 22,
      "outputs": []
    },
    {
      "cell_type": "code",
      "metadata": {
        "id": "sVxM3_P_HYwa",
        "colab": {
          "base_uri": "https://localhost:8080/",
          "height": 264
        },
        "outputId": "061b6d5e-7012-44a3-ba8a-af59078bbd27"
      },
      "source": [
        "if from_scratch:\n",
        "  num_data = None\n",
        "  # 2000 is too large\n",
        "  # 1000 works\n",
        "\n",
        "  stacker_train_data = []\n",
        "\n",
        "  train_data_paths = [train_0_cropped, train_1_cropped, train_2_cropped, train_3_cropped, train_4_cropped]\n",
        "\n",
        "  for data_path in train_data_paths:\n",
        "    train_data, _, _ = get_images_from_dir(data_path, stop_idx=num_data)\n",
        "    stacker_train_data.append(np.expand_dims(train_data, axis=0))\n",
        "\n",
        "  stacker_train_data_np = np.concatenate(stacker_train_data, axis=0)\n",
        "  del stacker_train_data\n",
        "\n",
        "  if save_produced_data:\n",
        "    # Only works for jay_path\n",
        "    if select_path == jay_path:\n",
        "      with open(os.path.join(select_path, \"stacker_train_data.npy\"), 'wb') as f:\n",
        "          np.save(f, stacker_train_data_np)\n",
        "\n",
        "  stacker_labels, _, _ = get_images_from_dir(train_label_path_cropped, stop_idx=num_data)\n",
        "\n",
        "  if save_produced_data:\n",
        "    # Only works for jay_path\n",
        "    if select_path == jay_path:\n",
        "      with open(os.path.join(select_path, \"stacker_labels.npy\"), 'wb') as f:\n",
        "          np.save(f, stacker_labels)\n",
        "else:\n",
        "  # Only works for jay_path\n",
        "  if select_path == jay_path:\n",
        "    stacker_train_data_np = np.load(os.path.join(select_path, \"stacker_train_data.npy\"))\n",
        "    # Only works for jay_path\n",
        "    stacker_labels = np.load(os.path.join(select_path, \"stacker_labels.npy\"))"
      ],
      "execution_count": 19,
      "outputs": [
        {
          "output_type": "stream",
          "text": [
            "2447 / 2448\n"
          ],
          "name": "stdout"
        },
        {
          "output_type": "error",
          "ename": "NameError",
          "evalue": "ignored",
          "traceback": [
            "\u001b[0;31m---------------------------------------------------------------------------\u001b[0m",
            "\u001b[0;31mNameError\u001b[0m                                 Traceback (most recent call last)",
            "\u001b[0;32m<ipython-input-19-bba4332e9d7b>\u001b[0m in \u001b[0;36m<module>\u001b[0;34m()\u001b[0m\n\u001b[1;32m     15\u001b[0m   \u001b[0;32mdel\u001b[0m \u001b[0mstacker_train_data\u001b[0m\u001b[0;34m\u001b[0m\u001b[0;34m\u001b[0m\u001b[0m\n\u001b[1;32m     16\u001b[0m \u001b[0;34m\u001b[0m\u001b[0m\n\u001b[0;32m---> 17\u001b[0;31m   \u001b[0;32mif\u001b[0m \u001b[0msave_produced_data\u001b[0m\u001b[0;34m:\u001b[0m\u001b[0;34m\u001b[0m\u001b[0;34m\u001b[0m\u001b[0m\n\u001b[0m\u001b[1;32m     18\u001b[0m     \u001b[0;31m# Only works for jay_path\u001b[0m\u001b[0;34m\u001b[0m\u001b[0;34m\u001b[0m\u001b[0;34m\u001b[0m\u001b[0m\n\u001b[1;32m     19\u001b[0m     \u001b[0;32mif\u001b[0m \u001b[0mselect_path\u001b[0m \u001b[0;34m==\u001b[0m \u001b[0mjay_path\u001b[0m\u001b[0;34m:\u001b[0m\u001b[0;34m\u001b[0m\u001b[0;34m\u001b[0m\u001b[0m\n",
            "\u001b[0;31mNameError\u001b[0m: name 'save_produced_data' is not defined"
          ]
        }
      ]
    },
    {
      "cell_type": "code",
      "metadata": {
        "colab": {
          "base_uri": "https://localhost:8080/"
        },
        "id": "ywWeoKejTmkD",
        "outputId": "dd767c35-ea20-4cbf-b5f6-fb06a744346a"
      },
      "source": [
        "print(stacker_train_data_np.shape)\n",
        "print(stacker_labels.shape)"
      ],
      "execution_count": 23,
      "outputs": [
        {
          "output_type": "stream",
          "text": [
            "(5, 2448, 256, 256)\n",
            "(2448, 256, 256)\n"
          ],
          "name": "stdout"
        }
      ]
    },
    {
      "cell_type": "code",
      "metadata": {
        "id": "KET7UXauPTfO"
      },
      "source": [
        "dataset = stacker_dataset(stacker_train_data_np, stacker_labels)\n",
        "stacker_model = stacker_architecture(num_input_types = len(stacker_train_data_np))\n",
        "stacker_params = prepare_params(batch_size=32, summary_epoch_interval=1, num_epochs=300, learning_rate=1e-4, model_save_path=os.path.join(select_path, \"stacker_models\", \"stacker_model\"))"
      ],
      "execution_count": 24,
      "outputs": []
    },
    {
      "cell_type": "code",
      "metadata": {
        "id": "ecUZKGsJXcQ8"
      },
      "source": [
        "stacker = model_container(dataset, stacker_model, stacker_params)"
      ],
      "execution_count": 25,
      "outputs": []
    },
    {
      "cell_type": "code",
      "metadata": {
        "colab": {
          "base_uri": "https://localhost:8080/",
          "height": 1000
        },
        "id": "3dNB2vA-YZKw",
        "outputId": "b25227ba-0357-4ca1-b480-c86c1a19e093"
      },
      "source": [
        "stacker.train()"
      ],
      "execution_count": 26,
      "outputs": [
        {
          "output_type": "stream",
          "text": [
            "/usr/local/lib/python3.7/dist-packages/torch/nn/modules/loss.py:528: UserWarning: Using a target size (torch.Size([1, 256, 256])) that is different to the input size (torch.Size([256, 256])). This will likely lead to incorrect results due to broadcasting. Please ensure they have the same size.\n",
            "  return F.mse_loss(input, target, reduction=self.reduction)\n"
          ],
          "name": "stderr"
        },
        {
          "output_type": "stream",
          "text": [
            "New model saved!\n",
            "Epoch 1, Total training loss 6.857085, Total validation loss 0.335055\n",
            "New model saved!\n",
            "Epoch 2, Total training loss 0.510578, Total validation loss 0.040794\n",
            "New model saved!\n",
            "Epoch 3, Total training loss 0.170757, Total validation loss 0.025992\n",
            "New model saved!\n",
            "Epoch 4, Total training loss 0.126762, Total validation loss 0.022300\n",
            "New model saved!\n",
            "Epoch 5, Total training loss 0.110168, Total validation loss 0.019628\n",
            "New model saved!\n",
            "Epoch 6, Total training loss 0.100775, Total validation loss 0.018030\n",
            "New model saved!\n",
            "Epoch 7, Total training loss 0.093269, Total validation loss 0.016866\n",
            "New model saved!\n",
            "Epoch 8, Total training loss 0.088068, Total validation loss 0.016410\n",
            "New model saved!\n",
            "Epoch 9, Total training loss 0.083394, Total validation loss 0.015269\n",
            "New model saved!\n",
            "Epoch 10, Total training loss 0.079862, Total validation loss 0.014606\n",
            "Epoch 11, Total training loss 0.077036, Total validation loss 0.015723\n",
            "New model saved!\n",
            "Epoch 12, Total training loss 0.074903, Total validation loss 0.014029\n",
            "Epoch 13, Total training loss 0.071783, Total validation loss 0.015955\n",
            "New model saved!\n",
            "Epoch 14, Total training loss 0.070648, Total validation loss 0.013333\n",
            "Epoch 15, Total training loss 0.068382, Total validation loss 0.017590\n",
            "New model saved!\n",
            "Epoch 16, Total training loss 0.068002, Total validation loss 0.012567\n",
            "Epoch 17, Total training loss 0.065329, Total validation loss 0.013627\n",
            "Epoch 18, Total training loss 0.064514, Total validation loss 0.012803\n",
            "New model saved!\n",
            "Epoch 19, Total training loss 0.062026, Total validation loss 0.011802\n",
            "New model saved!\n",
            "Epoch 20, Total training loss 0.060610, Total validation loss 0.011156\n",
            "New model saved!\n",
            "Epoch 21, Total training loss 0.059057, Total validation loss 0.010859\n",
            "New model saved!\n",
            "Epoch 22, Total training loss 0.058420, Total validation loss 0.010681\n",
            "New model saved!\n",
            "Epoch 23, Total training loss 0.057783, Total validation loss 0.010530\n",
            "Epoch 24, Total training loss 0.056245, Total validation loss 0.011592\n",
            "New model saved!\n",
            "Epoch 25, Total training loss 0.055424, Total validation loss 0.010147\n",
            "Epoch 26, Total training loss 0.054267, Total validation loss 0.010706\n",
            "Epoch 27, Total training loss 0.053452, Total validation loss 0.014427\n",
            "New model saved!\n",
            "Epoch 28, Total training loss 0.054382, Total validation loss 0.009675\n",
            "New model saved!\n",
            "Epoch 29, Total training loss 0.051519, Total validation loss 0.009499\n",
            "New model saved!\n",
            "Epoch 30, Total training loss 0.050570, Total validation loss 0.009207\n",
            "Epoch 31, Total training loss 0.049171, Total validation loss 0.009278\n",
            "Epoch 32, Total training loss 0.049728, Total validation loss 0.010141\n",
            "New model saved!\n",
            "Epoch 33, Total training loss 0.048163, Total validation loss 0.009101\n",
            "New model saved!\n",
            "Epoch 34, Total training loss 0.046995, Total validation loss 0.008657\n",
            "New model saved!\n",
            "Epoch 35, Total training loss 0.045545, Total validation loss 0.008484\n",
            "Epoch 36, Total training loss 0.046685, Total validation loss 0.021868\n",
            "Epoch 37, Total training loss 0.048582, Total validation loss 0.009120\n",
            "New model saved!\n",
            "Epoch 38, Total training loss 0.043843, Total validation loss 0.008048\n",
            "New model saved!\n",
            "Epoch 39, Total training loss 0.041975, Total validation loss 0.007850\n",
            "New model saved!\n",
            "Epoch 40, Total training loss 0.041228, Total validation loss 0.007766\n",
            "New model saved!\n",
            "Epoch 41, Total training loss 0.041116, Total validation loss 0.007619\n",
            "New model saved!\n",
            "Epoch 42, Total training loss 0.040447, Total validation loss 0.007474\n",
            "Epoch 43, Total training loss 0.039781, Total validation loss 0.007791\n",
            "New model saved!\n",
            "Epoch 44, Total training loss 0.039869, Total validation loss 0.007207\n",
            "Epoch 45, Total training loss 0.038141, Total validation loss 0.007444\n",
            "Epoch 46, Total training loss 0.037635, Total validation loss 0.007361\n",
            "Epoch 47, Total training loss 0.037454, Total validation loss 0.008642\n",
            "Epoch 48, Total training loss 0.037760, Total validation loss 0.007780\n",
            "New model saved!\n",
            "Epoch 49, Total training loss 0.036647, Total validation loss 0.006823\n",
            "New model saved!\n",
            "Epoch 50, Total training loss 0.035588, Total validation loss 0.006677\n",
            "Epoch 51, Total training loss 0.035552, Total validation loss 0.006743\n",
            "Epoch 52, Total training loss 0.035457, Total validation loss 0.006943\n",
            "Epoch 53, Total training loss 0.035024, Total validation loss 0.006706\n",
            "New model saved!\n",
            "Epoch 54, Total training loss 0.034396, Total validation loss 0.006402\n",
            "Epoch 55, Total training loss 0.033848, Total validation loss 0.006572\n",
            "Epoch 56, Total training loss 0.034276, Total validation loss 0.008004\n",
            "Epoch 57, Total training loss 0.034016, Total validation loss 0.006696\n",
            "Epoch 58, Total training loss 0.033189, Total validation loss 0.006893\n",
            "Epoch 59, Total training loss 0.033596, Total validation loss 0.007102\n",
            "New model saved!\n",
            "Epoch 60, Total training loss 0.033175, Total validation loss 0.006176\n",
            "Epoch 61, Total training loss 0.032777, Total validation loss 0.006708\n",
            "Epoch 62, Total training loss 0.033313, Total validation loss 0.007844\n",
            "Epoch 63, Total training loss 0.032495, Total validation loss 0.006319\n",
            "Epoch 64, Total training loss 0.032059, Total validation loss 0.006273\n",
            "Epoch 65, Total training loss 0.032334, Total validation loss 0.006438\n",
            "New model saved!\n",
            "Epoch 66, Total training loss 0.031522, Total validation loss 0.006102\n",
            "New model saved!\n",
            "Epoch 67, Total training loss 0.032171, Total validation loss 0.005978\n",
            "Epoch 68, Total training loss 0.031078, Total validation loss 0.007403\n",
            "New model saved!\n",
            "Epoch 69, Total training loss 0.030895, Total validation loss 0.005762\n",
            "Epoch 70, Total training loss 0.031396, Total validation loss 0.006313\n",
            "Epoch 71, Total training loss 0.030646, Total validation loss 0.005780\n",
            "Epoch 72, Total training loss 0.030283, Total validation loss 0.008926\n",
            "New model saved!\n",
            "Epoch 73, Total training loss 0.030884, Total validation loss 0.005711\n",
            "New model saved!\n",
            "Epoch 74, Total training loss 0.030172, Total validation loss 0.005611\n",
            "New model saved!\n",
            "Epoch 75, Total training loss 0.029707, Total validation loss 0.005543\n",
            "New model saved!\n",
            "Epoch 76, Total training loss 0.029561, Total validation loss 0.005499\n",
            "Epoch 77, Total training loss 0.029351, Total validation loss 0.005913\n",
            "New model saved!\n",
            "Epoch 78, Total training loss 0.029261, Total validation loss 0.005463\n",
            "Epoch 79, Total training loss 0.029994, Total validation loss 0.007270\n",
            "Epoch 80, Total training loss 0.030136, Total validation loss 0.005522\n",
            "Epoch 81, Total training loss 0.029032, Total validation loss 0.005627\n",
            "Epoch 82, Total training loss 0.029022, Total validation loss 0.006252\n",
            "New model saved!\n",
            "Epoch 83, Total training loss 0.029092, Total validation loss 0.005398\n",
            "Epoch 84, Total training loss 0.028891, Total validation loss 0.005534\n",
            "Epoch 85, Total training loss 0.028439, Total validation loss 0.005492\n",
            "Epoch 86, Total training loss 0.028490, Total validation loss 0.007040\n",
            "New model saved!\n",
            "Epoch 87, Total training loss 0.028881, Total validation loss 0.005291\n",
            "Epoch 88, Total training loss 0.028269, Total validation loss 0.005528\n",
            "Epoch 89, Total training loss 0.028280, Total validation loss 0.005454\n",
            "New model saved!\n",
            "Epoch 90, Total training loss 0.028084, Total validation loss 0.005258\n",
            "Epoch 91, Total training loss 0.028508, Total validation loss 0.005917\n",
            "New model saved!\n",
            "Epoch 92, Total training loss 0.028813, Total validation loss 0.005236\n",
            "Epoch 93, Total training loss 0.027834, Total validation loss 0.005445\n",
            "Epoch 94, Total training loss 0.028034, Total validation loss 0.005362\n",
            "New model saved!\n",
            "Epoch 95, Total training loss 0.027808, Total validation loss 0.005217\n",
            "Epoch 96, Total training loss 0.027149, Total validation loss 0.005217\n",
            "Epoch 97, Total training loss 0.027329, Total validation loss 0.005585\n",
            "Epoch 98, Total training loss 0.027335, Total validation loss 0.005342\n",
            "Epoch 99, Total training loss 0.027013, Total validation loss 0.005217\n",
            "New model saved!\n",
            "Epoch 100, Total training loss 0.027298, Total validation loss 0.005156\n",
            "Epoch 101, Total training loss 0.027207, Total validation loss 0.006715\n",
            "New model saved!\n",
            "Epoch 102, Total training loss 0.028094, Total validation loss 0.005095\n",
            "Epoch 103, Total training loss 0.026464, Total validation loss 0.005134\n",
            "New model saved!\n",
            "Epoch 104, Total training loss 0.026448, Total validation loss 0.005064\n",
            "Epoch 105, Total training loss 0.026178, Total validation loss 0.005114\n",
            "New model saved!\n",
            "Epoch 106, Total training loss 0.026325, Total validation loss 0.005060\n",
            "Epoch 107, Total training loss 0.026475, Total validation loss 0.005223\n",
            "Epoch 108, Total training loss 0.026266, Total validation loss 0.007243\n",
            "Epoch 109, Total training loss 0.027059, Total validation loss 0.005169\n",
            "New model saved!\n",
            "Epoch 110, Total training loss 0.026163, Total validation loss 0.004872\n",
            "Epoch 111, Total training loss 0.026392, Total validation loss 0.005154\n",
            "New model saved!\n",
            "Epoch 112, Total training loss 0.025842, Total validation loss 0.004833\n",
            "Epoch 113, Total training loss 0.026010, Total validation loss 0.004910\n",
            "New model saved!\n",
            "Epoch 114, Total training loss 0.026309, Total validation loss 0.004790\n",
            "Epoch 115, Total training loss 0.026265, Total validation loss 0.005076\n",
            "Epoch 116, Total training loss 0.026082, Total validation loss 0.004855\n",
            "Epoch 117, Total training loss 0.026312, Total validation loss 0.004839\n",
            "Epoch 118, Total training loss 0.025953, Total validation loss 0.005454\n",
            "Epoch 119, Total training loss 0.025846, Total validation loss 0.004791\n",
            "Epoch 120, Total training loss 0.025133, Total validation loss 0.004870\n",
            "Epoch 121, Total training loss 0.025479, Total validation loss 0.006251\n",
            "Epoch 122, Total training loss 0.026199, Total validation loss 0.007478\n",
            "Epoch 123, Total training loss 0.025973, Total validation loss 0.004844\n",
            "Epoch 124, Total training loss 0.025277, Total validation loss 0.008806\n",
            "New model saved!\n",
            "Epoch 125, Total training loss 0.027751, Total validation loss 0.004687\n",
            "Epoch 126, Total training loss 0.024781, Total validation loss 0.004794\n",
            "Epoch 127, Total training loss 0.024748, Total validation loss 0.004725\n",
            "Epoch 128, Total training loss 0.024727, Total validation loss 0.004816\n",
            "Epoch 129, Total training loss 0.024886, Total validation loss 0.005039\n",
            "Epoch 130, Total training loss 0.024799, Total validation loss 0.004767\n",
            "Epoch 131, Total training loss 0.024363, Total validation loss 0.004840\n",
            "Epoch 132, Total training loss 0.024597, Total validation loss 0.004839\n",
            "New model saved!\n",
            "Epoch 133, Total training loss 0.024462, Total validation loss 0.004660\n",
            "Epoch 134, Total training loss 0.024372, Total validation loss 0.004760\n",
            "Epoch 135, Total training loss 0.024433, Total validation loss 0.005131\n",
            "Epoch 136, Total training loss 0.024158, Total validation loss 0.007530\n",
            "New model saved!\n",
            "Epoch 137, Total training loss 0.024847, Total validation loss 0.004516\n",
            "Epoch 138, Total training loss 0.024071, Total validation loss 0.004552\n",
            "Epoch 139, Total training loss 0.024129, Total validation loss 0.006172\n",
            "Epoch 140, Total training loss 0.025219, Total validation loss 0.004931\n",
            "Epoch 141, Total training loss 0.024076, Total validation loss 0.004697\n",
            "Epoch 142, Total training loss 0.024119, Total validation loss 0.004905\n",
            "Epoch 143, Total training loss 0.023878, Total validation loss 0.005843\n",
            "Epoch 144, Total training loss 0.024500, Total validation loss 0.004799\n",
            "Epoch 145, Total training loss 0.023889, Total validation loss 0.005011\n",
            "Epoch 146, Total training loss 0.023475, Total validation loss 0.005172\n",
            "Epoch 147, Total training loss 0.023691, Total validation loss 0.005762\n",
            "Epoch 148, Total training loss 0.023865, Total validation loss 0.004656\n",
            "Epoch 149, Total training loss 0.025162, Total validation loss 0.006913\n",
            "Epoch 150, Total training loss 0.024417, Total validation loss 0.004775\n",
            "Epoch 151, Total training loss 0.024506, Total validation loss 0.004662\n",
            "Epoch 152, Total training loss 0.023200, Total validation loss 0.004786\n",
            "New model saved!\n",
            "Epoch 153, Total training loss 0.023975, Total validation loss 0.004409\n",
            "Epoch 154, Total training loss 0.023146, Total validation loss 0.005167\n",
            "Epoch 155, Total training loss 0.023592, Total validation loss 0.004708\n",
            "New model saved!\n",
            "Epoch 156, Total training loss 0.023267, Total validation loss 0.004270\n",
            "Epoch 157, Total training loss 0.023271, Total validation loss 0.004461\n",
            "Epoch 158, Total training loss 0.022924, Total validation loss 0.004322\n",
            "New model saved!\n",
            "Epoch 159, Total training loss 0.022515, Total validation loss 0.004242\n",
            "Epoch 160, Total training loss 0.023032, Total validation loss 0.004451\n",
            "Epoch 161, Total training loss 0.023123, Total validation loss 0.004254\n",
            "Epoch 162, Total training loss 0.022438, Total validation loss 0.004452\n",
            "Epoch 163, Total training loss 0.022559, Total validation loss 0.004402\n",
            "New model saved!\n",
            "Epoch 164, Total training loss 0.022429, Total validation loss 0.004187\n",
            "Epoch 165, Total training loss 0.022562, Total validation loss 0.004258\n",
            "Epoch 166, Total training loss 0.022384, Total validation loss 0.004299\n",
            "Epoch 167, Total training loss 0.022824, Total validation loss 0.004620\n",
            "Epoch 168, Total training loss 0.022348, Total validation loss 0.004380\n",
            "Epoch 169, Total training loss 0.022598, Total validation loss 0.004268\n",
            "New model saved!\n",
            "Epoch 170, Total training loss 0.022088, Total validation loss 0.004149\n",
            "Epoch 171, Total training loss 0.022860, Total validation loss 0.004436\n",
            "Epoch 172, Total training loss 0.023298, Total validation loss 0.004675\n",
            "Epoch 173, Total training loss 0.022366, Total validation loss 0.004263\n",
            "Epoch 174, Total training loss 0.021955, Total validation loss 0.004730\n",
            "Epoch 175, Total training loss 0.021942, Total validation loss 0.004163\n",
            "New model saved!\n",
            "Epoch 176, Total training loss 0.021664, Total validation loss 0.004103\n",
            "Epoch 177, Total training loss 0.021947, Total validation loss 0.005017\n",
            "Epoch 178, Total training loss 0.022165, Total validation loss 0.004113\n",
            "Epoch 179, Total training loss 0.021993, Total validation loss 0.004139\n",
            "Epoch 180, Total training loss 0.021993, Total validation loss 0.004219\n",
            "Epoch 181, Total training loss 0.021424, Total validation loss 0.004139\n",
            "Epoch 182, Total training loss 0.021657, Total validation loss 0.005903\n",
            "Epoch 183, Total training loss 0.022033, Total validation loss 0.004869\n",
            "Epoch 184, Total training loss 0.021900, Total validation loss 0.004370\n",
            "Epoch 185, Total training loss 0.021801, Total validation loss 0.005834\n",
            "Epoch 186, Total training loss 0.022061, Total validation loss 0.004433\n",
            "New model saved!\n",
            "Epoch 187, Total training loss 0.021559, Total validation loss 0.004050\n",
            "New model saved!\n",
            "Epoch 188, Total training loss 0.021120, Total validation loss 0.003994\n",
            "Epoch 189, Total training loss 0.021171, Total validation loss 0.004259\n",
            "New model saved!\n",
            "Epoch 190, Total training loss 0.020951, Total validation loss 0.003978\n",
            "Epoch 191, Total training loss 0.020979, Total validation loss 0.004567\n",
            "New model saved!\n",
            "Epoch 192, Total training loss 0.021351, Total validation loss 0.003935\n",
            "Epoch 193, Total training loss 0.021056, Total validation loss 0.004459\n",
            "Epoch 194, Total training loss 0.021071, Total validation loss 0.004064\n",
            "Epoch 195, Total training loss 0.020752, Total validation loss 0.004475\n",
            "New model saved!\n",
            "Epoch 196, Total training loss 0.021047, Total validation loss 0.003905\n",
            "Epoch 197, Total training loss 0.020783, Total validation loss 0.004304\n",
            "Epoch 198, Total training loss 0.021850, Total validation loss 0.004490\n",
            "Epoch 199, Total training loss 0.020749, Total validation loss 0.003921\n",
            "Epoch 200, Total training loss 0.020489, Total validation loss 0.004522\n",
            "Epoch 201, Total training loss 0.020609, Total validation loss 0.004012\n",
            "Epoch 202, Total training loss 0.021440, Total validation loss 0.006970\n",
            "Epoch 203, Total training loss 0.021961, Total validation loss 0.004025\n",
            "Epoch 204, Total training loss 0.020587, Total validation loss 0.003938\n",
            "Epoch 205, Total training loss 0.020908, Total validation loss 0.004202\n",
            "Epoch 206, Total training loss 0.022216, Total validation loss 0.004386\n",
            "Epoch 207, Total training loss 0.020580, Total validation loss 0.004388\n",
            "New model saved!\n",
            "Epoch 208, Total training loss 0.021667, Total validation loss 0.003843\n",
            "Epoch 209, Total training loss 0.020614, Total validation loss 0.006012\n",
            "Epoch 210, Total training loss 0.021075, Total validation loss 0.004162\n",
            "New model saved!\n",
            "Epoch 211, Total training loss 0.020415, Total validation loss 0.003797\n",
            "New model saved!\n",
            "Epoch 212, Total training loss 0.019949, Total validation loss 0.003752\n",
            "Epoch 213, Total training loss 0.019915, Total validation loss 0.004457\n",
            "Epoch 214, Total training loss 0.020368, Total validation loss 0.003921\n",
            "Epoch 215, Total training loss 0.020458, Total validation loss 0.003920\n",
            "Epoch 216, Total training loss 0.020607, Total validation loss 0.005440\n",
            "Epoch 217, Total training loss 0.020988, Total validation loss 0.003809\n",
            "Epoch 218, Total training loss 0.019626, Total validation loss 0.003793\n",
            "Epoch 219, Total training loss 0.021269, Total validation loss 0.004289\n",
            "New model saved!\n",
            "Epoch 220, Total training loss 0.019831, Total validation loss 0.003708\n",
            "Epoch 221, Total training loss 0.019773, Total validation loss 0.005037\n",
            "New model saved!\n",
            "Epoch 222, Total training loss 0.019979, Total validation loss 0.003683\n",
            "Epoch 223, Total training loss 0.019787, Total validation loss 0.003752\n",
            "Epoch 224, Total training loss 0.019573, Total validation loss 0.003993\n",
            "Epoch 225, Total training loss 0.019825, Total validation loss 0.003685\n",
            "Epoch 226, Total training loss 0.019394, Total validation loss 0.003817\n",
            "Epoch 227, Total training loss 0.019616, Total validation loss 0.003832\n",
            "Epoch 228, Total training loss 0.019163, Total validation loss 0.003788\n",
            "Epoch 229, Total training loss 0.019838, Total validation loss 0.003711\n",
            "Epoch 230, Total training loss 0.019532, Total validation loss 0.005027\n",
            "New model saved!\n",
            "Epoch 231, Total training loss 0.019440, Total validation loss 0.003587\n",
            "Epoch 232, Total training loss 0.019120, Total validation loss 0.003684\n",
            "Epoch 233, Total training loss 0.019207, Total validation loss 0.003762\n",
            "Epoch 234, Total training loss 0.019190, Total validation loss 0.003862\n",
            "Epoch 235, Total training loss 0.019006, Total validation loss 0.003686\n",
            "Epoch 236, Total training loss 0.018789, Total validation loss 0.003681\n",
            "New model saved!\n",
            "Epoch 237, Total training loss 0.018956, Total validation loss 0.003546\n",
            "Epoch 238, Total training loss 0.018804, Total validation loss 0.004078\n",
            "Epoch 239, Total training loss 0.018741, Total validation loss 0.003555\n",
            "Epoch 240, Total training loss 0.018518, Total validation loss 0.003582\n",
            "New model saved!\n",
            "Epoch 241, Total training loss 0.018840, Total validation loss 0.003537\n",
            "Epoch 242, Total training loss 0.018733, Total validation loss 0.003545\n",
            "Epoch 243, Total training loss 0.018637, Total validation loss 0.003753\n",
            "Epoch 244, Total training loss 0.019032, Total validation loss 0.003852\n",
            "Epoch 245, Total training loss 0.019363, Total validation loss 0.006805\n",
            "Epoch 246, Total training loss 0.021393, Total validation loss 0.004146\n",
            "New model saved!\n",
            "Epoch 247, Total training loss 0.019140, Total validation loss 0.003531\n",
            "Epoch 248, Total training loss 0.018383, Total validation loss 0.003998\n",
            "Epoch 249, Total training loss 0.019041, Total validation loss 0.003557\n",
            "Epoch 250, Total training loss 0.018413, Total validation loss 0.003900\n",
            "Epoch 251, Total training loss 0.019374, Total validation loss 0.007973\n",
            "Epoch 252, Total training loss 0.021749, Total validation loss 0.003864\n",
            "New model saved!\n",
            "Epoch 253, Total training loss 0.018533, Total validation loss 0.003439\n",
            "Epoch 254, Total training loss 0.018007, Total validation loss 0.003668\n",
            "Epoch 255, Total training loss 0.018234, Total validation loss 0.003479\n",
            "Epoch 256, Total training loss 0.018062, Total validation loss 0.003494\n",
            "Epoch 257, Total training loss 0.017913, Total validation loss 0.003469\n",
            "Epoch 258, Total training loss 0.018024, Total validation loss 0.003478\n",
            "Epoch 259, Total training loss 0.017934, Total validation loss 0.003446\n",
            "Epoch 260, Total training loss 0.018246, Total validation loss 0.003518\n",
            "Epoch 261, Total training loss 0.018202, Total validation loss 0.003510\n",
            "Epoch 262, Total training loss 0.017886, Total validation loss 0.003496\n",
            "Epoch 263, Total training loss 0.017967, Total validation loss 0.003447\n",
            "Epoch 264, Total training loss 0.017981, Total validation loss 0.003562\n",
            "Epoch 265, Total training loss 0.017956, Total validation loss 0.004531\n",
            "Epoch 266, Total training loss 0.018276, Total validation loss 0.003589\n",
            "Epoch 267, Total training loss 0.018067, Total validation loss 0.003493\n",
            "Epoch 268, Total training loss 0.018036, Total validation loss 0.003907\n",
            "Epoch 269, Total training loss 0.017967, Total validation loss 0.003764\n",
            "Epoch 270, Total training loss 0.017722, Total validation loss 0.003553\n",
            "Epoch 271, Total training loss 0.017849, Total validation loss 0.003787\n",
            "New model saved!\n",
            "Epoch 272, Total training loss 0.018159, Total validation loss 0.003354\n",
            "Epoch 273, Total training loss 0.017567, Total validation loss 0.003548\n",
            "Epoch 274, Total training loss 0.017452, Total validation loss 0.003445\n",
            "Epoch 275, Total training loss 0.017748, Total validation loss 0.003706\n",
            "Epoch 276, Total training loss 0.017679, Total validation loss 0.003964\n",
            "Epoch 277, Total training loss 0.017663, Total validation loss 0.003578\n",
            "Epoch 278, Total training loss 0.017821, Total validation loss 0.004160\n",
            "Epoch 279, Total training loss 0.017972, Total validation loss 0.005486\n",
            "Epoch 280, Total training loss 0.018393, Total validation loss 0.003557\n",
            "Epoch 281, Total training loss 0.017567, Total validation loss 0.003893\n",
            "Epoch 282, Total training loss 0.017554, Total validation loss 0.003358\n",
            "Epoch 283, Total training loss 0.017308, Total validation loss 0.003364\n",
            "Epoch 284, Total training loss 0.017509, Total validation loss 0.003409\n",
            "Epoch 285, Total training loss 0.017230, Total validation loss 0.003428\n",
            "Epoch 286, Total training loss 0.017518, Total validation loss 0.003814\n",
            "New model saved!\n",
            "Epoch 287, Total training loss 0.017311, Total validation loss 0.003285\n",
            "Epoch 288, Total training loss 0.017422, Total validation loss 0.005043\n",
            "Epoch 289, Total training loss 0.017916, Total validation loss 0.003404\n",
            "Epoch 290, Total training loss 0.017257, Total validation loss 0.003523\n",
            "Epoch 291, Total training loss 0.017602, Total validation loss 0.004128\n",
            "Epoch 292, Total training loss 0.017808, Total validation loss 0.004064\n",
            "Epoch 293, Total training loss 0.017299, Total validation loss 0.003293\n",
            "Epoch 294, Total training loss 0.016900, Total validation loss 0.003625\n",
            "Epoch 295, Total training loss 0.017089, Total validation loss 0.003337\n",
            "Epoch 296, Total training loss 0.017235, Total validation loss 0.004676\n",
            "New model saved!\n",
            "Epoch 297, Total training loss 0.017856, Total validation loss 0.003249\n",
            "Epoch 298, Total training loss 0.016915, Total validation loss 0.003360\n",
            "Epoch 299, Total training loss 0.016942, Total validation loss 0.003327\n",
            "Epoch 300, Total training loss 0.017432, Total validation loss 0.003873\n"
          ],
          "name": "stdout"
        },
        {
          "output_type": "display_data",
          "data": {
            "image/png": "[encoded data removed]",
            "text/plain": [
              "<Figure size 432x288 with 1 Axes>"
            ]
          },
          "metadata": {
            "tags": [],
            "needs_background": "light"
          }
        }
      ]
    },
    {
      "cell_type": "code",
      "metadata": {
        "id": "nx4-4EgIwxt7"
      },
      "source": [
        ""
      ],
      "execution_count": null,
      "outputs": []
    },
    {
      "cell_type": "code",
      "metadata": {
        "id": "rnrqjLb0ewq7"
      },
      "source": [
        "# Set MODEL PATH for loading model\n",
        "PATH = os.path.join(select_path, \"stacker_models\", \"stacker_model_297\")\n",
        "model = stacker_architecture(num_input_types = len(stacker_train_data_np))\n",
        "model.load_state_dict(torch.load(PATH))\n",
        "model.eval()\n",
        "\n",
        "stacker = model_container(dataset, model, stacker_params)"
      ],
      "execution_count": 27,
      "outputs": []
    },
    {
      "cell_type": "code",
      "metadata": {
        "id": "6cBM19iutCb9"
      },
      "source": [
        ""
      ],
      "execution_count": 27,
      "outputs": []
    },
    {
      "cell_type": "code",
      "metadata": {
        "colab": {
          "base_uri": "https://localhost:8080/"
        },
        "id": "rizdObLwt9Zh",
        "outputId": "7507d0a1-67ba-4d42-fbd7-5fa40e988cea"
      },
      "source": [
        "autoencoder_test_data, _, test_filenames = get_images_from_dir(os.path.join(test_path, \"autoencoder\"), cropped=False)"
      ],
      "execution_count": 28,
      "outputs": [
        {
          "output_type": "stream",
          "text": [
            "431 / 432\n"
          ],
          "name": "stdout"
        }
      ]
    },
    {
      "cell_type": "code",
      "metadata": {
        "colab": {
          "base_uri": "https://localhost:8080/"
        },
        "id": "H7_XddsouQ0c",
        "outputId": "13e3859f-76a5-4775-9f8c-dbf6357bbf36"
      },
      "source": [
        "print(test_filenames)"
      ],
      "execution_count": null,
      "outputs": [
        {
          "output_type": "stream",
          "text": [
            "['img_0120.png', 'img_0121.png', 'img_0122.png', 'img_0123.png', 'img_0124.png', 'img_0125.png', 'img_0126.png', 'img_0127.png', 'img_0152.png', 'img_0153.png', 'img_0154.png', 'img_0155.png', 'img_0156.png', 'img_0157.png', 'img_0158.png', 'img_0159.png', 'img_0160.png', 'img_0161.png', 'img_0162.png', 'img_0163.png', 'img_0164.png', 'img_0165.png', 'img_0166.png', 'img_0167.png', 'img_0256.png', 'img_0257.png', 'img_0258.png', 'img_0259.png', 'img_0260.png', 'img_0261.png', 'img_0262.png', 'img_0263.png', 'img_0264.png', 'img_0265.png', 'img_0266.png', 'img_0267.png', 'img_0268.png', 'img_0269.png', 'img_0270.png', 'img_0271.png', 'img_0272.png', 'img_0273.png', 'img_0274.png', 'img_0275.png', 'img_0276.png', 'img_0277.png', 'img_0278.png', 'img_0279.png', 'img_0328.png', 'img_0329.png', 'img_0330.png', 'img_0331.png', 'img_0332.png', 'img_0333.png', 'img_0334.png', 'img_0335.png', 'img_0384.png', 'img_0385.png', 'img_0386.png', 'img_0387.png', 'img_0388.png', 'img_0389.png', 'img_0390.png', 'img_0391.png', 'img_0392.png', 'img_0393.png', 'img_0394.png', 'img_0395.png', 'img_0396.png', 'img_0397.png', 'img_0398.png', 'img_0399.png', 'img_0400.png', 'img_0401.png', 'img_0402.png', 'img_0403.png', 'img_0404.png', 'img_0405.png', 'img_0406.png', 'img_0407.png', 'img_0416.png', 'img_0417.png', 'img_0418.png', 'img_0419.png', 'img_0420.png', 'img_0421.png', 'img_0422.png', 'img_0423.png', 'img_0576.png', 'img_0577.png', 'img_0578.png', 'img_0579.png', 'img_0580.png', 'img_0581.png', 'img_0582.png', 'img_0583.png', 'img_0592.png', 'img_0593.png', 'img_0594.png', 'img_0595.png', 'img_0596.png', 'img_0597.png', 'img_0598.png', 'img_0599.png', 'img_0600.png', 'img_0601.png', 'img_0602.png', 'img_0603.png', 'img_0604.png', 'img_0605.png', 'img_0606.png', 'img_0607.png', 'img_0616.png', 'img_0617.png', 'img_0618.png', 'img_0619.png', 'img_0620.png', 'img_0621.png', 'img_0622.png', 'img_0623.png', 'img_0680.png', 'img_0681.png', 'img_0682.png', 'img_0683.png', 'img_0684.png', 'img_0685.png', 'img_0686.png', 'img_0687.png', 'img_0800.png', 'img_0801.png', 'img_0802.png', 'img_0803.png', 'img_0804.png', 'img_0805.png', 'img_0806.png', 'img_0807.png', 'img_0848.png', 'img_0849.png', 'img_0850.png', 'img_0851.png', 'img_0852.png', 'img_0853.png', 'img_0854.png', 'img_0855.png', 'img_0864.png', 'img_0865.png', 'img_0866.png', 'img_0867.png', 'img_0868.png', 'img_0869.png', 'img_0870.png', 'img_0871.png', 'img_0888.png', 'img_0889.png', 'img_0890.png', 'img_0891.png', 'img_0892.png', 'img_0893.png', 'img_0894.png', 'img_0895.png', 'img_1000.png', 'img_1001.png', 'img_1002.png', 'img_1003.png', 'img_1004.png', 'img_1005.png', 'img_1006.png', 'img_1007.png', 'img_1016.png', 'img_1017.png', 'img_1018.png', 'img_1019.png', 'img_1020.png', 'img_1021.png', 'img_1022.png', 'img_1023.png', 'img_1072.png', 'img_1073.png', 'img_1074.png', 'img_1075.png', 'img_1076.png', 'img_1077.png', 'img_1078.png', 'img_1079.png', 'img_1120.png', 'img_1121.png', 'img_1122.png', 'img_1123.png', 'img_1124.png', 'img_1125.png', 'img_1126.png', 'img_1127.png', 'img_1168.png', 'img_1169.png', 'img_1170.png', 'img_1171.png', 'img_1172.png', 'img_1173.png', 'img_1174.png', 'img_1175.png', 'img_1264.png', 'img_1265.png', 'img_1266.png', 'img_1267.png', 'img_1268.png', 'img_1269.png', 'img_1270.png', 'img_1271.png', 'img_1312.png', 'img_1313.png', 'img_1314.png', 'img_1315.png', 'img_1316.png', 'img_1317.png', 'img_1318.png', 'img_1319.png', 'img_1336.png', 'img_1337.png', 'img_1338.png', 'img_1339.png', 'img_1340.png', 'img_1341.png', 'img_1342.png', 'img_1343.png', 'img_1344.png', 'img_1345.png', 'img_1346.png', 'img_1347.png', 'img_1348.png', 'img_1349.png', 'img_1350.png', 'img_1351.png', 'img_1408.png', 'img_1409.png', 'img_1410.png', 'img_1411.png', 'img_1412.png', 'img_1413.png', 'img_1414.png', 'img_1415.png', 'img_1520.png', 'img_1521.png', 'img_1522.png', 'img_1523.png', 'img_1524.png', 'img_1525.png', 'img_1526.png', 'img_1527.png', 'img_1584.png', 'img_1585.png', 'img_1586.png', 'img_1587.png', 'img_1588.png', 'img_1589.png', 'img_1590.png', 'img_1591.png', 'img_1600.png', 'img_1601.png', 'img_1602.png', 'img_1603.png', 'img_1604.png', 'img_1605.png', 'img_1606.png', 'img_1607.png', 'img_1688.png', 'img_1689.png', 'img_1690.png', 'img_1691.png', 'img_1692.png', 'img_1693.png', 'img_1694.png', 'img_1695.png', 'img_1696.png', 'img_1697.png', 'img_1698.png', 'img_1699.png', 'img_1700.png', 'img_1701.png', 'img_1702.png', 'img_1703.png', 'img_1752.png', 'img_1753.png', 'img_1754.png', 'img_1755.png', 'img_1756.png', 'img_1757.png', 'img_1758.png', 'img_1759.png', 'img_1792.png', 'img_1793.png', 'img_1794.png', 'img_1795.png', 'img_1796.png', 'img_1797.png', 'img_1798.png', 'img_1799.png', 'img_1800.png', 'img_1801.png', 'img_1802.png', 'img_1803.png', 'img_1804.png', 'img_1805.png', 'img_1806.png', 'img_1807.png', 'img_1896.png', 'img_1897.png', 'img_1898.png', 'img_1899.png', 'img_1900.png', 'img_1901.png', 'img_1902.png', 'img_1903.png', 'img_1960.png', 'img_1961.png', 'img_1962.png', 'img_1963.png', 'img_1964.png', 'img_1965.png', 'img_1966.png', 'img_1967.png', 'img_2056.png', 'img_2057.png', 'img_2058.png', 'img_2059.png', 'img_2060.png', 'img_2061.png', 'img_2062.png', 'img_2063.png', 'img_2120.png', 'img_2121.png', 'img_2122.png', 'img_2123.png', 'img_2124.png', 'img_2125.png', 'img_2126.png', 'img_2127.png', 'img_2240.png', 'img_2241.png', 'img_2242.png', 'img_2243.png', 'img_2244.png', 'img_2245.png', 'img_2246.png', 'img_2247.png', 'img_2248.png', 'img_2249.png', 'img_2250.png', 'img_2251.png', 'img_2252.png', 'img_2253.png', 'img_2254.png', 'img_2255.png', 'img_2288.png', 'img_2289.png', 'img_2290.png', 'img_2291.png', 'img_2292.png', 'img_2293.png', 'img_2294.png', 'img_2295.png', 'img_2320.png', 'img_2321.png', 'img_2322.png', 'img_2323.png', 'img_2324.png', 'img_2325.png', 'img_2326.png', 'img_2327.png', 'img_2472.png', 'img_2473.png', 'img_2474.png', 'img_2475.png', 'img_2476.png', 'img_2477.png', 'img_2478.png', 'img_2479.png', 'img_2480.png', 'img_2481.png', 'img_2482.png', 'img_2483.png', 'img_2484.png', 'img_2485.png', 'img_2486.png', 'img_2487.png', 'img_2544.png', 'img_2545.png', 'img_2546.png', 'img_2547.png', 'img_2548.png', 'img_2549.png', 'img_2550.png', 'img_2551.png', 'img_2560.png', 'img_2561.png', 'img_2562.png', 'img_2563.png', 'img_2564.png', 'img_2565.png', 'img_2566.png', 'img_2567.png', 'img_2704.png', 'img_2705.png', 'img_2706.png', 'img_2707.png', 'img_2708.png', 'img_2709.png', 'img_2710.png', 'img_2711.png', 'img_2800.png', 'img_2801.png', 'img_2802.png', 'img_2803.png', 'img_2804.png', 'img_2805.png', 'img_2806.png', 'img_2807.png', 'img_2840.png', 'img_2841.png', 'img_2842.png', 'img_2843.png', 'img_2844.png', 'img_2845.png', 'img_2846.png', 'img_2847.png', 'img_2872.png', 'img_2873.png', 'img_2874.png', 'img_2875.png', 'img_2876.png', 'img_2877.png', 'img_2878.png', 'img_2879.png']\n"
          ],
          "name": "stdout"
        }
      ]
    },
    {
      "cell_type": "code",
      "metadata": {
        "id": "6sP36vdEpDAf",
        "colab": {
          "base_uri": "https://localhost:8080/"
        },
        "outputId": "c2fe74a9-3f52-4c33-9421-b6ce89d0d154"
      },
      "source": [
        "# raw_test_data, _, test_filenames = get_images_from_dir(test_path, cropped=False)\n",
        "median_filtering_test_data = []\n",
        "edge_dilation_erosion_filtering_test_data = []\n",
        "adaptive_filtering_test_data = []\n",
        "raw_test_data_paths = [os.path.join(test_path, path) for path in test_filenames]\n",
        "\n",
        "original_test_data, _, _ = get_images_from_dir(test_path, cropped=False)\n",
        "original_test_data = np.expand_dims(original_test_data, axis=0)\n",
        "\n",
        "for data_path in raw_test_data_paths:\n",
        "  median_filtering_test_data.append(np.expand_dims(median_filter(data_path)[0:256, 0:256] / 255, 0))\n",
        "  edge_dilation_erosion_filtering_test_data.append(np.expand_dims(edge_dilation_erosion_filter(data_path)[0:256, 0:256] / 255, 0))\n",
        "  adaptive_filtering_test_data.append(np.expand_dims(adaptive_filter(data_path)[0:256, 0:256] / 255, 0))\n",
        "\n",
        "original_test_data = np.concatenate(original_test_data, axis=0)\n",
        "median_filtering_test_data = np.concatenate(median_filtering_test_data, axis=0)\n",
        "edge_dilation_erosion_filtering_test_data = np.concatenate(edge_dilation_erosion_filtering_test_data, axis=0)\n",
        "adaptive_filtering_test_data = np.concatenate(adaptive_filtering_test_data, axis=0)"
      ],
      "execution_count": 29,
      "outputs": [
        {
          "output_type": "stream",
          "text": [
            "432 / 433\n"
          ],
          "name": "stdout"
        }
      ]
    },
    {
      "cell_type": "code",
      "metadata": {
        "id": "cKhvsd-jyq6T"
      },
      "source": [
        "raw_stacker_test_data = [original_test_data, adaptive_filtering_test_data, edge_dilation_erosion_filtering_test_data, median_filtering_test_data, autoencoder_test_data]\n",
        "# Order is adaptive filtering, edge dilation, median, autoencoder\n",
        "\n",
        "stacker_test_data = np.concatenate([np.expand_dims(data, axis=1) for data in raw_stacker_test_data], axis=1)"
      ],
      "execution_count": 30,
      "outputs": []
    },
    {
      "cell_type": "code",
      "metadata": {
        "colab": {
          "base_uri": "https://localhost:8080/"
        },
        "id": "zGnb15Ik0UrZ",
        "outputId": "da56096c-0ba4-4f1b-8aa4-182287a2ca33"
      },
      "source": [
        "print(stacker_test_data.shape)"
      ],
      "execution_count": 31,
      "outputs": [
        {
          "output_type": "stream",
          "text": [
            "(432, 5, 256, 256)\n"
          ],
          "name": "stdout"
        }
      ]
    },
    {
      "cell_type": "code",
      "metadata": {
        "id": "uesIlD9FsqL2"
      },
      "source": [
        "test_outputs = stacker.inference(stacker_test_data, save_path=os.path.join(select_path, \"stacker_test_outputs\"), filenames=test_filenames, is_autoencoder=False)"
      ],
      "execution_count": 32,
      "outputs": []
    },
    {
      "cell_type": "code",
      "metadata": {
        "colab": {
          "base_uri": "https://localhost:8080/",
          "height": 273
        },
        "id": "AUUSyjA_3dgw",
        "outputId": "7e008a01-f22d-41da-8a83-5ca465d1232f"
      },
      "source": [
        "# This is the output of training stacker for 300 epochs\n",
        "cv2_imshow(test_outputs[0])"
      ],
      "execution_count": 33,
      "outputs": [
        {
          "output_type": "display_data",
          "data": {
            "image/png": "[encoded data removed]",
            "text/plain": [
              "<PIL.Image.Image image mode=L size=256x256 at 0x7F0F541CB650>"
            ]
          },
          "metadata": {
            "tags": []
          }
        }
      ]
    },
    {
      "cell_type": "code",
      "metadata": {
        "colab": {
          "base_uri": "https://localhost:8080/",
          "height": 273
        },
        "id": "1CQs4SMH1mGs",
        "outputId": "fa533bc0-e1b6-47f1-b4df-1db984b71e6f"
      },
      "source": [
        "cv2_imshow(autoencoder_test_data[0] * 255)"
      ],
      "execution_count": null,
      "outputs": [
        {
          "output_type": "display_data",
          "data": {
            "image/png": "[encoded data removed]",
            "text/plain": [
              "<PIL.Image.Image image mode=L size=256x256 at 0x7F4C6D677810>"
            ]
          },
          "metadata": {
            "tags": []
          }
        }
      ]
    },
    {
      "cell_type": "code",
      "metadata": {
        "colab": {
          "base_uri": "https://localhost:8080/",
          "height": 273
        },
        "id": "6IaupvMdqYEn",
        "outputId": "bd0eade2-08a4-4c47-c07b-816c8c80ef17"
      },
      "source": [
        "# This is the output of training stacker for 100 epochs, note that it's worse than the autencoder output by a very slight amount\n",
        "cv2_imshow(test_outputs[0])"
      ],
      "execution_count": null,
      "outputs": [
        {
          "output_type": "display_data",
          "data": {
            "image/png": "[encoded data removed]",
            "text/plain": [
              "<PIL.Image.Image image mode=L size=256x256 at 0x7F4C6D71C650>"
            ]
          },
          "metadata": {
            "tags": []
          }
        }
      ]
    },
    {
      "cell_type": "code",
      "metadata": {
        "id": "16Sf6fk4rLYA"
      },
      "source": [
        "# Generating output for saving\n",
        "test_outputs = stacker.inference(stacker_test_data, save_path=os.path.join(select_path, \"stacker_outputs\"), filenames=test_filenames)"
      ],
      "execution_count": null,
      "outputs": []
    },
    {
      "cell_type": "code",
      "metadata": {
        "id": "cJGbxMGc3mJU"
      },
      "source": [
        ""
      ],
      "execution_count": null,
      "outputs": []
    },
    {
      "cell_type": "markdown",
      "metadata": {
        "id": "pVbWZ2zY3o3N"
      },
      "source": [
        "## Full inference\n",
        "Written by Jay Yoo"
      ]
    }
  ]
}