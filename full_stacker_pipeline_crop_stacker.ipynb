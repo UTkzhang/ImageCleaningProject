{
  "nbformat": 4,
  "nbformat_minor": 0,
  "metadata": {
    "colab": {
      "name": "full_stacker_pipeline_crop_stacker.ipynb",
      "provenance": [],
      "collapsed_sections": [],
      "toc_visible": true
    },
    "kernelspec": {
      "name": "python3",
      "display_name": "Python 3"
    },
    "language_info": {
      "name": "python"
    },
    "accelerator": "GPU"
  },
  "cells": [
    {
      "cell_type": "code",
      "metadata": {
        "id": "B_G8aermNnoC"
      },
      "source": [
        "# Algorithmic methods imports\n",
        "\n",
        "import cv2\n",
        "import os\n",
        "import numpy as np\n",
        "import matplotlib.pyplot as plt\n",
        "from scipy import ndimage, misc\n",
        "from PIL import Image\n",
        "from google.colab.patches import cv2_imshow"
      ],
      "execution_count": 1,
      "outputs": []
    },
    {
      "cell_type": "code",
      "metadata": {
        "id": "0BQQQybIZIwG"
      },
      "source": [
        "import torch\n",
        "import torch.nn as nn\n",
        "import torch.nn.functional as F\n",
        "from torch.utils.data import DataLoader, Dataset\n",
        "from torch.utils.data.sampler import SubsetRandomSampler\n",
        "import numpy as np\n",
        "from IPython.display import clear_output "
      ],
      "execution_count": 2,
      "outputs": []
    },
    {
      "cell_type": "code",
      "metadata": {
        "colab": {
          "base_uri": "https://localhost:8080/"
        },
        "id": "MkJJAQK1DfuO",
        "outputId": "cc3d08e4-3470-405e-e2ea-5c8ac219c3b4"
      },
      "source": [
        "from google.colab import drive\n",
        "drive.mount('/content/drive')"
      ],
      "execution_count": 3,
      "outputs": [
        {
          "output_type": "stream",
          "text": [
            "Drive already mounted at /content/drive; to attempt to forcibly remount, call drive.mount(\"/content/drive\", force_remount=True).\n"
          ],
          "name": "stdout"
        }
      ]
    },
    {
      "cell_type": "code",
      "metadata": {
        "id": "Tg1WvW0KOFwj"
      },
      "source": [
        "kevin_path = \"/content/drive/MyDrive/University Academics/Year 4 EngSci\"\n",
        "jay_path = \"./drive/MyDrive/CSC413 Project/\"\n",
        "\n",
        "select_path = jay_path # Change to kevin_path if needed\n",
        "\n",
        "#data_path = \"./drive/MyDrive/CSC413 Project/trainA\"\n",
        "#label_path = \"./drive/MyDrive/CSC413 Project/trainB\"\n",
        "train_path = os.path.join(select_path, \"trainA\")\n",
        "train_label_path = os.path.join(select_path, \"trainB\")\n",
        "train_path_cropped = os.path.join(select_path, \"trainA/original_cropped\")\n",
        "train_label_path_cropped = os.path.join(select_path, \"trainB/original_cropped\")\n",
        "test_path = os.path.join(select_path, \"testA\")\n",
        "test_label_path = os.path.join(select_path, \"testB\")\n",
        "output_path = os.path.join(select_path, \"trainA/autoencoder\")\n",
        "test_output_path = os.path.join(select_path, \"testA/autoencoder\")\n",
        "\n",
        "# Stacker paths\n",
        "train_1_cropped = os.path.join(train_path, \"adaptive_filtered_cropped\")\n",
        "train_2_cropped = os.path.join(train_path, \"edge_dilation_erosion_cropped\")\n",
        "train_3_cropped = os.path.join(train_path, \"median_filtered_cropped\")\n",
        "train_4_cropped = os.path.join(train_path, \"autoencoder\") # Already cropped"
      ],
      "execution_count": 4,
      "outputs": []
    },
    {
      "cell_type": "markdown",
      "metadata": {
        "id": "LLNG3wX9-sAU"
      },
      "source": [
        "# Data cleaning and pre-processing\n",
        "Written by Kevin Zhang 2021-04-08"
      ]
    },
    {
      "cell_type": "code",
      "metadata": {
        "colab": {
          "base_uri": "https://localhost:8080/"
        },
        "id": "0HtlaPM7-q36",
        "outputId": "ffc4e7e7-b3c4-47b3-b610-2868b02d1d91"
      },
      "source": [
        "if not os.path.exists(train_path+\"/original_cropped\"):\n",
        "  os.mkdir(train_path+\"/original_cropped\")\n",
        "\n",
        "idx = 0 \n",
        "for img in sorted(os.listdir(train_path)):\n",
        "  if img.endswith('.png'):\n",
        "    input_image_path = os.path.join(train_path,img)\n",
        "    raw_image = cv2.imread(input_image_path, cv2.IMREAD_GRAYSCALE)\n",
        "    output = raw_image[0:256, 0:256].copy()\n",
        " \n",
        "    idx += 1\n",
        "    clear_output()\n",
        "    print(\"processing\", idx)\n",
        "    cv2.imwrite(os.path.join(train_path+\"/original_cropped\", img), output)"
      ],
      "execution_count": null,
      "outputs": [
        {
          "output_type": "stream",
          "text": [
            "processing 2448\n"
          ],
          "name": "stdout"
        }
      ]
    },
    {
      "cell_type": "code",
      "metadata": {
        "colab": {
          "base_uri": "https://localhost:8080/"
        },
        "id": "4bI5updTINTq",
        "outputId": "b2654fa4-0170-4fb9-aad4-4313c94d6e83"
      },
      "source": [
        "if not os.path.exists(train_label_path+\"/original_cropped\"):\n",
        "  os.mkdir(train_label_path+\"/original_cropped\")\n",
        " \n",
        "idx = 0\n",
        "for img in sorted(os.listdir(train_label_path)):\n",
        "  if img.endswith('.png'):\n",
        "    input_image_path = os.path.join(train_label_path,img)\n",
        "    raw_image = cv2.imread(input_image_path, cv2.IMREAD_GRAYSCALE)\n",
        "    output = raw_image[0:256, 0:256].copy()\n",
        " \n",
        "    idx += 1\n",
        "    clear_output()\n",
        "    print(\"processing\", idx)\n",
        "    cv2.imwrite(os.path.join(train_label_path+\"/original_cropped\", img), output)"
      ],
      "execution_count": null,
      "outputs": [
        {
          "output_type": "stream",
          "text": [
            "processing 2448\n"
          ],
          "name": "stdout"
        }
      ]
    },
    {
      "cell_type": "markdown",
      "metadata": {
        "id": "uAZenmvaULBG"
      },
      "source": [
        "# Defining algorithmic processing methods\n",
        "Written by Kevin Zhang"
      ]
    },
    {
      "cell_type": "code",
      "metadata": {
        "id": "G1y2qC3sT4zq"
      },
      "source": [
        "########################################################\n",
        "# PART 1 - Median Filtering\n",
        "########################################################\n",
        "def median_filter(image_path):\n",
        "  img = cv2.imread(image_path, cv2.IMREAD_GRAYSCALE) # Load image\n",
        "  img_median = cv2.medianBlur(img, 25) # Add median filter to image\n",
        "  result = np.minimum(img.astype(np.uint16)+(255-img_median.astype(np.uint16)), 255)\n",
        "  return result.astype(np.uint8)"
      ],
      "execution_count": 5,
      "outputs": []
    },
    {
      "cell_type": "code",
      "metadata": {
        "id": "bSEalB-aUGjg"
      },
      "source": [
        "########################################################\n",
        "# PART 2 - Edge Detection, Dilation Erosion\n",
        "########################################################\n",
        "def edge_dilation_erosion_filter(image_path):\n",
        "  img = cv2.imread(image_path, cv2.IMREAD_GRAYSCALE) # Load image\n",
        "  edges = cv2.Canny(img,100,200)\n",
        "  dilated = cv2.dilate(edges, np.ones((3,3),np.uint8), iterations=1)\n",
        "  eroded = cv2.erode(dilated, np.ones((4,4),np.uint8), iterations=1)\n",
        "  return cv2.bitwise_not(eroded)"
      ],
      "execution_count": 6,
      "outputs": []
    },
    {
      "cell_type": "code",
      "metadata": {
        "id": "I0JF0WqEUHlV"
      },
      "source": [
        "########################################################\n",
        "# PART 3 - Adaptive Filter\n",
        "########################################################\n",
        "def adaptive_filter(image_path):\n",
        "  img = cv2.imread(image_path, cv2.IMREAD_GRAYSCALE) # Load image\n",
        "  return cv2.adaptiveThreshold(img,255,cv2.ADAPTIVE_THRESH_GAUSSIAN_C,\\\n",
        "            cv2.THRESH_BINARY,15,20)"
      ],
      "execution_count": 7,
      "outputs": []
    },
    {
      "cell_type": "markdown",
      "metadata": {
        "id": "Xdh8BsTwWPAO"
      },
      "source": [
        "## Creating images using algorithmic methods\n",
        "\n",
        "Written by Kevin Zhang"
      ]
    },
    {
      "cell_type": "code",
      "metadata": {
        "id": "6CjFQxmSUSUp",
        "colab": {
          "base_uri": "https://localhost:8080/"
        },
        "outputId": "bd98b462-6a87-44dd-cadb-861c332fa935"
      },
      "source": [
        "if not os.path.exists(train_path+\"/median_filtered_cropped\"):\n",
        "  os.mkdir(train_path+\"/median_filtered_cropped\")\n",
        "if not os.path.exists(train_path+\"/edge_dilation_erosion_cropped\"):\n",
        "  os.mkdir(train_path+\"/edge_dilation_erosion_cropped\")\n",
        "if not os.path.exists(train_path+\"/adaptive_filtered_cropped\"):\n",
        "  os.mkdir(train_path+\"/adaptive_filtered_cropped\")\n",
        "\n",
        "idx = 0 \n",
        "for img in sorted(os.listdir(train_path_cropped)):\n",
        "  if img.endswith('.png'):\n",
        "    input_image_path = os.path.join(train_path_cropped,img)\n",
        "\n",
        "    median_filter_path = os.path.join(train_path+\"/median_filtered_cropped\",img)\n",
        "    edge_dilation_erosion_path = os.path.join(train_path+\"/edge_dilation_erosion_cropped\",img)\n",
        "    adaptive_filter_path = os.path.join(train_path+\"/adaptive_filtered_cropped\",img)\n",
        "\n",
        "    idx += 1\n",
        "    clear_output()\n",
        "    print(\"processing\", idx)\n",
        "\n",
        "    if not os.path.exists(median_filter_path):\n",
        "      cv2.imwrite(median_filter_path, median_filter(input_image_path))\n",
        "    if not os.path.exists(edge_dilation_erosion_path):\n",
        "      cv2.imwrite(edge_dilation_erosion_path, edge_dilation_erosion_filter(input_image_path))\n",
        "    if not os.path.exists(adaptive_filter_path):\n",
        "      cv2.imwrite(adaptive_filter_path, adaptive_filter(input_image_path))"
      ],
      "execution_count": null,
      "outputs": [
        {
          "output_type": "stream",
          "text": [
            "processing 2448\n"
          ],
          "name": "stdout"
        }
      ]
    },
    {
      "cell_type": "code",
      "metadata": {
        "colab": {
          "base_uri": "https://localhost:8080/",
          "height": 273
        },
        "id": "KhmLrIffUxhn",
        "outputId": "f4efcb7e-a843-427e-a80d-19be6e857da9"
      },
      "source": [
        "# Test image\n",
        "result = edge_dilation_erosion_filter(os.path.join(train_path_cropped, \"img_0000.png\"))\n",
        "cv2_imshow(result)"
      ],
      "execution_count": null,
      "outputs": [
        {
          "output_type": "display_data",
          "data": {
            "image/png": "[encoded data removed]",
            "text/plain": [
              "<PIL.Image.Image image mode=L size=256x256 at 0x7F8AB1D34850>"
            ]
          },
          "metadata": {
            "tags": []
          }
        }
      ]
    },
    {
      "cell_type": "markdown",
      "metadata": {
        "id": "uezuBRZ_aaKf"
      },
      "source": [
        "# Machine Learning Methods\n",
        "Written by Jay Yoo\n",
        "\n",
        "Adjusted by Kevin Zhang 2021-04-08\n",
        "- added train-test splits, validation, plot loss"
      ]
    },
    {
      "cell_type": "code",
      "metadata": {
        "id": "SmBZaIDliPay"
      },
      "source": [
        "def prepare_params(batch_size=128, num_epochs=100, learning_rate=1e-4, \\\n",
        "                   summary_epoch_interval=10, validation_split=.15, \\\n",
        "                   shuffle=True, random_seed=0, \\\n",
        "                   loss_function=nn.MSELoss(), optimizer=torch.optim.Adam, \\\n",
        "                   model_save_path=\"./models\"):\n",
        "  # optimizer is passed the function definition, not a called function \n",
        "    # (note the lack of brackets in the base argument)\n",
        "  \n",
        "  params = {\n",
        "      'batch_size' : batch_size,\n",
        "      'num_epochs' : num_epochs,\n",
        "      'learning_rate' : learning_rate,\n",
        "      'summary_epoch_interval' : summary_epoch_interval, \n",
        "      'validation_split': validation_split,\n",
        "      'shuffle': shuffle,\n",
        "      'random_seed': random_seed,\n",
        "      'loss_function' : loss_function, \n",
        "      'optimizer' : optimizer,\n",
        "      'save_model_path': model_save_path\n",
        "  }\n",
        "\n",
        "  return params"
      ],
      "execution_count": 8,
      "outputs": []
    },
    {
      "cell_type": "code",
      "metadata": {
        "id": "C3TLQU9wdX5x"
      },
      "source": [
        "class model_container():\n",
        "  def __init__(self, dataset, model, params):\n",
        "    # Model does not have to be transferred to cuda gpu\n",
        "\n",
        "    self.batch_size = params['batch_size']\n",
        "    self.num_epochs = params['num_epochs']\n",
        "    self.learning_rate = params['learning_rate']\n",
        "    self.summary_epoch_interval = params['summary_epoch_interval']\n",
        "    self.val_split = params['validation_split']\n",
        "    self.shuffle = params['shuffle']\n",
        "    self.random_seed = params['random_seed']\n",
        "    self.loss_function = params['loss_function']\n",
        "    self.optimizer = params['optimizer']\n",
        "    self.save_model_path = params['save_model_path']\n",
        "    self.model = model.cuda()\n",
        "\n",
        "    if not os.path.exists(self.save_model_path):\n",
        "      os.mkdir(self.save_model_path)\n",
        "\n",
        "    # code for train-test split on custom dataset\n",
        "    dataset_size = len(dataset)\n",
        "    indices = list(range(dataset_size))\n",
        "    split = int(np.floor(self.val_split * dataset_size))\n",
        "    if self.shuffle:\n",
        "      np.random.seed(self.random_seed)\n",
        "      np.random.shuffle(indices)\n",
        "    train_indices, val_indices = indices[split:], indices[:split]\n",
        "\n",
        "    train_sampler = SubsetRandomSampler(train_indices)\n",
        "    valid_sampler = SubsetRandomSampler(val_indices)\n",
        "\n",
        "    self.train_loader = DataLoader(dataset, batch_size=self.batch_size, \n",
        "                                   sampler=train_sampler, pin_memory=True, num_workers=0)\n",
        "    self.val_loader = DataLoader(dataset, batch_size=self.batch_size, \n",
        "                                        sampler=valid_sampler, pin_memory=True, num_workers=0)\n",
        "    \n",
        "\n",
        "  def train(self):\n",
        "    self.model.train()\n",
        "\n",
        "    # optimizer = torch.optim.Adam(lr=learning_rate, params=self.model.parameters())\n",
        "    optimizer = self.optimizer(lr=self.learning_rate, params=self.model.parameters())\n",
        "\n",
        "    loss_history = []\n",
        "    val_loss_history = []\n",
        "    \n",
        "    for epoch in range(1, self.num_epochs + 1):\n",
        "      cumulated_loss = 0\n",
        "\n",
        "      for model_input, labels in self.train_loader:\n",
        "        model_input = model_input.cuda()\n",
        "        labels = labels.cuda()\n",
        "        model_output = self.model(model_input)\n",
        "        loss = self.loss_function(model_output, labels)\n",
        "\n",
        "        optimizer.zero_grad()\n",
        "        loss.backward()\n",
        "        optimizer.step()\n",
        "\n",
        "        cumulated_loss += loss.item()\n",
        "      \n",
        "      loss_history.append(cumulated_loss)\n",
        "      \n",
        "      self.model.eval()\n",
        "      cumulated_val_loss = 0\n",
        "      \n",
        "      for model_input, labels in self.val_loader:\n",
        "        model_input = model_input.cuda()\n",
        "        labels = labels.cuda()\n",
        "        model_output = self.model(model_input)\n",
        "        loss = self.loss_function(model_output, labels)\n",
        "        cumulated_val_loss += loss.item()\n",
        "    \n",
        "      val_loss_history.append(cumulated_val_loss)\n",
        "      \n",
        "      if cumulated_val_loss <= min(val_loss_history):\n",
        "        torch.save(self.model.state_dict(), self.save_model_path+\"_%d\"%epoch)\n",
        "        print(\"New model saved!\")\n",
        "\n",
        "      if not epoch % self.summary_epoch_interval:\n",
        "        print(\"Epoch %d, Total training loss %0.6f, Total validation loss %0.6f\" % (epoch, cumulated_loss, cumulated_val_loss))\n",
        "        \n",
        "    plt.figure()\n",
        "    plt.plot(loss_history, \"ro-\", label=\"Train\")\n",
        "    plt.plot(val_loss_history, \"go-\", label=\"Validation\")\n",
        "    plt.legend()\n",
        "    plt.title(\"Loss\")\n",
        "    plt.xlabel(\"Epochs\")\n",
        "\n",
        "  def inference(self, data_to_infer, save_path=None, filenames=None, is_autoencoder=True):\n",
        "    # Assumed to be list of numpy\n",
        "    # Add option to automatically save to a directory if memory is a concern\n",
        "\n",
        "    self.model.eval()\n",
        "\n",
        "    if save_path is None:\n",
        "      outputs = []\n",
        "      for data in data_to_infer:\n",
        "        model_input = torch.from_numpy(data)\n",
        "        model_input = torch.unsqueeze(model_input, dim=0)\n",
        "        if is_autoencoder:\n",
        "          model_input = torch.unsqueeze(model_input, dim=0)\n",
        "        model_input = model_input.type(torch.FloatTensor)\n",
        "        model_input = model_input.cuda()\n",
        "        outputs.append(self.model(model_input).cpu().detach().numpy() * 255)\n",
        "\n",
        "      return outputs\n",
        "    else:\n",
        "      outputs = []\n",
        "      if not os.path.exists(save_path):\n",
        "        os.mkdir(save_path)\n",
        "      if filenames is None:\n",
        "        filenames = [str(idx)  + '.png' for idx in range(len(data_to_infer))]\n",
        "      for idx, data in enumerate(data_to_infer):\n",
        "        model_input = torch.from_numpy(data)\n",
        "        model_input = torch.unsqueeze(model_input, dim=0)\n",
        "        if is_autoencoder:\n",
        "          model_input = torch.unsqueeze(model_input, dim=0)\n",
        "        model_input = model_input.type(torch.FloatTensor)\n",
        "        model_input = model_input.cuda()\n",
        "\n",
        "        model_output = self.model(model_input).cpu().detach().numpy() * 255\n",
        "        outputs.append(model_output)\n",
        "        cv2.imwrite(os.path.join(save_path, filenames[idx]), model_output)\n",
        "      \n",
        "      return outputs\n",
        "\n",
        "  def delete_data(self):\n",
        "    # For memory optimizations\n",
        "    del self.dataloader\n",
        "  \n",
        "  def get_model():\n",
        "    self.model.eval()\n",
        "    return self.model"
      ],
      "execution_count": 60,
      "outputs": []
    },
    {
      "cell_type": "code",
      "metadata": {
        "id": "ftcCNfmalbX8"
      },
      "source": [
        "def get_images_from_dir(data_path, track_progress=True, stop_idx=None, \\\n",
        "                        image_shape=None, cropped=True):\n",
        "\n",
        "  dir_paths = os.listdir(data_path)\n",
        "  num_paths = len(dir_paths)\n",
        "\n",
        "  if stop_idx is None:\n",
        "    stop_idx = num_paths\n",
        "\n",
        "  if track_progress == True:\n",
        "    def show_progress(idx):\n",
        "      clear_output()\n",
        "      print(idx, '/', stop_idx)\n",
        "  else:\n",
        "    def show_progress(idx):\n",
        "      pass\n",
        "\n",
        "  filenames = []\n",
        "  num_pngs = 0\n",
        "  image_shape = [np.infty, np.infty]\n",
        "  for idx, img in enumerate(sorted(dir_paths)):\n",
        "    if num_pngs == stop_idx:\n",
        "      break\n",
        "      \n",
        "    if img.endswith('.png'):\n",
        "      num_pngs += 1\n",
        "\n",
        "  image_shape = [num_pngs] + [256, 256]\n",
        "  images = np.zeros(image_shape)\n",
        "    \n",
        "    \n",
        "  if not cropped:\n",
        "    png_idx = 0\n",
        "    for idx, img in enumerate(sorted(dir_paths)):\n",
        "      if png_idx == stop_idx:\n",
        "        break\n",
        "\n",
        "      show_progress(idx)\n",
        "      if img.endswith('.png'):\n",
        "        filenames.append(img)\n",
        "        image_path = os.path.join(data_path,img)\n",
        "        raw_image = cv2.imread(image_path, cv2.IMREAD_GRAYSCALE)\n",
        "        images[png_idx] = raw_image[0:256, 0:256] / 255\n",
        "        png_idx += 1\n",
        "  else:\n",
        "    png_idx = 0\n",
        "    for idx, img in enumerate(sorted(dir_paths)):\n",
        "      if png_idx == stop_idx:\n",
        "        break\n",
        "\n",
        "      show_progress(png_idx)\n",
        "      if img.endswith('.png'):\n",
        "        filenames.append(img)\n",
        "        image_path = os.path.join(data_path,img)\n",
        "        raw_image = cv2.imread(image_path, cv2.IMREAD_GRAYSCALE)\n",
        "        images[png_idx] = raw_image/255\n",
        "        png_idx += 1\n",
        "\n",
        "  return images, image_shape, filenames"
      ],
      "execution_count": 10,
      "outputs": []
    },
    {
      "cell_type": "markdown",
      "metadata": {
        "id": "I3KVHj9maO0V"
      },
      "source": [
        "##  Autoencoder model\n",
        "Written by Jay Yoo"
      ]
    },
    {
      "cell_type": "code",
      "metadata": {
        "id": "iosiXxWcYHV6"
      },
      "source": [
        "class autoencoder_dataset(Dataset):\n",
        "    def __init__(self, data, labels):\n",
        "        super().__init__()\n",
        "        # data and labels are both (dataset size, m, n) where images are m x n\n",
        "\n",
        "        self.num_data = len(data)\n",
        "        self.train_data = torch.unsqueeze(torch.from_numpy(data), dim=1)\n",
        "        self.train_data = self.train_data.type(torch.FloatTensor)\n",
        "        self.labels = torch.from_numpy(labels)\n",
        "        self.labels = self.labels.type(torch.FloatTensor)\n",
        "\n",
        "    def __len__(self):\n",
        "        return self.num_data\n",
        "\n",
        "    def __getitem__(self, idx):\n",
        "        return self.train_data[idx], self.labels[idx]"
      ],
      "execution_count": null,
      "outputs": []
    },
    {
      "cell_type": "code",
      "metadata": {
        "id": "cgkdASRxXkAw"
      },
      "source": [
        "def autoencoder_layer(in_channels, out_channels, kernel_size=3, stride=1, \\\n",
        "                  padding=1, bias=True, batchnorm=True, activation='relu', \\\n",
        "                  upsample=None):\n",
        "    # Convolution layer that maintains shape \n",
        "        # with optional activation layer and batchnorm\n",
        "    # Use stride = 1, kernel = 3, padding = 1 for convenience\n",
        "    # Activation argument is one of 'relu', 'sigmoid', 'leaky_relu', or 'none\n",
        "\n",
        "    layers = []\n",
        "\n",
        "    # Upsampling\n",
        "    if upsample is not None:\n",
        "        layers.append(nn.Upsample(scale_factor=upsample))\n",
        "\n",
        "    # Adding convolutional layer\n",
        "    layers.append(nn.Conv2d(in_channels=in_channels, \\\n",
        "                            out_channels=out_channels, \\\n",
        "                            kernel_size=kernel_size, \\\n",
        "                            stride=stride, \\\n",
        "                            padding=padding, \\\n",
        "                            bias=bias))\n",
        "\n",
        "    # Adding batchnorm\n",
        "    if batchnorm:\n",
        "        layers.append(nn.BatchNorm2d(out_channels))\n",
        "\n",
        "    # Adding activation\n",
        "    if activation == 'relu':\n",
        "        layers.append(nn.ReLU())\n",
        "    elif activation == 'sigmoid':\n",
        "        layers.append(nn.Sigmoid())\n",
        "    elif activation == 'leaky_relu':\n",
        "        layers.append(nn.LeakyReLU())\n",
        "    elif activation == 'none':\n",
        "        pass\n",
        "    else:\n",
        "        assert False, \"Invalid activation function.\"\n",
        "        \n",
        "    return nn.Sequential(*layers)\n",
        "\n",
        "class autoencoder_architecture(nn.Module):\n",
        "    def __init__(self, num_hidden_channels=64):\n",
        "        super().__init__()\n",
        "        \n",
        "        self.net = []\n",
        "\n",
        "        self.net.append(autoencoder_layer(in_channels=1, \\\n",
        "                                      out_channels=num_hidden_channels, \\\n",
        "                                      activation='leaky_relu', \\\n",
        "                                      batchnorm=True, \\\n",
        "                                      upsample=None))\n",
        "        self.net.append(autoencoder_layer(in_channels=num_hidden_channels, \\\n",
        "                                      out_channels=num_hidden_channels, \\\n",
        "                                      activation='leaky_relu', \\\n",
        "                                      batchnorm=False, \\\n",
        "                                      upsample=None))\n",
        "        self.net.append(nn.MaxPool2d(2)) # Pool to half of shape\n",
        "        self.net.append(autoencoder_layer(in_channels=num_hidden_channels, \\\n",
        "                                      out_channels=num_hidden_channels, \\\n",
        "                                      activation='leaky_relu', \\\n",
        "                                      batchnorm=True, \\\n",
        "                                      upsample=None))\n",
        "        self.net.append(autoencoder_layer(in_channels=num_hidden_channels, \\\n",
        "                                      out_channels=num_hidden_channels, \\\n",
        "                                      activation='leaky_relu', \\\n",
        "                                      batchnorm=False, \\\n",
        "                                      upsample=2))\n",
        "        self.net.append(autoencoder_layer(in_channels=num_hidden_channels, \\\n",
        "                                      out_channels=1, \\\n",
        "                                      activation='sigmoid', \\\n",
        "                                      batchnorm=False, \\\n",
        "                                      upsample=None))\n",
        "        \n",
        "        self.net = nn.Sequential(*self.net)\n",
        "    \n",
        "    def forward(self, concatenated_inputs):\n",
        "        output = self.net(concatenated_inputs)\n",
        "        return output.squeeze()"
      ],
      "execution_count": null,
      "outputs": []
    },
    {
      "cell_type": "code",
      "metadata": {
        "colab": {
          "base_uri": "https://localhost:8080/"
        },
        "id": "lHo04LxhmI7G",
        "outputId": "4cf8d666-0e1e-4357-c644-a1a6f40a9d34"
      },
      "source": [
        "autoencoder_train_data, shape, train_filenames = get_images_from_dir(train_path_cropped)\n",
        "autoencoder_labels, shape, _ = get_images_from_dir(train_label_path_cropped)"
      ],
      "execution_count": null,
      "outputs": [
        {
          "output_type": "stream",
          "text": [
            "2447 / 2448\n"
          ],
          "name": "stdout"
        }
      ]
    },
    {
      "cell_type": "code",
      "metadata": {
        "id": "YQo3Xyq9jasN"
      },
      "source": [
        "dataset = autoencoder_dataset(autoencoder_train_data, autoencoder_labels)\n",
        "autoencoder_model = autoencoder_architecture(num_hidden_channels=64)\n",
        "autoencoder_params = prepare_params(batch_size=32, summary_epoch_interval=1, num_epochs=100, learning_rate=1e-4, model_save_path=\"./models/AEmodel\")"
      ],
      "execution_count": null,
      "outputs": []
    },
    {
      "cell_type": "code",
      "metadata": {
        "id": "KT5jMCW3jwRu"
      },
      "source": [
        "autoencoder = model_container(dataset, autoencoder_model, autoencoder_params)"
      ],
      "execution_count": null,
      "outputs": []
    },
    {
      "cell_type": "code",
      "metadata": {
        "id": "D2gqFlRfkX-u",
        "colab": {
          "base_uri": "https://localhost:8080/",
          "height": 1000
        },
        "outputId": "df7550ad-4eb8-4818-8184-70567aa86ad0"
      },
      "source": [
        "autoencoder.train()"
      ],
      "execution_count": null,
      "outputs": [
        {
          "output_type": "stream",
          "text": [
            "/usr/local/lib/python3.7/dist-packages/torch/nn/modules/loss.py:528: UserWarning: Using a target size (torch.Size([1, 256, 256])) that is different to the input size (torch.Size([256, 256])). This will likely lead to incorrect results due to broadcasting. Please ensure they have the same size.\n",
            "  return F.mse_loss(input, target, reduction=self.reduction)\n"
          ],
          "name": "stderr"
        },
        {
          "output_type": "stream",
          "text": [
            "New model saved!\n",
            "Epoch 1, Total training loss 3.855344, Total validation loss 0.197453\n",
            "New model saved!\n",
            "Epoch 2, Total training loss 0.540544, Total validation loss 0.068965\n",
            "New model saved!\n",
            "Epoch 3, Total training loss 0.308325, Total validation loss 0.049062\n",
            "New model saved!\n",
            "Epoch 4, Total training loss 0.236588, Total validation loss 0.044046\n",
            "New model saved!\n",
            "Epoch 5, Total training loss 0.200335, Total validation loss 0.035327\n",
            "New model saved!\n",
            "Epoch 6, Total training loss 0.175782, Total validation loss 0.031652\n",
            "New model saved!\n",
            "Epoch 7, Total training loss 0.159258, Total validation loss 0.029086\n",
            "New model saved!\n",
            "Epoch 8, Total training loss 0.148118, Total validation loss 0.026903\n",
            "New model saved!\n",
            "Epoch 9, Total training loss 0.139351, Total validation loss 0.026215\n",
            "New model saved!\n",
            "Epoch 10, Total training loss 0.131151, Total validation loss 0.024236\n",
            "New model saved!\n",
            "Epoch 11, Total training loss 0.124214, Total validation loss 0.023629\n",
            "New model saved!\n",
            "Epoch 12, Total training loss 0.120098, Total validation loss 0.021975\n",
            "New model saved!\n",
            "Epoch 13, Total training loss 0.114311, Total validation loss 0.021290\n",
            "New model saved!\n",
            "Epoch 14, Total training loss 0.109875, Total validation loss 0.020522\n",
            "Epoch 15, Total training loss 0.109003, Total validation loss 0.026929\n",
            "New model saved!\n",
            "Epoch 16, Total training loss 0.107160, Total validation loss 0.019778\n",
            "New model saved!\n",
            "Epoch 17, Total training loss 0.099981, Total validation loss 0.018741\n",
            "New model saved!\n",
            "Epoch 18, Total training loss 0.097169, Total validation loss 0.018440\n",
            "New model saved!\n",
            "Epoch 19, Total training loss 0.094682, Total validation loss 0.017541\n",
            "Epoch 20, Total training loss 0.094493, Total validation loss 0.019679\n",
            "New model saved!\n",
            "Epoch 21, Total training loss 0.091355, Total validation loss 0.016845\n",
            "New model saved!\n",
            "Epoch 22, Total training loss 0.088531, Total validation loss 0.016799\n",
            "New model saved!\n",
            "Epoch 23, Total training loss 0.088379, Total validation loss 0.016266\n",
            "Epoch 24, Total training loss 0.087481, Total validation loss 0.016488\n",
            "Epoch 25, Total training loss 0.085788, Total validation loss 0.034938\n",
            "New model saved!\n",
            "Epoch 26, Total training loss 0.093334, Total validation loss 0.015441\n",
            "New model saved!\n",
            "Epoch 27, Total training loss 0.080541, Total validation loss 0.015227\n",
            "Epoch 28, Total training loss 0.079246, Total validation loss 0.015580\n",
            "Epoch 29, Total training loss 0.079094, Total validation loss 0.017923\n",
            "New model saved!\n",
            "Epoch 30, Total training loss 0.079128, Total validation loss 0.014525\n",
            "Epoch 31, Total training loss 0.076387, Total validation loss 0.014577\n",
            "Epoch 32, Total training loss 0.075408, Total validation loss 0.015454\n",
            "Epoch 33, Total training loss 0.074937, Total validation loss 0.017343\n",
            "Epoch 34, Total training loss 0.073756, Total validation loss 0.014809\n",
            "New model saved!\n",
            "Epoch 35, Total training loss 0.072000, Total validation loss 0.013448\n",
            "Epoch 36, Total training loss 0.070787, Total validation loss 0.013521\n",
            "Epoch 37, Total training loss 0.071075, Total validation loss 0.013634\n",
            "New model saved!\n",
            "Epoch 38, Total training loss 0.070415, Total validation loss 0.012960\n",
            "Epoch 39, Total training loss 0.068519, Total validation loss 0.013452\n",
            "Epoch 40, Total training loss 0.067547, Total validation loss 0.013256\n",
            "Epoch 41, Total training loss 0.067414, Total validation loss 0.013493\n",
            "New model saved!\n",
            "Epoch 42, Total training loss 0.066738, Total validation loss 0.012536\n",
            "New model saved!\n",
            "Epoch 43, Total training loss 0.065174, Total validation loss 0.012136\n",
            "Epoch 44, Total training loss 0.065106, Total validation loss 0.013433\n",
            "Epoch 45, Total training loss 0.064372, Total validation loss 0.012637\n",
            "New model saved!\n",
            "Epoch 46, Total training loss 0.063163, Total validation loss 0.011776\n",
            "New model saved!\n",
            "Epoch 47, Total training loss 0.062169, Total validation loss 0.011720\n",
            "Epoch 48, Total training loss 0.062108, Total validation loss 0.011728\n",
            "New model saved!\n",
            "Epoch 49, Total training loss 0.061362, Total validation loss 0.011394\n",
            "New model saved!\n",
            "Epoch 50, Total training loss 0.060473, Total validation loss 0.011320\n",
            "Epoch 51, Total training loss 0.059604, Total validation loss 0.011786\n",
            "New model saved!\n",
            "Epoch 52, Total training loss 0.060040, Total validation loss 0.011109\n",
            "Epoch 53, Total training loss 0.058809, Total validation loss 0.011791\n",
            "Epoch 54, Total training loss 0.058864, Total validation loss 0.011221\n",
            "New model saved!\n",
            "Epoch 55, Total training loss 0.057104, Total validation loss 0.010767\n",
            "Epoch 56, Total training loss 0.057183, Total validation loss 0.011193\n",
            "New model saved!\n",
            "Epoch 57, Total training loss 0.057213, Total validation loss 0.010576\n",
            "Epoch 58, Total training loss 0.055922, Total validation loss 0.010697\n",
            "Epoch 59, Total training loss 0.055819, Total validation loss 0.014916\n",
            "Epoch 60, Total training loss 0.056664, Total validation loss 0.010670\n",
            "New model saved!\n",
            "Epoch 61, Total training loss 0.054476, Total validation loss 0.010164\n",
            "New model saved!\n",
            "Epoch 62, Total training loss 0.053390, Total validation loss 0.010155\n",
            "Epoch 63, Total training loss 0.053044, Total validation loss 0.012208\n",
            "New model saved!\n",
            "Epoch 64, Total training loss 0.053635, Total validation loss 0.009790\n",
            "Epoch 65, Total training loss 0.052776, Total validation loss 0.010790\n",
            "New model saved!\n",
            "Epoch 66, Total training loss 0.053154, Total validation loss 0.009673\n",
            "Epoch 67, Total training loss 0.051397, Total validation loss 0.011379\n",
            "Epoch 68, Total training loss 0.051873, Total validation loss 0.010175\n",
            "Epoch 69, Total training loss 0.051062, Total validation loss 0.009814\n",
            "Epoch 70, Total training loss 0.050986, Total validation loss 0.010357\n",
            "New model saved!\n",
            "Epoch 71, Total training loss 0.050992, Total validation loss 0.009465\n",
            "Epoch 72, Total training loss 0.049177, Total validation loss 0.009974\n",
            "Epoch 73, Total training loss 0.050122, Total validation loss 0.009515\n",
            "Epoch 74, Total training loss 0.049574, Total validation loss 0.010216\n",
            "New model saved!\n",
            "Epoch 75, Total training loss 0.049225, Total validation loss 0.009331\n",
            "Epoch 76, Total training loss 0.049746, Total validation loss 0.010265\n",
            "Epoch 77, Total training loss 0.048564, Total validation loss 0.009907\n",
            "New model saved!\n",
            "Epoch 78, Total training loss 0.047330, Total validation loss 0.008903\n",
            "New model saved!\n",
            "Epoch 79, Total training loss 0.047207, Total validation loss 0.008745\n",
            "Epoch 80, Total training loss 0.046560, Total validation loss 0.009588\n",
            "Epoch 81, Total training loss 0.046614, Total validation loss 0.008760\n",
            "Epoch 82, Total training loss 0.046108, Total validation loss 0.009456\n",
            "New model saved!\n",
            "Epoch 83, Total training loss 0.045609, Total validation loss 0.008618\n",
            "Epoch 84, Total training loss 0.046065, Total validation loss 0.010375\n",
            "New model saved!\n",
            "Epoch 85, Total training loss 0.045761, Total validation loss 0.008444\n",
            "Epoch 86, Total training loss 0.044649, Total validation loss 0.008549\n",
            "New model saved!\n",
            "Epoch 87, Total training loss 0.044081, Total validation loss 0.008259\n",
            "Epoch 88, Total training loss 0.043744, Total validation loss 0.008313\n",
            "Epoch 89, Total training loss 0.043689, Total validation loss 0.008370\n",
            "Epoch 90, Total training loss 0.044045, Total validation loss 0.008783\n",
            "Epoch 91, Total training loss 0.043487, Total validation loss 0.010588\n",
            "Epoch 92, Total training loss 0.043287, Total validation loss 0.008410\n",
            "New model saved!\n",
            "Epoch 93, Total training loss 0.042779, Total validation loss 0.007991\n",
            "New model saved!\n",
            "Epoch 94, Total training loss 0.042520, Total validation loss 0.007927\n",
            "Epoch 95, Total training loss 0.041962, Total validation loss 0.009053\n",
            "Epoch 96, Total training loss 0.042532, Total validation loss 0.009262\n",
            "New model saved!\n",
            "Epoch 97, Total training loss 0.041546, Total validation loss 0.007921\n",
            "Epoch 98, Total training loss 0.041010, Total validation loss 0.008271\n",
            "Epoch 99, Total training loss 0.040462, Total validation loss 0.008338\n",
            "New model saved!\n",
            "Epoch 100, Total training loss 0.040021, Total validation loss 0.007661\n"
          ],
          "name": "stdout"
        },
        {
          "output_type": "display_data",
          "data": {
            "image/png": "[encoded data removed]",
            "text/plain": [
              "<Figure size 432x288 with 1 Axes>"
            ]
          },
          "metadata": {
            "tags": [],
            "needs_background": "light"
          }
        }
      ]
    },
    {
      "cell_type": "code",
      "metadata": {
        "id": "bQTXNqPNXWIB"
      },
      "source": [
        "# Set MODEL PATH for loading model\n",
        "PATH = \"/content/drive/MyDrive/University Academics/Year 4 EngSci/CSC413 Project/models/AEmodel_100\"\n",
        "\n",
        "model = autoencoder_architecture(num_hidden_channels=64)\n",
        "model.load_state_dict(torch.load(PATH))\n",
        "model.eval()\n",
        "\n",
        "autoencoder = model_container(dataset, model, autoencoder_params)"
      ],
      "execution_count": null,
      "outputs": []
    },
    {
      "cell_type": "code",
      "metadata": {
        "id": "o6I1jZ10RgiP",
        "colab": {
          "base_uri": "https://localhost:8080/"
        },
        "outputId": "c28769cd-436d-412f-c303-6b2bb824f865"
      },
      "source": [
        "autoencoder_test_data, shapes, test_filenames = get_images_from_dir(test_path, cropped=False)\n",
        "test_outputs = autoencoder.inference(autoencoder_test_data, save_path=test_output_path, filenames=test_filenames)"
      ],
      "execution_count": null,
      "outputs": [
        {
          "output_type": "stream",
          "text": [
            "432 / 433\n"
          ],
          "name": "stdout"
        }
      ]
    },
    {
      "cell_type": "code",
      "metadata": {
        "id": "gXDw0e0hfi4P"
      },
      "source": [
        "cv2_imshow(test_outputs[0])"
      ],
      "execution_count": null,
      "outputs": []
    },
    {
      "cell_type": "code",
      "metadata": {
        "id": "Gh4cmVmJXaif"
      },
      "source": [
        "# Generating output for saving\n",
        "outputs = autoencoder.inference(autoencoder_train_data, save_path=output_path, filenames=train_filenames)"
      ],
      "execution_count": null,
      "outputs": []
    },
    {
      "cell_type": "markdown",
      "metadata": {
        "id": "ogqOSbN8-mA_"
      },
      "source": [
        "## Stacker Model\n",
        "Written by Jay Yoo"
      ]
    },
    {
      "cell_type": "code",
      "metadata": {
        "id": "ycdnmoD_Fyiv"
      },
      "source": [
        "class stacker_dataset(Dataset):\n",
        "    def __init__(self, data_to_stack, labels):\n",
        "        super().__init__()\n",
        "        # elements of data_to_stack are all (dataset size, m, n) where images are m x n\n",
        "\n",
        "        self.num_data = len(data_to_stack[0])\n",
        "        self.train_data = torch.cat([torch.unsqueeze(torch.from_numpy(data), dim=1) for data in data_to_stack], dim=1)\n",
        "        self.train_data = self.train_data.type(torch.FloatTensor)\n",
        "            # dataset size x N x m x n where N is the number of inputs to stack\n",
        "        self.labels = torch.from_numpy(labels)\n",
        "        self.labels = self.labels.type(torch.FloatTensor)\n",
        "\n",
        "    def __len__(self):\n",
        "        return self.num_data\n",
        "\n",
        "    def __getitem__(self, idx):\n",
        "        return self.train_data[idx], self.labels[idx]"
      ],
      "execution_count": 11,
      "outputs": []
    },
    {
      "cell_type": "code",
      "metadata": {
        "id": "0i0Cg7CaFzd9"
      },
      "source": [
        "def stacker_layer(in_channels, out_channels, kernel_size=3, stride=1, \\\n",
        "                  padding=1, bias=True, batchnorm=True, activation='relu'):\n",
        "    # Convolution layer that maintains shape \n",
        "        # with optional activation layer and batchnorm\n",
        "    # Use stride = 1, kernel = 3, padding = 1 for convenience\n",
        "    # Activation argument is one of 'relu', 'sigmoid', or 'none\n",
        "\n",
        "    layers = []\n",
        "    # Adding convolutional layer\n",
        "    layers.append(nn.Conv2d(in_channels=in_channels, \\\n",
        "                            out_channels=out_channels, \\\n",
        "                            kernel_size=kernel_size, \\\n",
        "                            stride=stride, \\\n",
        "                            padding=padding, \\\n",
        "                            bias=bias))\n",
        "\n",
        "    # Adding batchnorm\n",
        "    if batchnorm:\n",
        "        layers.append(nn.BatchNorm2d(out_channels))\n",
        "\n",
        "    # Adding activation\n",
        "    if activation == 'relu':\n",
        "        layers.append(nn.ReLU())\n",
        "    elif activation == 'sigmoid':\n",
        "        layers.append(nn.Sigmoid())\n",
        "    elif activation == 'none':\n",
        "        pass\n",
        "    else:\n",
        "        assert False, \"Invalid activation function.\"\n",
        "        \n",
        "    return nn.Sequential(*layers)\n",
        "\n",
        "def check_power_2(val):\n",
        "    # Checks if input val is a power of 2\n",
        "\n",
        "    return (val & (val - 1) == 0) and val != 0\n",
        "\n",
        "class stacker_architecture(nn.Module):\n",
        "    def __init__(self, num_input_types, initial_channels=64, encode_channels=16):\n",
        "        # initial_channels is the initial channels to convolve to\n",
        "        # encode channels is the number of channels to decode to\n",
        "\n",
        "        super().__init__()\n",
        "\n",
        "        assert check_power_2(initial_channels) and \\\n",
        "        check_power_2(encode_channels), \\\n",
        "        \"initial_channels and encode_channels must be powers of 2.\"\n",
        "\n",
        "        num_encode_decode_layers = np.log2(initial_channels // encode_channels).astype(int)\n",
        "        \n",
        "        self.net = []\n",
        "\n",
        "        # First layer\n",
        "        self.net.append(stacker_layer(in_channels=num_input_types, \\\n",
        "                                      out_channels=initial_channels, \\\n",
        "                                      activation='relu', \\\n",
        "                                      batchnorm=True))\n",
        "\n",
        "        # Encoding\n",
        "        for layer_idx in range(0, num_encode_decode_layers):\n",
        "            self.net.append(stacker_layer(in_channels=initial_channels // (2 ** layer_idx), \\\n",
        "                                          out_channels=initial_channels // (2 ** (layer_idx + 1)), \\\n",
        "                                          activation='relu', \\\n",
        "                                          batchnorm=True))\n",
        "        \n",
        "        # Decoding\n",
        "        # Note that no batchnorm in the final decoding layer\n",
        "        for layer_idx in range(0, num_encode_decode_layers):\n",
        "            self.net.append(stacker_layer(in_channels=encode_channels * (2 ** layer_idx), \\\n",
        "                                          out_channels=encode_channels * (2 ** (layer_idx + 1)), \\\n",
        "                                          activation='relu', \\\n",
        "                                          batchnorm=layer_idx != num_encode_decode_layers - 1))\n",
        "\n",
        "        # Final layer\n",
        "        self.net.append(stacker_layer(in_channels=initial_channels, \\\n",
        "                                      out_channels=1, \\\n",
        "                                      activation='sigmoid', \\\n",
        "                                      batchnorm=False))\n",
        "        \n",
        "        self.net = nn.Sequential(*self.net)\n",
        "    \n",
        "    def forward(self, concatenated_inputs):\n",
        "        output = self.net(concatenated_inputs)\n",
        "        return output.squeeze()"
      ],
      "execution_count": 12,
      "outputs": []
    },
    {
      "cell_type": "code",
      "metadata": {
        "id": "CSeOtprGXLYi"
      },
      "source": [
        "from_scratch = False"
      ],
      "execution_count": 14,
      "outputs": []
    },
    {
      "cell_type": "code",
      "metadata": {
        "id": "sVxM3_P_HYwa"
      },
      "source": [
        "if from_scratch:\n",
        "  num_data = 1000\n",
        "  # 2000 is too large\n",
        "  # 1000 works\n",
        "\n",
        "  stacker_train_data = []\n",
        "  train_data_paths = [train_1_cropped, train_2_cropped, train_3_cropped, train_4_cropped]\n",
        "\n",
        "  for data_path in train_data_paths:\n",
        "    train_data, _, _ = get_images_from_dir(data_path, stop_idx=num_data)\n",
        "    stacker_train_data.append(np.expand_dims(train_data, axis=0))\n",
        "\n",
        "  stacker_train_data_np = np.concatenate(stacker_train_data, axis=0)\n",
        "  del stacker_train_data\n",
        "  # Only works for jay_path\n",
        "  if select_path == jay_path:\n",
        "    with open(os.path.join(select_path, \"stacker_train_data.npy\"), 'wb') as f:\n",
        "        np.save(f, stacker_train_data_np)\n",
        "\n",
        "  stacker_labels, _, _ = get_images_from_dir(train_label_path_cropped, stop_idx=num_data)\n",
        "  # Only works for jay_path\n",
        "  if select_path == jay_path:\n",
        "    with open(os.path.join(select_path, \"stacker_labels.npy\"), 'wb') as f:\n",
        "        np.save(f, stacker_labels)\n",
        "else:\n",
        "  # Only works for jay_path\n",
        "  if select_path == jay_path:\n",
        "    stacker_train_data_np = np.load(os.path.join(select_path, \"stacker_train_data.npy\"))\n",
        "    # Only works for jay_path\n",
        "    stacker_labels = np.load(os.path.join(select_path, \"stacker_labels.npy\"))"
      ],
      "execution_count": 15,
      "outputs": []
    },
    {
      "cell_type": "code",
      "metadata": {
        "colab": {
          "base_uri": "https://localhost:8080/"
        },
        "id": "ywWeoKejTmkD",
        "outputId": "7761eba2-7e92-453f-d9b5-f3a04769ea2c"
      },
      "source": [
        "print(stacker_train_data_np.shape)\n",
        "print()"
      ],
      "execution_count": 12,
      "outputs": [
        {
          "output_type": "stream",
          "text": [
            "(4, 1000, 256, 256)\n",
            "(1000, 256, 256)\n"
          ],
          "name": "stdout"
        }
      ]
    },
    {
      "cell_type": "code",
      "metadata": {
        "id": "KET7UXauPTfO"
      },
      "source": [
        "dataset = stacker_dataset(stacker_train_data_np, stacker_labels)\n",
        "stacker_model = stacker_architecture(num_input_types = len(stacker_train_data_np))\n",
        "stacker_params = prepare_params(batch_size=32, summary_epoch_interval=1, num_epochs=100, learning_rate=1e-4, model_save_path=os.path.join(select_path, \"stacker_models\") + \"stacker_model\")"
      ],
      "execution_count": 26,
      "outputs": []
    },
    {
      "cell_type": "code",
      "metadata": {
        "id": "ecUZKGsJXcQ8"
      },
      "source": [
        "stacker = model_container(dataset, stacker_model, stacker_params)"
      ],
      "execution_count": 18,
      "outputs": []
    },
    {
      "cell_type": "code",
      "metadata": {
        "colab": {
          "base_uri": "https://localhost:8080/",
          "height": 1000
        },
        "id": "3dNB2vA-YZKw",
        "outputId": "9a432659-e6f3-41c0-bdf7-2843c0d5b372"
      },
      "source": [
        "stacker.train()"
      ],
      "execution_count": 19,
      "outputs": [
        {
          "output_type": "stream",
          "text": [
            "New model saved!\n",
            "Epoch 1, Total training loss 4.455865, Total validation loss 0.711921\n",
            "New model saved!\n",
            "Epoch 2, Total training loss 1.697162, Total validation loss 0.128985\n",
            "New model saved!\n",
            "Epoch 3, Total training loss 0.445266, Total validation loss 0.047361\n",
            "New model saved!\n",
            "Epoch 4, Total training loss 0.188193, Total validation loss 0.030937\n",
            "New model saved!\n",
            "Epoch 5, Total training loss 0.139944, Total validation loss 0.024096\n",
            "New model saved!\n",
            "Epoch 6, Total training loss 0.111223, Total validation loss 0.019465\n",
            "New model saved!\n",
            "Epoch 7, Total training loss 0.091569, Total validation loss 0.016096\n",
            "New model saved!\n",
            "Epoch 8, Total training loss 0.077917, Total validation loss 0.014290\n",
            "New model saved!\n",
            "Epoch 9, Total training loss 0.068795, Total validation loss 0.012972\n",
            "New model saved!\n",
            "Epoch 10, Total training loss 0.062126, Total validation loss 0.011401\n",
            "New model saved!\n",
            "Epoch 11, Total training loss 0.056538, Total validation loss 0.010690\n",
            "New model saved!\n",
            "Epoch 12, Total training loss 0.052815, Total validation loss 0.009761\n",
            "New model saved!\n",
            "Epoch 13, Total training loss 0.049283, Total validation loss 0.009270\n",
            "New model saved!\n",
            "Epoch 14, Total training loss 0.046870, Total validation loss 0.008806\n",
            "New model saved!\n",
            "Epoch 15, Total training loss 0.044703, Total validation loss 0.008421\n",
            "New model saved!\n",
            "Epoch 16, Total training loss 0.042912, Total validation loss 0.008158\n",
            "New model saved!\n",
            "Epoch 17, Total training loss 0.041213, Total validation loss 0.007807\n",
            "New model saved!\n",
            "Epoch 18, Total training loss 0.039858, Total validation loss 0.007631\n",
            "New model saved!\n",
            "Epoch 19, Total training loss 0.038833, Total validation loss 0.007386\n",
            "New model saved!\n",
            "Epoch 20, Total training loss 0.037811, Total validation loss 0.007198\n",
            "New model saved!\n",
            "Epoch 21, Total training loss 0.036836, Total validation loss 0.007014\n",
            "Epoch 22, Total training loss 0.036236, Total validation loss 0.007068\n",
            "New model saved!\n",
            "Epoch 23, Total training loss 0.035521, Total validation loss 0.006827\n",
            "New model saved!\n",
            "Epoch 24, Total training loss 0.035017, Total validation loss 0.006779\n",
            "New model saved!\n",
            "Epoch 25, Total training loss 0.034150, Total validation loss 0.006574\n",
            "New model saved!\n",
            "Epoch 26, Total training loss 0.033582, Total validation loss 0.006457\n",
            "New model saved!\n",
            "Epoch 27, Total training loss 0.033007, Total validation loss 0.006386\n",
            "Epoch 28, Total training loss 0.032689, Total validation loss 0.006423\n",
            "New model saved!\n",
            "Epoch 29, Total training loss 0.032304, Total validation loss 0.006223\n",
            "New model saved!\n",
            "Epoch 30, Total training loss 0.031773, Total validation loss 0.006182\n",
            "New model saved!\n",
            "Epoch 31, Total training loss 0.031349, Total validation loss 0.006052\n",
            "Epoch 32, Total training loss 0.030941, Total validation loss 0.006053\n",
            "New model saved!\n",
            "Epoch 33, Total training loss 0.030709, Total validation loss 0.005966\n",
            "Epoch 34, Total training loss 0.030449, Total validation loss 0.006109\n",
            "New model saved!\n",
            "Epoch 35, Total training loss 0.030112, Total validation loss 0.005851\n",
            "New model saved!\n",
            "Epoch 36, Total training loss 0.029756, Total validation loss 0.005816\n",
            "New model saved!\n",
            "Epoch 37, Total training loss 0.029606, Total validation loss 0.005738\n",
            "New model saved!\n",
            "Epoch 38, Total training loss 0.029326, Total validation loss 0.005677\n",
            "New model saved!\n",
            "Epoch 39, Total training loss 0.029098, Total validation loss 0.005586\n",
            "Epoch 40, Total training loss 0.029157, Total validation loss 0.005697\n",
            "New model saved!\n",
            "Epoch 41, Total training loss 0.028656, Total validation loss 0.005582\n",
            "New model saved!\n",
            "Epoch 42, Total training loss 0.028563, Total validation loss 0.005473\n",
            "Epoch 43, Total training loss 0.028392, Total validation loss 0.005473\n",
            "Epoch 44, Total training loss 0.028218, Total validation loss 0.005486\n",
            "Epoch 45, Total training loss 0.027841, Total validation loss 0.005475\n",
            "New model saved!\n",
            "Epoch 46, Total training loss 0.027491, Total validation loss 0.005369\n",
            "New model saved!\n",
            "Epoch 47, Total training loss 0.027360, Total validation loss 0.005289\n",
            "Epoch 48, Total training loss 0.027076, Total validation loss 0.005332\n",
            "Epoch 49, Total training loss 0.027068, Total validation loss 0.005308\n",
            "Epoch 50, Total training loss 0.027297, Total validation loss 0.005703\n",
            "New model saved!\n",
            "Epoch 51, Total training loss 0.027057, Total validation loss 0.005166\n",
            "Epoch 52, Total training loss 0.026608, Total validation loss 0.005180\n",
            "Epoch 53, Total training loss 0.026622, Total validation loss 0.005486\n",
            "New model saved!\n",
            "Epoch 54, Total training loss 0.026453, Total validation loss 0.005127\n",
            "New model saved!\n",
            "Epoch 55, Total training loss 0.026358, Total validation loss 0.005065\n",
            "New model saved!\n",
            "Epoch 56, Total training loss 0.026324, Total validation loss 0.005028\n",
            "New model saved!\n",
            "Epoch 57, Total training loss 0.025653, Total validation loss 0.004960\n",
            "Epoch 58, Total training loss 0.025616, Total validation loss 0.005019\n",
            "Epoch 59, Total training loss 0.025555, Total validation loss 0.005077\n",
            "New model saved!\n",
            "Epoch 60, Total training loss 0.025437, Total validation loss 0.004951\n",
            "New model saved!\n",
            "Epoch 61, Total training loss 0.025242, Total validation loss 0.004880\n",
            "Epoch 62, Total training loss 0.025092, Total validation loss 0.004895\n",
            "Epoch 63, Total training loss 0.024972, Total validation loss 0.005040\n",
            "New model saved!\n",
            "Epoch 64, Total training loss 0.024880, Total validation loss 0.004847\n",
            "New model saved!\n",
            "Epoch 65, Total training loss 0.024581, Total validation loss 0.004803\n",
            "New model saved!\n",
            "Epoch 66, Total training loss 0.024556, Total validation loss 0.004755\n",
            "Epoch 67, Total training loss 0.024765, Total validation loss 0.004771\n",
            "Epoch 68, Total training loss 0.024411, Total validation loss 0.004892\n",
            "New model saved!\n",
            "Epoch 69, Total training loss 0.024552, Total validation loss 0.004650\n",
            "New model saved!\n",
            "Epoch 70, Total training loss 0.024031, Total validation loss 0.004636\n",
            "Epoch 71, Total training loss 0.023802, Total validation loss 0.004691\n",
            "Epoch 72, Total training loss 0.024175, Total validation loss 0.004766\n",
            "New model saved!\n",
            "Epoch 73, Total training loss 0.023689, Total validation loss 0.004604\n",
            "New model saved!\n",
            "Epoch 74, Total training loss 0.023482, Total validation loss 0.004551\n",
            "New model saved!\n",
            "Epoch 75, Total training loss 0.023436, Total validation loss 0.004532\n",
            "Epoch 76, Total training loss 0.023342, Total validation loss 0.004650\n",
            "Epoch 77, Total training loss 0.023120, Total validation loss 0.004606\n",
            "Epoch 78, Total training loss 0.023076, Total validation loss 0.004643\n",
            "New model saved!\n",
            "Epoch 79, Total training loss 0.022985, Total validation loss 0.004443\n",
            "Epoch 80, Total training loss 0.022724, Total validation loss 0.004453\n",
            "Epoch 81, Total training loss 0.023046, Total validation loss 0.004513\n",
            "Epoch 82, Total training loss 0.022763, Total validation loss 0.004517\n",
            "Epoch 83, Total training loss 0.022752, Total validation loss 0.004488\n",
            "Epoch 84, Total training loss 0.022425, Total validation loss 0.004554\n",
            "Epoch 85, Total training loss 0.023168, Total validation loss 0.004566\n",
            "Epoch 86, Total training loss 0.022748, Total validation loss 0.004476\n",
            "New model saved!\n",
            "Epoch 87, Total training loss 0.022328, Total validation loss 0.004283\n",
            "Epoch 88, Total training loss 0.022540, Total validation loss 0.004494\n",
            "New model saved!\n",
            "Epoch 89, Total training loss 0.022763, Total validation loss 0.004226\n",
            "Epoch 90, Total training loss 0.023267, Total validation loss 0.004267\n",
            "Epoch 91, Total training loss 0.021666, Total validation loss 0.004259\n",
            "New model saved!\n",
            "Epoch 92, Total training loss 0.021636, Total validation loss 0.004219\n",
            "New model saved!\n",
            "Epoch 93, Total training loss 0.021538, Total validation loss 0.004188\n",
            "Epoch 94, Total training loss 0.021199, Total validation loss 0.004267\n",
            "New model saved!\n",
            "Epoch 95, Total training loss 0.021260, Total validation loss 0.004125\n",
            "Epoch 96, Total training loss 0.021365, Total validation loss 0.004201\n",
            "New model saved!\n",
            "Epoch 97, Total training loss 0.021013, Total validation loss 0.004101\n",
            "New model saved!\n",
            "Epoch 98, Total training loss 0.021188, Total validation loss 0.004032\n",
            "Epoch 99, Total training loss 0.020819, Total validation loss 0.004104\n",
            "New model saved!\n",
            "Epoch 100, Total training loss 0.020673, Total validation loss 0.004018\n"
          ],
          "name": "stdout"
        },
        {
          "output_type": "display_data",
          "data": {
            "image/png": "[encoded data removed]",
            "text/plain": [
              "<Figure size 432x288 with 1 Axes>"
            ]
          },
          "metadata": {
            "tags": [],
            "needs_background": "light"
          }
        }
      ]
    },
    {
      "cell_type": "code",
      "metadata": {
        "id": "nx4-4EgIwxt7"
      },
      "source": [
        ""
      ],
      "execution_count": null,
      "outputs": []
    },
    {
      "cell_type": "code",
      "metadata": {
        "id": "rnrqjLb0ewq7"
      },
      "source": [
        "# Set MODEL PATH for loading model\n",
        "PATH = os.path.join(select_path, \"stacker_models\", \"stacker_model_100\")\n",
        "model = stacker_architecture(num_input_types = len(stacker_train_data_np))\n",
        "model.load_state_dict(torch.load(PATH))\n",
        "model.eval()\n",
        "\n",
        "stacker = model_container(dataset, model, stacker_params)"
      ],
      "execution_count": 61,
      "outputs": []
    },
    {
      "cell_type": "code",
      "metadata": {
        "id": "6cBM19iutCb9"
      },
      "source": [
        ""
      ],
      "execution_count": null,
      "outputs": []
    },
    {
      "cell_type": "code",
      "metadata": {
        "colab": {
          "base_uri": "https://localhost:8080/"
        },
        "id": "rizdObLwt9Zh",
        "outputId": "804de645-9bdd-48af-c60c-ddc0146160fa"
      },
      "source": [
        "autoencoder_test_data, _, test_filenames = get_images_from_dir(os.path.join(test_path, \"autoencoder\"), cropped=False)"
      ],
      "execution_count": 28,
      "outputs": [
        {
          "output_type": "stream",
          "text": [
            "431 / 432\n"
          ],
          "name": "stdout"
        }
      ]
    },
    {
      "cell_type": "code",
      "metadata": {
        "colab": {
          "base_uri": "https://localhost:8080/"
        },
        "id": "H7_XddsouQ0c",
        "outputId": "13e3859f-76a5-4775-9f8c-dbf6357bbf36"
      },
      "source": [
        "print(test_filenames)"
      ],
      "execution_count": 43,
      "outputs": [
        {
          "output_type": "stream",
          "text": [
            "['img_0120.png', 'img_0121.png', 'img_0122.png', 'img_0123.png', 'img_0124.png', 'img_0125.png', 'img_0126.png', 'img_0127.png', 'img_0152.png', 'img_0153.png', 'img_0154.png', 'img_0155.png', 'img_0156.png', 'img_0157.png', 'img_0158.png', 'img_0159.png', 'img_0160.png', 'img_0161.png', 'img_0162.png', 'img_0163.png', 'img_0164.png', 'img_0165.png', 'img_0166.png', 'img_0167.png', 'img_0256.png', 'img_0257.png', 'img_0258.png', 'img_0259.png', 'img_0260.png', 'img_0261.png', 'img_0262.png', 'img_0263.png', 'img_0264.png', 'img_0265.png', 'img_0266.png', 'img_0267.png', 'img_0268.png', 'img_0269.png', 'img_0270.png', 'img_0271.png', 'img_0272.png', 'img_0273.png', 'img_0274.png', 'img_0275.png', 'img_0276.png', 'img_0277.png', 'img_0278.png', 'img_0279.png', 'img_0328.png', 'img_0329.png', 'img_0330.png', 'img_0331.png', 'img_0332.png', 'img_0333.png', 'img_0334.png', 'img_0335.png', 'img_0384.png', 'img_0385.png', 'img_0386.png', 'img_0387.png', 'img_0388.png', 'img_0389.png', 'img_0390.png', 'img_0391.png', 'img_0392.png', 'img_0393.png', 'img_0394.png', 'img_0395.png', 'img_0396.png', 'img_0397.png', 'img_0398.png', 'img_0399.png', 'img_0400.png', 'img_0401.png', 'img_0402.png', 'img_0403.png', 'img_0404.png', 'img_0405.png', 'img_0406.png', 'img_0407.png', 'img_0416.png', 'img_0417.png', 'img_0418.png', 'img_0419.png', 'img_0420.png', 'img_0421.png', 'img_0422.png', 'img_0423.png', 'img_0576.png', 'img_0577.png', 'img_0578.png', 'img_0579.png', 'img_0580.png', 'img_0581.png', 'img_0582.png', 'img_0583.png', 'img_0592.png', 'img_0593.png', 'img_0594.png', 'img_0595.png', 'img_0596.png', 'img_0597.png', 'img_0598.png', 'img_0599.png', 'img_0600.png', 'img_0601.png', 'img_0602.png', 'img_0603.png', 'img_0604.png', 'img_0605.png', 'img_0606.png', 'img_0607.png', 'img_0616.png', 'img_0617.png', 'img_0618.png', 'img_0619.png', 'img_0620.png', 'img_0621.png', 'img_0622.png', 'img_0623.png', 'img_0680.png', 'img_0681.png', 'img_0682.png', 'img_0683.png', 'img_0684.png', 'img_0685.png', 'img_0686.png', 'img_0687.png', 'img_0800.png', 'img_0801.png', 'img_0802.png', 'img_0803.png', 'img_0804.png', 'img_0805.png', 'img_0806.png', 'img_0807.png', 'img_0848.png', 'img_0849.png', 'img_0850.png', 'img_0851.png', 'img_0852.png', 'img_0853.png', 'img_0854.png', 'img_0855.png', 'img_0864.png', 'img_0865.png', 'img_0866.png', 'img_0867.png', 'img_0868.png', 'img_0869.png', 'img_0870.png', 'img_0871.png', 'img_0888.png', 'img_0889.png', 'img_0890.png', 'img_0891.png', 'img_0892.png', 'img_0893.png', 'img_0894.png', 'img_0895.png', 'img_1000.png', 'img_1001.png', 'img_1002.png', 'img_1003.png', 'img_1004.png', 'img_1005.png', 'img_1006.png', 'img_1007.png', 'img_1016.png', 'img_1017.png', 'img_1018.png', 'img_1019.png', 'img_1020.png', 'img_1021.png', 'img_1022.png', 'img_1023.png', 'img_1072.png', 'img_1073.png', 'img_1074.png', 'img_1075.png', 'img_1076.png', 'img_1077.png', 'img_1078.png', 'img_1079.png', 'img_1120.png', 'img_1121.png', 'img_1122.png', 'img_1123.png', 'img_1124.png', 'img_1125.png', 'img_1126.png', 'img_1127.png', 'img_1168.png', 'img_1169.png', 'img_1170.png', 'img_1171.png', 'img_1172.png', 'img_1173.png', 'img_1174.png', 'img_1175.png', 'img_1264.png', 'img_1265.png', 'img_1266.png', 'img_1267.png', 'img_1268.png', 'img_1269.png', 'img_1270.png', 'img_1271.png', 'img_1312.png', 'img_1313.png', 'img_1314.png', 'img_1315.png', 'img_1316.png', 'img_1317.png', 'img_1318.png', 'img_1319.png', 'img_1336.png', 'img_1337.png', 'img_1338.png', 'img_1339.png', 'img_1340.png', 'img_1341.png', 'img_1342.png', 'img_1343.png', 'img_1344.png', 'img_1345.png', 'img_1346.png', 'img_1347.png', 'img_1348.png', 'img_1349.png', 'img_1350.png', 'img_1351.png', 'img_1408.png', 'img_1409.png', 'img_1410.png', 'img_1411.png', 'img_1412.png', 'img_1413.png', 'img_1414.png', 'img_1415.png', 'img_1520.png', 'img_1521.png', 'img_1522.png', 'img_1523.png', 'img_1524.png', 'img_1525.png', 'img_1526.png', 'img_1527.png', 'img_1584.png', 'img_1585.png', 'img_1586.png', 'img_1587.png', 'img_1588.png', 'img_1589.png', 'img_1590.png', 'img_1591.png', 'img_1600.png', 'img_1601.png', 'img_1602.png', 'img_1603.png', 'img_1604.png', 'img_1605.png', 'img_1606.png', 'img_1607.png', 'img_1688.png', 'img_1689.png', 'img_1690.png', 'img_1691.png', 'img_1692.png', 'img_1693.png', 'img_1694.png', 'img_1695.png', 'img_1696.png', 'img_1697.png', 'img_1698.png', 'img_1699.png', 'img_1700.png', 'img_1701.png', 'img_1702.png', 'img_1703.png', 'img_1752.png', 'img_1753.png', 'img_1754.png', 'img_1755.png', 'img_1756.png', 'img_1757.png', 'img_1758.png', 'img_1759.png', 'img_1792.png', 'img_1793.png', 'img_1794.png', 'img_1795.png', 'img_1796.png', 'img_1797.png', 'img_1798.png', 'img_1799.png', 'img_1800.png', 'img_1801.png', 'img_1802.png', 'img_1803.png', 'img_1804.png', 'img_1805.png', 'img_1806.png', 'img_1807.png', 'img_1896.png', 'img_1897.png', 'img_1898.png', 'img_1899.png', 'img_1900.png', 'img_1901.png', 'img_1902.png', 'img_1903.png', 'img_1960.png', 'img_1961.png', 'img_1962.png', 'img_1963.png', 'img_1964.png', 'img_1965.png', 'img_1966.png', 'img_1967.png', 'img_2056.png', 'img_2057.png', 'img_2058.png', 'img_2059.png', 'img_2060.png', 'img_2061.png', 'img_2062.png', 'img_2063.png', 'img_2120.png', 'img_2121.png', 'img_2122.png', 'img_2123.png', 'img_2124.png', 'img_2125.png', 'img_2126.png', 'img_2127.png', 'img_2240.png', 'img_2241.png', 'img_2242.png', 'img_2243.png', 'img_2244.png', 'img_2245.png', 'img_2246.png', 'img_2247.png', 'img_2248.png', 'img_2249.png', 'img_2250.png', 'img_2251.png', 'img_2252.png', 'img_2253.png', 'img_2254.png', 'img_2255.png', 'img_2288.png', 'img_2289.png', 'img_2290.png', 'img_2291.png', 'img_2292.png', 'img_2293.png', 'img_2294.png', 'img_2295.png', 'img_2320.png', 'img_2321.png', 'img_2322.png', 'img_2323.png', 'img_2324.png', 'img_2325.png', 'img_2326.png', 'img_2327.png', 'img_2472.png', 'img_2473.png', 'img_2474.png', 'img_2475.png', 'img_2476.png', 'img_2477.png', 'img_2478.png', 'img_2479.png', 'img_2480.png', 'img_2481.png', 'img_2482.png', 'img_2483.png', 'img_2484.png', 'img_2485.png', 'img_2486.png', 'img_2487.png', 'img_2544.png', 'img_2545.png', 'img_2546.png', 'img_2547.png', 'img_2548.png', 'img_2549.png', 'img_2550.png', 'img_2551.png', 'img_2560.png', 'img_2561.png', 'img_2562.png', 'img_2563.png', 'img_2564.png', 'img_2565.png', 'img_2566.png', 'img_2567.png', 'img_2704.png', 'img_2705.png', 'img_2706.png', 'img_2707.png', 'img_2708.png', 'img_2709.png', 'img_2710.png', 'img_2711.png', 'img_2800.png', 'img_2801.png', 'img_2802.png', 'img_2803.png', 'img_2804.png', 'img_2805.png', 'img_2806.png', 'img_2807.png', 'img_2840.png', 'img_2841.png', 'img_2842.png', 'img_2843.png', 'img_2844.png', 'img_2845.png', 'img_2846.png', 'img_2847.png', 'img_2872.png', 'img_2873.png', 'img_2874.png', 'img_2875.png', 'img_2876.png', 'img_2877.png', 'img_2878.png', 'img_2879.png']\n"
          ],
          "name": "stdout"
        }
      ]
    },
    {
      "cell_type": "code",
      "metadata": {
        "id": "6sP36vdEpDAf"
      },
      "source": [
        "# raw_test_data, _, test_filenames = get_images_from_dir(test_path, cropped=False)\n",
        "median_filtering_test_data = []\n",
        "edge_dilation_erosion_filtering_test_data = []\n",
        "adaptive_filtering_test_data = []\n",
        "raw_test_data_paths = [os.path.join(test_path, path) for path in test_filenames]\n",
        "\n",
        "for data_path in raw_test_data_paths:\n",
        "  median_filtering_test_data.append(np.expand_dims(median_filter(data_path)[0:256, 0:256] / 255, 0))\n",
        "  edge_dilation_erosion_filtering_test_data.append(np.expand_dims(edge_dilation_erosion_filter(data_path)[0:256, 0:256] / 255, 0))\n",
        "  adaptive_filtering_test_data.append(np.expand_dims(adaptive_filter(data_path)[0:256, 0:256] / 255, 0))\n",
        "\n",
        "median_filtering_test_data = np.concatenate(median_filtering_test_data, axis=0)\n",
        "edge_dilation_erosion_filtering_test_data = np.concatenate(edge_dilation_erosion_filtering_test_data, axis=0)\n",
        "adaptive_filtering_test_data = np.concatenate(adaptive_filtering_test_data, axis=0)"
      ],
      "execution_count": 35,
      "outputs": []
    },
    {
      "cell_type": "code",
      "metadata": {
        "id": "cKhvsd-jyq6T"
      },
      "source": [
        "raw_stacker_test_data = [adaptive_filtering_test_data, edge_dilation_erosion_filtering_test_data, median_filtering_test_data, autoencoder_test_data]\n",
        "# Order is adaptive filtering, edge dilation, median, autoencoder\n",
        "\n",
        "stacker_test_data = np.concatenate([np.expand_dims(data, axis=1) for data in raw_stacker_test_data], axis=1)"
      ],
      "execution_count": 38,
      "outputs": []
    },
    {
      "cell_type": "code",
      "metadata": {
        "colab": {
          "base_uri": "https://localhost:8080/"
        },
        "id": "zGnb15Ik0UrZ",
        "outputId": "bde3aba0-ed1c-49ef-e0e8-062acebbc373"
      },
      "source": [
        "print(stacker_test_data.shape)"
      ],
      "execution_count": 49,
      "outputs": [
        {
          "output_type": "stream",
          "text": [
            "(432, 4, 256, 256)\n"
          ],
          "name": "stdout"
        }
      ]
    },
    {
      "cell_type": "code",
      "metadata": {
        "id": "uesIlD9FsqL2"
      },
      "source": [
        "test_outputs = stacker.inference(stacker_test_data, save_path=os.path.join(select_path, \"stacker_test_outputs\"), filenames=test_filenames, is_autoencoder=False)"
      ],
      "execution_count": 62,
      "outputs": []
    },
    {
      "cell_type": "code",
      "metadata": {
        "colab": {
          "base_uri": "https://localhost:8080/",
          "height": 273
        },
        "id": "6IaupvMdqYEn",
        "outputId": "bd0eade2-08a4-4c47-c07b-816c8c80ef17"
      },
      "source": [
        "cv2_imshow(test_outputs[0])"
      ],
      "execution_count": 69,
      "outputs": [
        {
          "output_type": "display_data",
          "data": {
            "image/png": "[encoded data removed]",
            "text/plain": [
              "<PIL.Image.Image image mode=L size=256x256 at 0x7F4C6D71C650>"
            ]
          },
          "metadata": {
            "tags": []
          }
        }
      ]
    },
    {
      "cell_type": "code",
      "metadata": {
        "id": "16Sf6fk4rLYA"
      },
      "source": [
        "# Generating output for saving\n",
        "test_outputs = stacker.inference(stacker_test_data, save_path=os.path.join(select_path, \"stacker_outputs\"), filenames=test_filenames)"
      ],
      "execution_count": null,
      "outputs": []
    }
  ]
}