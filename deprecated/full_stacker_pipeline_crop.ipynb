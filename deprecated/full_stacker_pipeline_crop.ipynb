{
  "nbformat": 4,
  "nbformat_minor": 0,
  "metadata": {
    "colab": {
      "name": "full_stacker_pipeline_crop.ipynb",
      "provenance": [],
      "collapsed_sections": [],
      "toc_visible": true
    },
    "kernelspec": {
      "name": "python3",
      "display_name": "Python 3"
    },
    "language_info": {
      "name": "python"
    },
    "accelerator": "GPU"
  },
  "cells": [
    {
      "cell_type": "code",
      "metadata": {
        "id": "B_G8aermNnoC"
      },
      "source": [
        "# Algorithmic methods imports\n",
        "\n",
        "import cv2\n",
        "import os\n",
        "import numpy as np\n",
        "import matplotlib.pyplot as plt\n",
        "from scipy import ndimage, misc\n",
        "from PIL import Image\n",
        "from google.colab.patches import cv2_imshow"
      ],
      "execution_count": 161,
      "outputs": []
    },
    {
      "cell_type": "code",
      "metadata": {
        "id": "0BQQQybIZIwG"
      },
      "source": [
        "import torch\n",
        "import torch.nn as nn\n",
        "import torch.nn.functional as F\n",
        "from torch.utils.data import DataLoader, Dataset\n",
        "import numpy as np\n",
        "from IPython.display import clear_output "
      ],
      "execution_count": 162,
      "outputs": []
    },
    {
      "cell_type": "code",
      "metadata": {
        "id": "Tg1WvW0KOFwj"
      },
      "source": [
        "data_path = \"./drive/MyDrive/CSC413 Project/trainA\"\n",
        "label_path = \"./drive/MyDrive/CSC413 Project/trainB\""
      ],
      "execution_count": 163,
      "outputs": []
    },
    {
      "cell_type": "markdown",
      "metadata": {
        "id": "uAZenmvaULBG"
      },
      "source": [
        "# Defining algorithmic processing methods\n",
        "Written by Kevin Zhang"
      ]
    },
    {
      "cell_type": "code",
      "metadata": {
        "id": "G1y2qC3sT4zq"
      },
      "source": [
        "########################################################\n",
        "# PART 1 - Median Filtering\n",
        "########################################################\n",
        "def median_filter(image_path):\n",
        "  img = cv2.imread(image_path, cv2.IMREAD_GRAYSCALE) # Load image\n",
        "  img_median = cv2.medianBlur(img, 25) # Add median filter to image\n",
        "  result = np.minimum(img.astype(np.uint16)+(255-img_median.astype(np.uint16)), 255)\n",
        "  return result.astype(np.uint8)"
      ],
      "execution_count": 164,
      "outputs": []
    },
    {
      "cell_type": "code",
      "metadata": {
        "id": "bSEalB-aUGjg"
      },
      "source": [
        "########################################################\n",
        "# PART 2 - Edge Detection, Dilation Erosion\n",
        "########################################################\n",
        "def edge_dilation_erosion_filter(image_path):\n",
        "  img = cv2.imread(image_path, cv2.IMREAD_GRAYSCALE) # Load image\n",
        "  edges = cv2.Canny(img,100,200)\n",
        "  dilated = cv2.dilate(edges, np.ones((3,3),np.uint8), iterations=1)\n",
        "  eroded = cv2.erode(dilated, np.ones((4,4),np.uint8), iterations=1)\n",
        "  return cv2.bitwise_not(eroded)"
      ],
      "execution_count": 165,
      "outputs": []
    },
    {
      "cell_type": "code",
      "metadata": {
        "id": "I0JF0WqEUHlV"
      },
      "source": [
        "########################################################\n",
        "# PART 3 - Adaptive Filter\n",
        "########################################################\n",
        "def adaptive_filter(image_path):\n",
        "  img = cv2.imread(image_path, cv2.IMREAD_GRAYSCALE) # Load image\n",
        "  return cv2.adaptiveThreshold(img,255,cv2.ADAPTIVE_THRESH_GAUSSIAN_C,\\\n",
        "            cv2.THRESH_BINARY,15,20)"
      ],
      "execution_count": 166,
      "outputs": []
    },
    {
      "cell_type": "markdown",
      "metadata": {
        "id": "Xdh8BsTwWPAO"
      },
      "source": [
        "## Creating images using algorithmic methods\n",
        "\n",
        "Written by Kevin Zhang"
      ]
    },
    {
      "cell_type": "code",
      "metadata": {
        "id": "6CjFQxmSUSUp"
      },
      "source": [
        "if not os.path.exists(data_path+\"/median_filtered\"):\n",
        "  os.mkdir(data_path+\"/median_filtered\")\n",
        "if not os.path.exists(data_path+\"/edge_dilation_erosion\"):\n",
        "  os.mkdir(data_path+\"/edge_dilation_erosion\")\n",
        "if not os.path.exists(data_path+\"/adaptive_filtered\"):\n",
        "  os.mkdir(data_path+\"/adaptive_filtered\")\n",
        "\n",
        "for img in sorted(os.listdir(data_path)):\n",
        "  if img.endswith('.png'):\n",
        "    input_image_path = os.path.join(data_path,img)\n",
        "\n",
        "    median_filter_path = os.path.join(data_path+\"/median_filtered\",img)\n",
        "    edge_dilation_erosion_path = os.path.join(data_path+\"/edge_dilation_erosion\",img)\n",
        "    adaptive_filter_path = os.path.join(data_path+\"/adaptive_filtered\",img)\n",
        "\n",
        "    if not os.path.exists(adaptive_filter_path):\n",
        "      cv2.imwrite(median_filter_path, median_filter(input_image_path))\n",
        "    if not os.path.exists(edge_dilation_erosion_path):\n",
        "      cv2.imwrite(edge_dilation_erosion_path, edge_dilation_erosion_filter(input_image_path))\n",
        "    if not os.path.exists(adaptive_filter_path):\n",
        "      cv2.imwrite(adaptive_filter_path, adaptive_filter(input_image_path))"
      ],
      "execution_count": 167,
      "outputs": []
    },
    {
      "cell_type": "code",
      "metadata": {
        "colab": {
          "base_uri": "https://localhost:8080/",
          "height": 437
        },
        "id": "KhmLrIffUxhn",
        "outputId": "535ebbbd-aa4b-468c-99ae-ff71eac5b196"
      },
      "source": [
        "# Test image\n",
        "result = edge_dilation_erosion_filter(os.path.join(data_path, \"img_0000.png\"))\n",
        "cv2_imshow(result)"
      ],
      "execution_count": 168,
      "outputs": [
        {
          "output_type": "display_data",
          "data": {
            "image/png": "[encoded data removed]",
            "text/plain": [
              "<PIL.Image.Image image mode=L size=540x420 at 0x7FBD935BD390>"
            ]
          },
          "metadata": {
            "tags": []
          }
        }
      ]
    },
    {
      "cell_type": "markdown",
      "metadata": {
        "id": "uezuBRZ_aaKf"
      },
      "source": [
        "# Machine Learning Methods\n",
        "Written by Jay Yoo"
      ]
    },
    {
      "cell_type": "code",
      "metadata": {
        "id": "SmBZaIDliPay"
      },
      "source": [
        "def prepare_params(batch_size=128, num_epochs=100, learning_rate=1e-4, \\\n",
        "                   summary_epoch_interval=10, loss_function=nn.MSELoss(), \\\n",
        "                   optimizer=torch.optim.Adam):\n",
        "  # optimizer is passed the function definition, not a called function \n",
        "    # (note the lack of brackets in the base argument)\n",
        "  \n",
        "  params = {\n",
        "      'batch_size' : batch_size,\n",
        "      'num_epochs' : num_epochs,\n",
        "      'learning_rate' : learning_rate,\n",
        "      'summary_epoch_interval' : summary_epoch_interval, \n",
        "      'loss_function' : loss_function, \n",
        "      'optimizer' : optimizer,\n",
        "  }\n",
        "\n",
        "  return params"
      ],
      "execution_count": 169,
      "outputs": []
    },
    {
      "cell_type": "code",
      "metadata": {
        "id": "C3TLQU9wdX5x"
      },
      "source": [
        "class model_container():\n",
        "  def __init__(self, dataset, model, params):\n",
        "    # Model does not have to be transferred to cuda gpu\n",
        "\n",
        "    self.batch_size = params['batch_size']\n",
        "    self.num_epochs = params['num_epochs']\n",
        "    self.learning_rate = params['learning_rate']\n",
        "    self.summary_epoch_interval = params['summary_epoch_interval']\n",
        "    self.loss_function = params['loss_function']\n",
        "    self.optimizer = params['optimizer']\n",
        "\n",
        "    self.dataloader = DataLoader(dataset, batch_size=self.batch_size, pin_memory=True, num_workers=0)\n",
        "    self.model = model.cuda()\n",
        "\n",
        "  def train(self):\n",
        "    self.model.train()\n",
        "\n",
        "    # optimizer = torch.optim.Adam(lr=learning_rate, params=self.model.parameters())\n",
        "    optimizer = self.optimizer(lr=self.learning_rate, params=self.model.parameters())\n",
        "\n",
        "    for epoch in range(1, self.num_epochs + 1):\n",
        "        cumulated_loss = 0\n",
        "\n",
        "        for model_input, labels in self.dataloader:\n",
        "            model_input = model_input.cuda()\n",
        "            labels = labels.cuda()\n",
        "            model_output = self.model(model_input)\n",
        "            loss = self.loss_function(model_output, labels)\n",
        "\n",
        "            optimizer.zero_grad()\n",
        "            loss.backward()\n",
        "            optimizer.step()\n",
        "\n",
        "            cumulated_loss += loss.item()\n",
        "            \n",
        "        if not epoch % self.summary_epoch_interval:\n",
        "            print(\"Epoch %d, Total loss %0.6f\" % (epoch, cumulated_loss))\n",
        "\n",
        "  def inference(self, data_to_infer, save_path=None, filenames=None):\n",
        "    # Assumed to be list of numpy\n",
        "    # Add option to automatically save to a directory if memory is a concern\n",
        "\n",
        "    self.model.eval()\n",
        "\n",
        "    if save_path is None:\n",
        "      outputs = []\n",
        "      for data in data_to_infer:\n",
        "        model_input = torch.from_numpy(data)\n",
        "        model_input = torch.unsqueeze(model_input, dim=0)\n",
        "        model_input = torch.unsqueeze(model_input, dim=0)\n",
        "        model_input = model_input.type(torch.FloatTensor)\n",
        "        model_input = model_input.cuda()\n",
        "        outputs.append(self.model(model_input).cpu().detach().numpy() * 255)\n",
        "\n",
        "      return outputs\n",
        "    else:\n",
        "      if filenames is None:\n",
        "        filenames = [str(idx) for idx in range(len(data_to_infer))]\n",
        "      for idx, data in enumerate(data_to_infer):\n",
        "        model_input = torch.from_numpy(data)\n",
        "        model_input = torch.unsqueeze(model_input, dim=0)\n",
        "        model_input = torch.unsqueeze(model_input, dim=0)\n",
        "        model_input = model_input.type(torch.FloatTensor)\n",
        "        model_input = model_input.cuda()\n",
        "        model_output = self.model(model_input).cpu().detach().numpy() * 255\n",
        "\n",
        "        cv2.imwrite(os.path.join(save_path, filenames[idx]) + '.png', model_output)\n",
        "\n",
        "  def delete_data(self):\n",
        "    # For memory optimizations\n",
        "    del self.dataloader\n",
        "  \n",
        "  def get_model():\n",
        "    self.model.eval()\n",
        "    return self.model"
      ],
      "execution_count": 170,
      "outputs": []
    },
    {
      "cell_type": "markdown",
      "metadata": {
        "id": "I3KVHj9maO0V"
      },
      "source": [
        "##  Autoencoder model\n",
        "Written by Jay Yoo"
      ]
    },
    {
      "cell_type": "code",
      "metadata": {
        "id": "iosiXxWcYHV6"
      },
      "source": [
        "class autoencoder_dataset(Dataset):\n",
        "    def __init__(self, data, labels):\n",
        "        super().__init__()\n",
        "        # data and labels are both (dataset size, m, n) where images are m x n\n",
        "\n",
        "        self.num_data = len(data)\n",
        "        self.train_data = torch.unsqueeze(torch.from_numpy(data), dim=1)\n",
        "        self.train_data = self.train_data.type(torch.FloatTensor)\n",
        "        self.labels = torch.from_numpy(labels)\n",
        "        self.labels = self.labels.type(torch.FloatTensor)\n",
        "\n",
        "    def __len__(self):\n",
        "        return self.num_data\n",
        "\n",
        "    def __getitem__(self, idx):\n",
        "        return self.train_data[idx], self.labels[idx]"
      ],
      "execution_count": 171,
      "outputs": []
    },
    {
      "cell_type": "code",
      "metadata": {
        "id": "cgkdASRxXkAw"
      },
      "source": [
        "def autoencoder_layer(in_channels, out_channels, kernel_size=3, stride=1, \\\n",
        "                  padding=1, bias=True, batchnorm=True, activation='relu', \\\n",
        "                  upsample=None):\n",
        "    # Convolution layer that maintains shape \n",
        "        # with optional activation layer and batchnorm\n",
        "    # Use stride = 1, kernel = 3, padding = 1 for convenience\n",
        "    # Activation argument is one of 'relu', 'sigmoid', 'leaky_relu', or 'none\n",
        "\n",
        "    layers = []\n",
        "\n",
        "    # Upsampling\n",
        "    if upsample is not None:\n",
        "        layers.append(nn.Upsample(scale_factor=upsample))\n",
        "\n",
        "    # Adding convolutional layer\n",
        "    layers.append(nn.Conv2d(in_channels=in_channels, \\\n",
        "                            out_channels=out_channels, \\\n",
        "                            kernel_size=kernel_size, \\\n",
        "                            stride=stride, \\\n",
        "                            padding=padding, \\\n",
        "                            bias=bias))\n",
        "\n",
        "    # Adding batchnorm\n",
        "    if batchnorm:\n",
        "        layers.append(nn.BatchNorm2d(out_channels))\n",
        "\n",
        "    # Adding activation\n",
        "    if activation == 'relu':\n",
        "        layers.append(nn.ReLU())\n",
        "    elif activation == 'sigmoid':\n",
        "        layers.append(nn.Sigmoid())\n",
        "    elif activation == 'leaky_relu':\n",
        "        layers.append(nn.LeakyReLU())\n",
        "    elif activation == 'none':\n",
        "        pass\n",
        "    else:\n",
        "        assert False, \"Invalid activation function.\"\n",
        "        \n",
        "    return nn.Sequential(*layers)\n",
        "\n",
        "class autoencoder_architecture(nn.Module):\n",
        "    def __init__(self, num_hidden_channels=64):\n",
        "        super().__init__()\n",
        "        \n",
        "        self.net = []\n",
        "\n",
        "        self.net.append(autoencoder_layer(in_channels=1, \\\n",
        "                                      out_channels=num_hidden_channels, \\\n",
        "                                      activation='leaky_relu', \\\n",
        "                                      batchnorm=True, \\\n",
        "                                      upsample=None))\n",
        "        self.net.append(autoencoder_layer(in_channels=num_hidden_channels, \\\n",
        "                                      out_channels=num_hidden_channels, \\\n",
        "                                      activation='leaky_relu', \\\n",
        "                                      batchnorm=False, \\\n",
        "                                      upsample=None))\n",
        "        self.net.append(nn.MaxPool2d(2)) # Pool to half of shape\n",
        "        self.net.append(autoencoder_layer(in_channels=num_hidden_channels, \\\n",
        "                                      out_channels=num_hidden_channels, \\\n",
        "                                      activation='leaky_relu', \\\n",
        "                                      batchnorm=True, \\\n",
        "                                      upsample=None))\n",
        "        self.net.append(autoencoder_layer(in_channels=num_hidden_channels, \\\n",
        "                                      out_channels=num_hidden_channels, \\\n",
        "                                      activation='leaky_relu', \\\n",
        "                                      batchnorm=False, \\\n",
        "                                      upsample=2))\n",
        "        self.net.append(autoencoder_layer(in_channels=num_hidden_channels, \\\n",
        "                                      out_channels=1, \\\n",
        "                                      activation='sigmoid', \\\n",
        "                                      batchnorm=False, \\\n",
        "                                      upsample=None))\n",
        "        \n",
        "        self.net = nn.Sequential(*self.net)\n",
        "    \n",
        "    def forward(self, concatenated_inputs):\n",
        "        output = self.net(concatenated_inputs)\n",
        "        return output.squeeze()"
      ],
      "execution_count": 172,
      "outputs": []
    },
    {
      "cell_type": "code",
      "metadata": {
        "id": "ftcCNfmalbX8"
      },
      "source": [
        "def get_images_from_dir(data_path, track_progress=True, stop_idx=None, \\\n",
        "                        image_shape=None):\n",
        "\n",
        "  dir_paths = os.listdir(data_path)\n",
        "  num_paths = len(dir_paths)\n",
        "\n",
        "  if stop_idx is None:\n",
        "    stop_idx = num_paths\n",
        "\n",
        "  if track_progress == True:\n",
        "    def show_progress(idx):\n",
        "      clear_output()\n",
        "      print(idx, '/', stop_idx)\n",
        "  else:\n",
        "    def show_progress(idx):\n",
        "      pass\n",
        "\n",
        "  if image_shape is None:\n",
        "    num_pngs = 0\n",
        "    image_shape = [np.infty, np.infty]\n",
        "    for idx, img in enumerate(sorted(dir_paths)):\n",
        "\n",
        "      if num_pngs == stop_idx:\n",
        "        break\n",
        "        \n",
        "      show_progress(num_pngs)\n",
        "      if img.endswith('.png'):\n",
        "        image_path = os.path.join(data_path,img)\n",
        "        raw_image = cv2.imread(image_path, cv2.IMREAD_GRAYSCALE)\n",
        "        for shape_idx in range(2):\n",
        "          if raw_image.shape[shape_idx] < image_shape[shape_idx]:\n",
        "            image_shape[shape_idx] = raw_image.shape[shape_idx]\n",
        "        num_pngs += 1\n",
        "\n",
        "    image_shape = [num_pngs] + image_shape\n",
        "    print(image_shape)\n",
        "  images = np.zeros(image_shape)\n",
        "\n",
        "  png_idx = 0\n",
        "  for idx, img in enumerate(sorted(dir_paths)):\n",
        "    if png_idx == stop_idx:\n",
        "      break\n",
        "\n",
        "    show_progress(idx)\n",
        "    if img.endswith('.png'):\n",
        "      image_path = os.path.join(data_path,img)\n",
        "      raw_image = cv2.imread(image_path, cv2.IMREAD_GRAYSCALE)\n",
        "      diff_y = (raw_image.shape[0] - image_shape[1]) // 2\n",
        "      diff_x = (raw_image.shape[1] - image_shape[2]) // 2\n",
        "      images[png_idx] = raw_image[diff_y:raw_image.shape[0] - diff_y, \\\n",
        "                                  diff_x:raw_image.shape[1] - diff_x] / 255\n",
        "      png_idx += 1\n",
        "\n",
        "  return images, image_shape"
      ],
      "execution_count": 173,
      "outputs": []
    },
    {
      "cell_type": "code",
      "metadata": {
        "colab": {
          "base_uri": "https://localhost:8080/"
        },
        "id": "lHo04LxhmI7G",
        "outputId": "efe327c3-07a9-4645-aa9d-84d26031d372"
      },
      "source": [
        "autoencoder_train_data, image_shape = get_images_from_dir(data_path, stop_idx=1)\n",
        "autoencoder_labels, image_shape = get_images_from_dir(label_path, image_shape=image_shape, stop_idx=1)"
      ],
      "execution_count": 174,
      "outputs": [
        {
          "output_type": "stream",
          "text": [
            "0 / 1\n"
          ],
          "name": "stdout"
        }
      ]
    },
    {
      "cell_type": "code",
      "metadata": {
        "id": "YQo3Xyq9jasN"
      },
      "source": [
        "dataset = autoencoder_dataset(autoencoder_train_data, autoencoder_labels)\n",
        "autoencoder_model = autoencoder_architecture(num_hidden_channels=64)\n",
        "autoencoder_params = prepare_params(batch_size=1, summary_epoch_interval=1, num_epochs=50, learning_rate=1e-3)"
      ],
      "execution_count": 175,
      "outputs": []
    },
    {
      "cell_type": "code",
      "metadata": {
        "id": "6XhLuUHCTCm8"
      },
      "source": [
        "# del autoencoder_train_data\n",
        "# del autoencoder_labels"
      ],
      "execution_count": 176,
      "outputs": []
    },
    {
      "cell_type": "code",
      "metadata": {
        "id": "KT5jMCW3jwRu"
      },
      "source": [
        "autoencoder = model_container(dataset, autoencoder_model, autoencoder_params)"
      ],
      "execution_count": 177,
      "outputs": []
    },
    {
      "cell_type": "code",
      "metadata": {
        "id": "D2gqFlRfkX-u",
        "colab": {
          "base_uri": "https://localhost:8080/"
        },
        "outputId": "1b1b6a6f-b707-46b4-f6bf-2ee81b4af012"
      },
      "source": [
        "autoencoder.train()"
      ],
      "execution_count": 178,
      "outputs": [
        {
          "output_type": "stream",
          "text": [
            "Epoch 1, Total loss 0.215895\n",
            "Epoch 2, Total loss 0.147489\n"
          ],
          "name": "stdout"
        },
        {
          "output_type": "stream",
          "text": [
            "/usr/local/lib/python3.7/dist-packages/torch/nn/modules/loss.py:528: UserWarning: Using a target size (torch.Size([1, 420, 540])) that is different to the input size (torch.Size([420, 540])). This will likely lead to incorrect results due to broadcasting. Please ensure they have the same size.\n",
            "  return F.mse_loss(input, target, reduction=self.reduction)\n"
          ],
          "name": "stderr"
        },
        {
          "output_type": "stream",
          "text": [
            "Epoch 3, Total loss 0.096973\n",
            "Epoch 4, Total loss 0.054375\n",
            "Epoch 5, Total loss 0.034030\n",
            "Epoch 6, Total loss 0.024795\n",
            "Epoch 7, Total loss 0.018869\n",
            "Epoch 8, Total loss 0.014804\n",
            "Epoch 9, Total loss 0.011920\n",
            "Epoch 10, Total loss 0.009698\n",
            "Epoch 11, Total loss 0.007979\n",
            "Epoch 12, Total loss 0.006718\n",
            "Epoch 13, Total loss 0.005800\n",
            "Epoch 14, Total loss 0.005170\n",
            "Epoch 15, Total loss 0.004792\n",
            "Epoch 16, Total loss 0.004553\n",
            "Epoch 17, Total loss 0.004403\n",
            "Epoch 18, Total loss 0.004208\n",
            "Epoch 19, Total loss 0.003958\n",
            "Epoch 20, Total loss 0.003751\n",
            "Epoch 21, Total loss 0.003543\n",
            "Epoch 22, Total loss 0.003362\n",
            "Epoch 23, Total loss 0.003227\n",
            "Epoch 24, Total loss 0.003095\n",
            "Epoch 25, Total loss 0.002967\n",
            "Epoch 26, Total loss 0.002831\n",
            "Epoch 27, Total loss 0.002695\n",
            "Epoch 28, Total loss 0.002587\n",
            "Epoch 29, Total loss 0.002498\n",
            "Epoch 30, Total loss 0.002431\n",
            "Epoch 31, Total loss 0.002388\n",
            "Epoch 32, Total loss 0.002337\n",
            "Epoch 33, Total loss 0.002279\n",
            "Epoch 34, Total loss 0.002220\n",
            "Epoch 35, Total loss 0.002159\n",
            "Epoch 36, Total loss 0.002105\n",
            "Epoch 37, Total loss 0.002053\n",
            "Epoch 38, Total loss 0.002011\n",
            "Epoch 39, Total loss 0.001972\n",
            "Epoch 40, Total loss 0.001930\n",
            "Epoch 41, Total loss 0.001892\n",
            "Epoch 42, Total loss 0.001857\n",
            "Epoch 43, Total loss 0.001829\n",
            "Epoch 44, Total loss 0.001806\n",
            "Epoch 45, Total loss 0.001786\n",
            "Epoch 46, Total loss 0.001768\n",
            "Epoch 47, Total loss 0.001746\n",
            "Epoch 48, Total loss 0.001722\n",
            "Epoch 49, Total loss 0.001697\n",
            "Epoch 50, Total loss 0.001671\n"
          ],
          "name": "stdout"
        }
      ]
    },
    {
      "cell_type": "code",
      "metadata": {
        "id": "o6I1jZ10RgiP",
        "colab": {
          "base_uri": "https://localhost:8080/"
        },
        "outputId": "e6954074-3c19-41ca-aff9-5ac44451beab"
      },
      "source": [
        "# Just for testing code, have to change to get actual test data\n",
        "\n",
        "# autoencoder.delete_data()\n",
        "autoencoder_train_data, dataset_shapes = get_images_from_dir(data_path, stop_idx=1)\n",
        "outputs = autoencoder.inference(autoencoder_train_data)"
      ],
      "execution_count": 179,
      "outputs": [
        {
          "output_type": "stream",
          "text": [
            "2 / 1\n"
          ],
          "name": "stdout"
        }
      ]
    },
    {
      "cell_type": "code",
      "metadata": {
        "colab": {
          "base_uri": "https://localhost:8080/",
          "height": 437
        },
        "id": "gXDw0e0hfi4P",
        "outputId": "3e3a61cc-d2cf-4292-965e-c08c6489369c"
      },
      "source": [
        "cv2_imshow(outputs[0])"
      ],
      "execution_count": 180,
      "outputs": [
        {
          "output_type": "display_data",
          "data": {
            "image/png": "[encoded data removed]",
            "text/plain": [
              "<PIL.Image.Image image mode=L size=540x420 at 0x7FBD91A81DD0>"
            ]
          },
          "metadata": {
            "tags": []
          }
        }
      ]
    },
    {
      "cell_type": "code",
      "metadata": {
        "id": "mPubPYyQiATA"
      },
      "source": [
        ""
      ],
      "execution_count": 180,
      "outputs": []
    }
  ]
}