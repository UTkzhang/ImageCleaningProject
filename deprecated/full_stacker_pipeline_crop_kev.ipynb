{
  "nbformat": 4,
  "nbformat_minor": 0,
  "metadata": {
    "colab": {
      "name": "full_stacker_pipeline_crop_kev.ipynb",
      "provenance": [],
      "collapsed_sections": []
    },
    "kernelspec": {
      "name": "python3",
      "display_name": "Python 3"
    },
    "language_info": {
      "name": "python"
    },
    "accelerator": "GPU"
  },
  "cells": [
    {
      "cell_type": "code",
      "metadata": {
        "id": "B_G8aermNnoC"
      },
      "source": [
        "# Algorithmic methods imports\n",
        "\n",
        "import cv2\n",
        "import os\n",
        "import numpy as np\n",
        "import matplotlib.pyplot as plt\n",
        "from scipy import ndimage, misc\n",
        "from PIL import Image\n",
        "from google.colab.patches import cv2_imshow"
      ],
      "execution_count": 1,
      "outputs": []
    },
    {
      "cell_type": "code",
      "metadata": {
        "id": "uM3AbQibrOt1",
        "colab": {
          "base_uri": "https://localhost:8080/"
        },
        "outputId": "bd1d83de-0794-4408-f53c-7582a765421e"
      },
      "source": [
        "from google.colab import drive\n",
        "drive.mount('/content/drive')"
      ],
      "execution_count": 2,
      "outputs": [
        {
          "output_type": "stream",
          "text": [
            "Drive already mounted at /content/drive; to attempt to forcibly remount, call drive.mount(\"/content/drive\", force_remount=True).\n"
          ],
          "name": "stdout"
        }
      ]
    },
    {
      "cell_type": "code",
      "metadata": {
        "id": "0BQQQybIZIwG"
      },
      "source": [
        "import torch\n",
        "import torch.nn as nn\n",
        "import torch.nn.functional as F\n",
        "from torch.utils.data import DataLoader, Dataset\n",
        "from torch.utils.data.sampler import SubsetRandomSampler\n",
        "import numpy as np\n",
        "from IPython.display import clear_output "
      ],
      "execution_count": 3,
      "outputs": []
    },
    {
      "cell_type": "code",
      "metadata": {
        "id": "Tg1WvW0KOFwj"
      },
      "source": [
        "#data_path = \"./drive/MyDrive/CSC413 Project/trainA\"\n",
        "#label_path = \"./drive/MyDrive/CSC413 Project/trainB\"\n",
        "train_path = \"/content/drive/MyDrive/University Academics/Year 4 EngSci/CSC413 Project/trainA\"\n",
        "train_label_path = \"/content/drive/MyDrive/University Academics/Year 4 EngSci/CSC413 Project/trainB\"\n",
        "train_path_cropped = \"/content/drive/MyDrive/University Academics/Year 4 EngSci/CSC413 Project/trainA/original_cropped\"\n",
        "train_label_path_cropped = \"/content/drive/MyDrive/University Academics/Year 4 EngSci/CSC413 Project/trainB/original_cropped\"\n",
        "test_path = \"/content/drive/MyDrive/University Academics/Year 4 EngSci/CSC413 Project/testA\"\n",
        "test_label_path = \"/content/drive/MyDrive/University Academics/Year 4 EngSci/CSC413 Project/testB\"\n",
        "output_path = \"/content/drive/MyDrive/University Academics/Year 4 EngSci/CSC413 Project/trainA/autoencoder\"\n",
        "test_output_path = \"/content/drive/MyDrive/University Academics/Year 4 EngSci/CSC413 Project/testA/autoencoder\"\n"
      ],
      "execution_count": 55,
      "outputs": []
    },
    {
      "cell_type": "markdown",
      "metadata": {
        "id": "LLNG3wX9-sAU"
      },
      "source": [
        "# Data cleaning and pre-processing\n",
        "Written by Kevin Zhang 2021-04-08"
      ]
    },
    {
      "cell_type": "code",
      "metadata": {
        "colab": {
          "base_uri": "https://localhost:8080/"
        },
        "id": "0HtlaPM7-q36",
        "outputId": "ffc4e7e7-b3c4-47b3-b610-2868b02d1d91"
      },
      "source": [
        "if not os.path.exists(train_path+\"/original_cropped\"):\n",
        "  os.mkdir(train_path+\"/original_cropped\")\n",
        "\n",
        "idx = 0 \n",
        "for img in sorted(os.listdir(train_path)):\n",
        "  if img.endswith('.png'):\n",
        "    input_image_path = os.path.join(train_path,img)\n",
        "    raw_image = cv2.imread(input_image_path, cv2.IMREAD_GRAYSCALE)\n",
        "    output = raw_image[0:256, 0:256].copy()\n",
        " \n",
        "    idx += 1\n",
        "    clear_output()\n",
        "    print(\"processing\", idx)\n",
        "    cv2.imwrite(os.path.join(train_path+\"/original_cropped\", img), output)"
      ],
      "execution_count": 32,
      "outputs": [
        {
          "output_type": "stream",
          "text": [
            "processing 2448\n"
          ],
          "name": "stdout"
        }
      ]
    },
    {
      "cell_type": "code",
      "metadata": {
        "colab": {
          "base_uri": "https://localhost:8080/"
        },
        "id": "4bI5updTINTq",
        "outputId": "b2654fa4-0170-4fb9-aad4-4313c94d6e83"
      },
      "source": [
        "if not os.path.exists(train_label_path+\"/original_cropped\"):\n",
        "  os.mkdir(train_label_path+\"/original_cropped\")\n",
        " \n",
        "idx = 0\n",
        "for img in sorted(os.listdir(train_label_path)):\n",
        "  if img.endswith('.png'):\n",
        "    input_image_path = os.path.join(train_label_path,img)\n",
        "    raw_image = cv2.imread(input_image_path, cv2.IMREAD_GRAYSCALE)\n",
        "    output = raw_image[0:256, 0:256].copy()\n",
        " \n",
        "    idx += 1\n",
        "    clear_output()\n",
        "    print(\"processing\", idx)\n",
        "    cv2.imwrite(os.path.join(train_label_path+\"/original_cropped\", img), output)"
      ],
      "execution_count": 33,
      "outputs": [
        {
          "output_type": "stream",
          "text": [
            "processing 2448\n"
          ],
          "name": "stdout"
        }
      ]
    },
    {
      "cell_type": "markdown",
      "metadata": {
        "id": "uAZenmvaULBG"
      },
      "source": [
        "# Defining algorithmic processing methods\n",
        "Written by Kevin Zhang"
      ]
    },
    {
      "cell_type": "code",
      "metadata": {
        "id": "G1y2qC3sT4zq"
      },
      "source": [
        "########################################################\n",
        "# PART 1 - Median Filtering\n",
        "########################################################\n",
        "def median_filter(image_path):\n",
        "  img = cv2.imread(image_path, cv2.IMREAD_GRAYSCALE) # Load image\n",
        "  img_median = cv2.medianBlur(img, 25) # Add median filter to image\n",
        "  result = np.minimum(img.astype(np.uint16)+(255-img_median.astype(np.uint16)), 255)\n",
        "  return result.astype(np.uint8)"
      ],
      "execution_count": 35,
      "outputs": []
    },
    {
      "cell_type": "code",
      "metadata": {
        "id": "bSEalB-aUGjg"
      },
      "source": [
        "########################################################\n",
        "# PART 2 - Edge Detection, Dilation Erosion\n",
        "########################################################\n",
        "def edge_dilation_erosion_filter(image_path):\n",
        "  img = cv2.imread(image_path, cv2.IMREAD_GRAYSCALE) # Load image\n",
        "  edges = cv2.Canny(img,100,200)\n",
        "  dilated = cv2.dilate(edges, np.ones((3,3),np.uint8), iterations=1)\n",
        "  eroded = cv2.erode(dilated, np.ones((4,4),np.uint8), iterations=1)\n",
        "  return cv2.bitwise_not(eroded)"
      ],
      "execution_count": 36,
      "outputs": []
    },
    {
      "cell_type": "code",
      "metadata": {
        "id": "I0JF0WqEUHlV"
      },
      "source": [
        "########################################################\n",
        "# PART 3 - Adaptive Filter\n",
        "########################################################\n",
        "def adaptive_filter(image_path):\n",
        "  img = cv2.imread(image_path, cv2.IMREAD_GRAYSCALE) # Load image\n",
        "  return cv2.adaptiveThreshold(img,255,cv2.ADAPTIVE_THRESH_GAUSSIAN_C,\\\n",
        "            cv2.THRESH_BINARY,15,20)"
      ],
      "execution_count": 37,
      "outputs": []
    },
    {
      "cell_type": "markdown",
      "metadata": {
        "id": "Xdh8BsTwWPAO"
      },
      "source": [
        "## Creating images using algorithmic methods\n",
        "\n",
        "Written by Kevin Zhang"
      ]
    },
    {
      "cell_type": "code",
      "metadata": {
        "id": "6CjFQxmSUSUp",
        "colab": {
          "base_uri": "https://localhost:8080/"
        },
        "outputId": "bd98b462-6a87-44dd-cadb-861c332fa935"
      },
      "source": [
        "if not os.path.exists(train_path+\"/median_filtered_cropped\"):\n",
        "  os.mkdir(train_path+\"/median_filtered_cropped\")\n",
        "if not os.path.exists(train_path+\"/edge_dilation_erosion_cropped\"):\n",
        "  os.mkdir(train_path+\"/edge_dilation_erosion_cropped\")\n",
        "if not os.path.exists(train_path+\"/adaptive_filtered_cropped\"):\n",
        "  os.mkdir(train_path+\"/adaptive_filtered_cropped\")\n",
        "\n",
        "idx = 0 \n",
        "for img in sorted(os.listdir(train_path_cropped)):\n",
        "  if img.endswith('.png'):\n",
        "    input_image_path = os.path.join(train_path_cropped,img)\n",
        "\n",
        "    median_filter_path = os.path.join(train_path+\"/median_filtered_cropped\",img)\n",
        "    edge_dilation_erosion_path = os.path.join(train_path+\"/edge_dilation_erosion_cropped\",img)\n",
        "    adaptive_filter_path = os.path.join(train_path+\"/adaptive_filtered_cropped\",img)\n",
        "\n",
        "    idx += 1\n",
        "    clear_output()\n",
        "    print(\"processing\", idx)\n",
        "\n",
        "    if not os.path.exists(median_filter_path):\n",
        "      cv2.imwrite(median_filter_path, median_filter(input_image_path))\n",
        "    if not os.path.exists(edge_dilation_erosion_path):\n",
        "      cv2.imwrite(edge_dilation_erosion_path, edge_dilation_erosion_filter(input_image_path))\n",
        "    if not os.path.exists(adaptive_filter_path):\n",
        "      cv2.imwrite(adaptive_filter_path, adaptive_filter(input_image_path))"
      ],
      "execution_count": 17,
      "outputs": [
        {
          "output_type": "stream",
          "text": [
            "processing 2448\n"
          ],
          "name": "stdout"
        }
      ]
    },
    {
      "cell_type": "code",
      "metadata": {
        "colab": {
          "base_uri": "https://localhost:8080/",
          "height": 273
        },
        "id": "KhmLrIffUxhn",
        "outputId": "f4efcb7e-a843-427e-a80d-19be6e857da9"
      },
      "source": [
        "# Test image\n",
        "result = edge_dilation_erosion_filter(os.path.join(train_path_cropped, \"img_0000.png\"))\n",
        "cv2_imshow(result)"
      ],
      "execution_count": 39,
      "outputs": [
        {
          "output_type": "display_data",
          "data": {
            "image/png": "[encoded data removed]",
            "text/plain": [
              "<PIL.Image.Image image mode=L size=256x256 at 0x7F8AB1D34850>"
            ]
          },
          "metadata": {
            "tags": []
          }
        }
      ]
    },
    {
      "cell_type": "markdown",
      "metadata": {
        "id": "uezuBRZ_aaKf"
      },
      "source": [
        "# Machine Learning Methods\n",
        "Written by Jay Yoo\n",
        "\n",
        "Adjusted by Kevin Zhang 2021-04-08\n",
        "- added train-test splits, validation, plot loss"
      ]
    },
    {
      "cell_type": "code",
      "metadata": {
        "id": "SmBZaIDliPay"
      },
      "source": [
        "def prepare_params(batch_size=128, num_epochs=100, learning_rate=1e-4, \\\n",
        "                   summary_epoch_interval=10, validation_split=.15, \\\n",
        "                   shuffle=True, random_seed=0, \\\n",
        "                   loss_function=nn.MSELoss(), optimizer=torch.optim.Adam, \\\n",
        "                   model_save_path=\"./models\"):\n",
        "  # optimizer is passed the function definition, not a called function \n",
        "    # (note the lack of brackets in the base argument)\n",
        "  \n",
        "  params = {\n",
        "      'batch_size' : batch_size,\n",
        "      'num_epochs' : num_epochs,\n",
        "      'learning_rate' : learning_rate,\n",
        "      'summary_epoch_interval' : summary_epoch_interval, \n",
        "      'validation_split': validation_split,\n",
        "      'shuffle': shuffle,\n",
        "      'random_seed': random_seed,\n",
        "      'loss_function' : loss_function, \n",
        "      'optimizer' : optimizer,\n",
        "      'save_model_path': model_save_path\n",
        "  }\n",
        "\n",
        "  return params"
      ],
      "execution_count": 5,
      "outputs": []
    },
    {
      "cell_type": "code",
      "metadata": {
        "id": "C3TLQU9wdX5x"
      },
      "source": [
        "class model_container():\n",
        "  def __init__(self, dataset, model, params):\n",
        "    # Model does not have to be transferred to cuda gpu\n",
        "\n",
        "    self.batch_size = params['batch_size']\n",
        "    self.num_epochs = params['num_epochs']\n",
        "    self.learning_rate = params['learning_rate']\n",
        "    self.summary_epoch_interval = params['summary_epoch_interval']\n",
        "    self.val_split = params['validation_split']\n",
        "    self.shuffle = params['shuffle']\n",
        "    self.random_seed = params['random_seed']\n",
        "    self.loss_function = params['loss_function']\n",
        "    self.optimizer = params['optimizer']\n",
        "    self.save_model_path = params['save_model_path']\n",
        "    self.model = model.cuda()\n",
        "\n",
        "    if not os.path.exists(self.save_model_path):\n",
        "      os.mkdir(self.save_model_path)\n",
        "\n",
        "    # code for train-test split on custom dataset\n",
        "    dataset_size = len(dataset)\n",
        "    indices = list(range(dataset_size))\n",
        "    split = int(np.floor(self.val_split * dataset_size))\n",
        "    if self.shuffle:\n",
        "      np.random.seed(self.random_seed)\n",
        "      np.random.shuffle(indices)\n",
        "    train_indices, val_indices = indices[split:], indices[:split]\n",
        "\n",
        "    train_sampler = SubsetRandomSampler(train_indices)\n",
        "    valid_sampler = SubsetRandomSampler(val_indices)\n",
        "\n",
        "    self.train_loader = DataLoader(dataset, batch_size=self.batch_size, \n",
        "                                   sampler=train_sampler, pin_memory=True, num_workers=0)\n",
        "    self.val_loader = DataLoader(dataset, batch_size=self.batch_size, \n",
        "                                        sampler=valid_sampler, pin_memory=True, num_workers=0)\n",
        "    \n",
        "\n",
        "  def train(self):\n",
        "    self.model.train()\n",
        "\n",
        "    # optimizer = torch.optim.Adam(lr=learning_rate, params=self.model.parameters())\n",
        "    optimizer = self.optimizer(lr=self.learning_rate, params=self.model.parameters())\n",
        "\n",
        "    loss_history = []\n",
        "    val_loss_history = []\n",
        "    \n",
        "    for epoch in range(1, self.num_epochs + 1):\n",
        "      cumulated_loss = 0\n",
        "\n",
        "      for model_input, labels in self.train_loader:\n",
        "        model_input = model_input.cuda()\n",
        "        labels = labels.cuda()\n",
        "        model_output = self.model(model_input)\n",
        "        loss = self.loss_function(model_output, labels)\n",
        "\n",
        "        optimizer.zero_grad()\n",
        "        loss.backward()\n",
        "        optimizer.step()\n",
        "\n",
        "        cumulated_loss += loss.item()\n",
        "      \n",
        "      loss_history.append(cumulated_loss)\n",
        "      \n",
        "      self.model.eval()\n",
        "      cumulated_val_loss = 0\n",
        "      \n",
        "      for model_input, labels in self.val_loader:\n",
        "        model_input = model_input.cuda()\n",
        "        labels = labels.cuda()\n",
        "        model_output = self.model(model_input)\n",
        "        loss = self.loss_function(model_output, labels)\n",
        "        cumulated_val_loss += loss.item()\n",
        "    \n",
        "      val_loss_history.append(cumulated_val_loss)\n",
        "      \n",
        "      if cumulated_val_loss <= min(val_loss_history):\n",
        "        torch.save(self.model.state_dict(), self.save_model_path+\"/AEmodel_%d\"%epoch)\n",
        "        print(\"New model saved!\")\n",
        "\n",
        "      if not epoch % self.summary_epoch_interval:\n",
        "        print(\"Epoch %d, Total training loss %0.6f, Total validation loss %0.6f\" % (epoch, cumulated_loss, cumulated_val_loss))\n",
        "        \n",
        "    plt.figure()\n",
        "    plt.plot(loss_history, \"ro-\", label=\"Train\")\n",
        "    plt.plot(val_loss_history, \"go-\", label=\"Validation\")\n",
        "    plt.legend()\n",
        "    plt.title(\"Loss\")\n",
        "    plt.xlabel(\"Epochs\")\n",
        "\n",
        "  def inference(self, data_to_infer, save_path=None, filenames=None):\n",
        "    # Assumed to be list of numpy\n",
        "    # Add option to automatically save to a directory if memory is a concern\n",
        "\n",
        "    self.model.eval()\n",
        "\n",
        "    if save_path is None:\n",
        "      outputs = []\n",
        "      for data in data_to_infer:\n",
        "        model_input = torch.from_numpy(data)\n",
        "        model_input = torch.unsqueeze(model_input, dim=0)\n",
        "        model_input = torch.unsqueeze(model_input, dim=0)\n",
        "        model_input = model_input.type(torch.FloatTensor)\n",
        "        model_input = model_input.cuda()\n",
        "        outputs.append(self.model(model_input).cpu().detach().numpy() * 255)\n",
        "\n",
        "      return outputs\n",
        "    else:\n",
        "      if not os.path.exists(save_path):\n",
        "        os.mkdir(save_path)\n",
        "      if filenames is None:\n",
        "        filenames = [str(idx)  + '.png' for idx in range(len(data_to_infer))]\n",
        "      for idx, data in enumerate(data_to_infer):\n",
        "        model_input = torch.from_numpy(data)\n",
        "        model_input = torch.unsqueeze(model_input, dim=0)\n",
        "        model_input = torch.unsqueeze(model_input, dim=0)\n",
        "        model_input = model_input.type(torch.FloatTensor)\n",
        "        model_input = model_input.cuda()\n",
        "        model_output = self.model(model_input).cpu().detach().numpy() * 255\n",
        "\n",
        "        cv2.imwrite(os.path.join(save_path, filenames[idx]), model_output)\n",
        "\n",
        "  def delete_data(self):\n",
        "    # For memory optimizations\n",
        "    del self.dataloader\n",
        "  \n",
        "  def get_model():\n",
        "    self.model.eval()\n",
        "    return self.model"
      ],
      "execution_count": 66,
      "outputs": []
    },
    {
      "cell_type": "markdown",
      "metadata": {
        "id": "I3KVHj9maO0V"
      },
      "source": [
        "##  Autoencoder model\n",
        "Written by Jay Yoo"
      ]
    },
    {
      "cell_type": "code",
      "metadata": {
        "id": "iosiXxWcYHV6"
      },
      "source": [
        "class autoencoder_dataset(Dataset):\n",
        "    def __init__(self, data, labels):\n",
        "        super().__init__()\n",
        "        # data and labels are both (dataset size, m, n) where images are m x n\n",
        "\n",
        "        self.num_data = len(data)\n",
        "        self.train_data = torch.unsqueeze(torch.from_numpy(data), dim=1)\n",
        "        self.train_data = self.train_data.type(torch.FloatTensor)\n",
        "        self.labels = torch.from_numpy(labels)\n",
        "        self.labels = self.labels.type(torch.FloatTensor)\n",
        "\n",
        "    def __len__(self):\n",
        "        return self.num_data\n",
        "\n",
        "    def __getitem__(self, idx):\n",
        "        return self.train_data[idx], self.labels[idx]"
      ],
      "execution_count": 7,
      "outputs": []
    },
    {
      "cell_type": "code",
      "metadata": {
        "id": "cgkdASRxXkAw"
      },
      "source": [
        "def autoencoder_layer(in_channels, out_channels, kernel_size=3, stride=1, \\\n",
        "                  padding=1, bias=True, batchnorm=True, activation='relu', \\\n",
        "                  upsample=None):\n",
        "    # Convolution layer that maintains shape \n",
        "        # with optional activation layer and batchnorm\n",
        "    # Use stride = 1, kernel = 3, padding = 1 for convenience\n",
        "    # Activation argument is one of 'relu', 'sigmoid', 'leaky_relu', or 'none\n",
        "\n",
        "    layers = []\n",
        "\n",
        "    # Upsampling\n",
        "    if upsample is not None:\n",
        "        layers.append(nn.Upsample(scale_factor=upsample))\n",
        "\n",
        "    # Adding convolutional layer\n",
        "    layers.append(nn.Conv2d(in_channels=in_channels, \\\n",
        "                            out_channels=out_channels, \\\n",
        "                            kernel_size=kernel_size, \\\n",
        "                            stride=stride, \\\n",
        "                            padding=padding, \\\n",
        "                            bias=bias))\n",
        "\n",
        "    # Adding batchnorm\n",
        "    if batchnorm:\n",
        "        layers.append(nn.BatchNorm2d(out_channels))\n",
        "\n",
        "    # Adding activation\n",
        "    if activation == 'relu':\n",
        "        layers.append(nn.ReLU())\n",
        "    elif activation == 'sigmoid':\n",
        "        layers.append(nn.Sigmoid())\n",
        "    elif activation == 'leaky_relu':\n",
        "        layers.append(nn.LeakyReLU())\n",
        "    elif activation == 'none':\n",
        "        pass\n",
        "    else:\n",
        "        assert False, \"Invalid activation function.\"\n",
        "        \n",
        "    return nn.Sequential(*layers)\n",
        "\n",
        "class autoencoder_architecture(nn.Module):\n",
        "    def __init__(self, num_hidden_channels=64):\n",
        "        super().__init__()\n",
        "        \n",
        "        self.net = []\n",
        "\n",
        "        self.net.append(autoencoder_layer(in_channels=1, \\\n",
        "                                      out_channels=num_hidden_channels, \\\n",
        "                                      activation='leaky_relu', \\\n",
        "                                      batchnorm=True, \\\n",
        "                                      upsample=None))\n",
        "        self.net.append(autoencoder_layer(in_channels=num_hidden_channels, \\\n",
        "                                      out_channels=num_hidden_channels, \\\n",
        "                                      activation='leaky_relu', \\\n",
        "                                      batchnorm=False, \\\n",
        "                                      upsample=None))\n",
        "        self.net.append(nn.MaxPool2d(2)) # Pool to half of shape\n",
        "        self.net.append(autoencoder_layer(in_channels=num_hidden_channels, \\\n",
        "                                      out_channels=num_hidden_channels, \\\n",
        "                                      activation='leaky_relu', \\\n",
        "                                      batchnorm=True, \\\n",
        "                                      upsample=None))\n",
        "        self.net.append(autoencoder_layer(in_channels=num_hidden_channels, \\\n",
        "                                      out_channels=num_hidden_channels, \\\n",
        "                                      activation='leaky_relu', \\\n",
        "                                      batchnorm=False, \\\n",
        "                                      upsample=2))\n",
        "        self.net.append(autoencoder_layer(in_channels=num_hidden_channels, \\\n",
        "                                      out_channels=1, \\\n",
        "                                      activation='sigmoid', \\\n",
        "                                      batchnorm=False, \\\n",
        "                                      upsample=None))\n",
        "        \n",
        "        self.net = nn.Sequential(*self.net)\n",
        "    \n",
        "    def forward(self, concatenated_inputs):\n",
        "        output = self.net(concatenated_inputs)\n",
        "        return output.squeeze()"
      ],
      "execution_count": 9,
      "outputs": []
    },
    {
      "cell_type": "code",
      "metadata": {
        "id": "ftcCNfmalbX8"
      },
      "source": [
        "def get_images_from_dir(data_path, track_progress=True, stop_idx=None, \\\n",
        "                        image_shape=None, cropped=True):\n",
        "\n",
        "  dir_paths = os.listdir(data_path)\n",
        "  num_paths = len(dir_paths)\n",
        "\n",
        "  if stop_idx is None:\n",
        "    stop_idx = num_paths\n",
        "\n",
        "  if track_progress == True:\n",
        "    def show_progress(idx):\n",
        "      clear_output()\n",
        "      print(idx, '/', stop_idx)\n",
        "  else:\n",
        "    def show_progress(idx):\n",
        "      pass\n",
        "\n",
        "  filenames = []\n",
        "  num_pngs = 0\n",
        "  image_shape = [np.infty, np.infty]\n",
        "  for idx, img in enumerate(sorted(dir_paths)):\n",
        "    if num_pngs == stop_idx:\n",
        "      break\n",
        "      \n",
        "    if img.endswith('.png'):\n",
        "      num_pngs += 1\n",
        "\n",
        "  image_shape = [num_pngs] + [256, 256]\n",
        "  images = np.zeros(image_shape)\n",
        "    \n",
        "    \n",
        "  if not cropped:\n",
        "    png_idx = 0\n",
        "    for idx, img in enumerate(sorted(dir_paths)):\n",
        "      if png_idx == stop_idx:\n",
        "        break\n",
        "\n",
        "      show_progress(idx)\n",
        "      if img.endswith('.png'):\n",
        "        filenames.append(img)\n",
        "        image_path = os.path.join(data_path,img)\n",
        "        raw_image = cv2.imread(image_path, cv2.IMREAD_GRAYSCALE)\n",
        "        images[png_idx] = raw_image[0:256, 0:256] / 255\n",
        "        png_idx += 1\n",
        "  else:\n",
        "    png_idx = 0\n",
        "    for idx, img in enumerate(sorted(dir_paths)):\n",
        "      if png_idx == stop_idx:\n",
        "        break\n",
        "\n",
        "      show_progress(png_idx)\n",
        "      if img.endswith('.png'):\n",
        "        filenames.append(img)\n",
        "        image_path = os.path.join(data_path,img)\n",
        "        raw_image = cv2.imread(image_path, cv2.IMREAD_GRAYSCALE)\n",
        "        images[png_idx] = raw_image/255\n",
        "        png_idx += 1\n",
        "\n",
        "  return images, image_shape, filenames"
      ],
      "execution_count": 90,
      "outputs": []
    },
    {
      "cell_type": "code",
      "metadata": {
        "colab": {
          "base_uri": "https://localhost:8080/"
        },
        "id": "lHo04LxhmI7G",
        "outputId": "4cf8d666-0e1e-4357-c644-a1a6f40a9d34"
      },
      "source": [
        "autoencoder_train_data, shape, train_filenames = get_images_from_dir(train_path_cropped)\n",
        "autoencoder_labels, shape, _ = get_images_from_dir(train_label_path_cropped)"
      ],
      "execution_count": 60,
      "outputs": [
        {
          "output_type": "stream",
          "text": [
            "2447 / 2448\n"
          ],
          "name": "stdout"
        }
      ]
    },
    {
      "cell_type": "code",
      "metadata": {
        "id": "YQo3Xyq9jasN"
      },
      "source": [
        "dataset = autoencoder_dataset(autoencoder_train_data, autoencoder_labels)\n",
        "autoencoder_model = autoencoder_architecture(num_hidden_channels=64)\n",
        "autoencoder_params = prepare_params(batch_size=32, summary_epoch_interval=1, num_epochs=100, learning_rate=1e-4)"
      ],
      "execution_count": 67,
      "outputs": []
    },
    {
      "cell_type": "code",
      "metadata": {
        "id": "KT5jMCW3jwRu"
      },
      "source": [
        "autoencoder = model_container(dataset, autoencoder_model, autoencoder_params)"
      ],
      "execution_count": 68,
      "outputs": []
    },
    {
      "cell_type": "code",
      "metadata": {
        "id": "D2gqFlRfkX-u",
        "colab": {
          "base_uri": "https://localhost:8080/",
          "height": 1000
        },
        "outputId": "df7550ad-4eb8-4818-8184-70567aa86ad0"
      },
      "source": [
        "autoencoder.train()"
      ],
      "execution_count": 48,
      "outputs": [
        {
          "output_type": "stream",
          "text": [
            "/usr/local/lib/python3.7/dist-packages/torch/nn/modules/loss.py:528: UserWarning: Using a target size (torch.Size([1, 256, 256])) that is different to the input size (torch.Size([256, 256])). This will likely lead to incorrect results due to broadcasting. Please ensure they have the same size.\n",
            "  return F.mse_loss(input, target, reduction=self.reduction)\n"
          ],
          "name": "stderr"
        },
        {
          "output_type": "stream",
          "text": [
            "New model saved!\n",
            "Epoch 1, Total training loss 3.855344, Total validation loss 0.197453\n",
            "New model saved!\n",
            "Epoch 2, Total training loss 0.540544, Total validation loss 0.068965\n",
            "New model saved!\n",
            "Epoch 3, Total training loss 0.308325, Total validation loss 0.049062\n",
            "New model saved!\n",
            "Epoch 4, Total training loss 0.236588, Total validation loss 0.044046\n",
            "New model saved!\n",
            "Epoch 5, Total training loss 0.200335, Total validation loss 0.035327\n",
            "New model saved!\n",
            "Epoch 6, Total training loss 0.175782, Total validation loss 0.031652\n",
            "New model saved!\n",
            "Epoch 7, Total training loss 0.159258, Total validation loss 0.029086\n",
            "New model saved!\n",
            "Epoch 8, Total training loss 0.148118, Total validation loss 0.026903\n",
            "New model saved!\n",
            "Epoch 9, Total training loss 0.139351, Total validation loss 0.026215\n",
            "New model saved!\n",
            "Epoch 10, Total training loss 0.131151, Total validation loss 0.024236\n",
            "New model saved!\n",
            "Epoch 11, Total training loss 0.124214, Total validation loss 0.023629\n",
            "New model saved!\n",
            "Epoch 12, Total training loss 0.120098, Total validation loss 0.021975\n",
            "New model saved!\n",
            "Epoch 13, Total training loss 0.114311, Total validation loss 0.021290\n",
            "New model saved!\n",
            "Epoch 14, Total training loss 0.109875, Total validation loss 0.020522\n",
            "Epoch 15, Total training loss 0.109003, Total validation loss 0.026929\n",
            "New model saved!\n",
            "Epoch 16, Total training loss 0.107160, Total validation loss 0.019778\n",
            "New model saved!\n",
            "Epoch 17, Total training loss 0.099981, Total validation loss 0.018741\n",
            "New model saved!\n",
            "Epoch 18, Total training loss 0.097169, Total validation loss 0.018440\n",
            "New model saved!\n",
            "Epoch 19, Total training loss 0.094682, Total validation loss 0.017541\n",
            "Epoch 20, Total training loss 0.094493, Total validation loss 0.019679\n",
            "New model saved!\n",
            "Epoch 21, Total training loss 0.091355, Total validation loss 0.016845\n",
            "New model saved!\n",
            "Epoch 22, Total training loss 0.088531, Total validation loss 0.016799\n",
            "New model saved!\n",
            "Epoch 23, Total training loss 0.088379, Total validation loss 0.016266\n",
            "Epoch 24, Total training loss 0.087481, Total validation loss 0.016488\n",
            "Epoch 25, Total training loss 0.085788, Total validation loss 0.034938\n",
            "New model saved!\n",
            "Epoch 26, Total training loss 0.093334, Total validation loss 0.015441\n",
            "New model saved!\n",
            "Epoch 27, Total training loss 0.080541, Total validation loss 0.015227\n",
            "Epoch 28, Total training loss 0.079246, Total validation loss 0.015580\n",
            "Epoch 29, Total training loss 0.079094, Total validation loss 0.017923\n",
            "New model saved!\n",
            "Epoch 30, Total training loss 0.079128, Total validation loss 0.014525\n",
            "Epoch 31, Total training loss 0.076387, Total validation loss 0.014577\n",
            "Epoch 32, Total training loss 0.075408, Total validation loss 0.015454\n",
            "Epoch 33, Total training loss 0.074937, Total validation loss 0.017343\n",
            "Epoch 34, Total training loss 0.073756, Total validation loss 0.014809\n",
            "New model saved!\n",
            "Epoch 35, Total training loss 0.072000, Total validation loss 0.013448\n",
            "Epoch 36, Total training loss 0.070787, Total validation loss 0.013521\n",
            "Epoch 37, Total training loss 0.071075, Total validation loss 0.013634\n",
            "New model saved!\n",
            "Epoch 38, Total training loss 0.070415, Total validation loss 0.012960\n",
            "Epoch 39, Total training loss 0.068519, Total validation loss 0.013452\n",
            "Epoch 40, Total training loss 0.067547, Total validation loss 0.013256\n",
            "Epoch 41, Total training loss 0.067414, Total validation loss 0.013493\n",
            "New model saved!\n",
            "Epoch 42, Total training loss 0.066738, Total validation loss 0.012536\n",
            "New model saved!\n",
            "Epoch 43, Total training loss 0.065174, Total validation loss 0.012136\n",
            "Epoch 44, Total training loss 0.065106, Total validation loss 0.013433\n",
            "Epoch 45, Total training loss 0.064372, Total validation loss 0.012637\n",
            "New model saved!\n",
            "Epoch 46, Total training loss 0.063163, Total validation loss 0.011776\n",
            "New model saved!\n",
            "Epoch 47, Total training loss 0.062169, Total validation loss 0.011720\n",
            "Epoch 48, Total training loss 0.062108, Total validation loss 0.011728\n",
            "New model saved!\n",
            "Epoch 49, Total training loss 0.061362, Total validation loss 0.011394\n",
            "New model saved!\n",
            "Epoch 50, Total training loss 0.060473, Total validation loss 0.011320\n",
            "Epoch 51, Total training loss 0.059604, Total validation loss 0.011786\n",
            "New model saved!\n",
            "Epoch 52, Total training loss 0.060040, Total validation loss 0.011109\n",
            "Epoch 53, Total training loss 0.058809, Total validation loss 0.011791\n",
            "Epoch 54, Total training loss 0.058864, Total validation loss 0.011221\n",
            "New model saved!\n",
            "Epoch 55, Total training loss 0.057104, Total validation loss 0.010767\n",
            "Epoch 56, Total training loss 0.057183, Total validation loss 0.011193\n",
            "New model saved!\n",
            "Epoch 57, Total training loss 0.057213, Total validation loss 0.010576\n",
            "Epoch 58, Total training loss 0.055922, Total validation loss 0.010697\n",
            "Epoch 59, Total training loss 0.055819, Total validation loss 0.014916\n",
            "Epoch 60, Total training loss 0.056664, Total validation loss 0.010670\n",
            "New model saved!\n",
            "Epoch 61, Total training loss 0.054476, Total validation loss 0.010164\n",
            "New model saved!\n",
            "Epoch 62, Total training loss 0.053390, Total validation loss 0.010155\n",
            "Epoch 63, Total training loss 0.053044, Total validation loss 0.012208\n",
            "New model saved!\n",
            "Epoch 64, Total training loss 0.053635, Total validation loss 0.009790\n",
            "Epoch 65, Total training loss 0.052776, Total validation loss 0.010790\n",
            "New model saved!\n",
            "Epoch 66, Total training loss 0.053154, Total validation loss 0.009673\n",
            "Epoch 67, Total training loss 0.051397, Total validation loss 0.011379\n",
            "Epoch 68, Total training loss 0.051873, Total validation loss 0.010175\n",
            "Epoch 69, Total training loss 0.051062, Total validation loss 0.009814\n",
            "Epoch 70, Total training loss 0.050986, Total validation loss 0.010357\n",
            "New model saved!\n",
            "Epoch 71, Total training loss 0.050992, Total validation loss 0.009465\n",
            "Epoch 72, Total training loss 0.049177, Total validation loss 0.009974\n",
            "Epoch 73, Total training loss 0.050122, Total validation loss 0.009515\n",
            "Epoch 74, Total training loss 0.049574, Total validation loss 0.010216\n",
            "New model saved!\n",
            "Epoch 75, Total training loss 0.049225, Total validation loss 0.009331\n",
            "Epoch 76, Total training loss 0.049746, Total validation loss 0.010265\n",
            "Epoch 77, Total training loss 0.048564, Total validation loss 0.009907\n",
            "New model saved!\n",
            "Epoch 78, Total training loss 0.047330, Total validation loss 0.008903\n",
            "New model saved!\n",
            "Epoch 79, Total training loss 0.047207, Total validation loss 0.008745\n",
            "Epoch 80, Total training loss 0.046560, Total validation loss 0.009588\n",
            "Epoch 81, Total training loss 0.046614, Total validation loss 0.008760\n",
            "Epoch 82, Total training loss 0.046108, Total validation loss 0.009456\n",
            "New model saved!\n",
            "Epoch 83, Total training loss 0.045609, Total validation loss 0.008618\n",
            "Epoch 84, Total training loss 0.046065, Total validation loss 0.010375\n",
            "New model saved!\n",
            "Epoch 85, Total training loss 0.045761, Total validation loss 0.008444\n",
            "Epoch 86, Total training loss 0.044649, Total validation loss 0.008549\n",
            "New model saved!\n",
            "Epoch 87, Total training loss 0.044081, Total validation loss 0.008259\n",
            "Epoch 88, Total training loss 0.043744, Total validation loss 0.008313\n",
            "Epoch 89, Total training loss 0.043689, Total validation loss 0.008370\n",
            "Epoch 90, Total training loss 0.044045, Total validation loss 0.008783\n",
            "Epoch 91, Total training loss 0.043487, Total validation loss 0.010588\n",
            "Epoch 92, Total training loss 0.043287, Total validation loss 0.008410\n",
            "New model saved!\n",
            "Epoch 93, Total training loss 0.042779, Total validation loss 0.007991\n",
            "New model saved!\n",
            "Epoch 94, Total training loss 0.042520, Total validation loss 0.007927\n",
            "Epoch 95, Total training loss 0.041962, Total validation loss 0.009053\n",
            "Epoch 96, Total training loss 0.042532, Total validation loss 0.009262\n",
            "New model saved!\n",
            "Epoch 97, Total training loss 0.041546, Total validation loss 0.007921\n",
            "Epoch 98, Total training loss 0.041010, Total validation loss 0.008271\n",
            "Epoch 99, Total training loss 0.040462, Total validation loss 0.008338\n",
            "New model saved!\n",
            "Epoch 100, Total training loss 0.040021, Total validation loss 0.007661\n"
          ],
          "name": "stdout"
        },
        {
          "output_type": "display_data",
          "data": {
            "image/png": "[encoded data removed]",
            "text/plain": [
              "<Figure size 432x288 with 1 Axes>"
            ]
          },
          "metadata": {
            "tags": [],
            "needs_background": "light"
          }
        }
      ]
    },
    {
      "cell_type": "code",
      "metadata": {
        "id": "bQTXNqPNXWIB"
      },
      "source": [
        "# Set MODEL PATH for loading model\n",
        "PATH = \"/content/drive/MyDrive/University Academics/Year 4 EngSci/CSC413 Project/models/AEmodel_100\"\n",
        "\n",
        "model = autoencoder_architecture(num_hidden_channels=64)\n",
        "model.load_state_dict(torch.load(PATH))\n",
        "model.eval()\n",
        "\n",
        "autoencoder = model_container(dataset, model, autoencoder_params)"
      ],
      "execution_count": 74,
      "outputs": []
    },
    {
      "cell_type": "code",
      "metadata": {
        "id": "o6I1jZ10RgiP",
        "colab": {
          "base_uri": "https://localhost:8080/"
        },
        "outputId": "c28769cd-436d-412f-c303-6b2bb824f865"
      },
      "source": [
        "autoencoder_test_data, shapes, test_filenames = get_images_from_dir(test_path, cropped=False)\n",
        "test_outputs = autoencoder.inference(autoencoder_test_data, save_path=test_output_path, filenames=test_filenames)"
      ],
      "execution_count": 91,
      "outputs": [
        {
          "output_type": "stream",
          "text": [
            "432 / 433\n"
          ],
          "name": "stdout"
        }
      ]
    },
    {
      "cell_type": "code",
      "metadata": {
        "id": "gXDw0e0hfi4P"
      },
      "source": [
        "cv2_imshow(test_outputs[0])"
      ],
      "execution_count": null,
      "outputs": []
    },
    {
      "cell_type": "code",
      "metadata": {
        "id": "Gh4cmVmJXaif"
      },
      "source": [
        "# Generating output for saving\n",
        "outputs = autoencoder.inference(autoencoder_train_data, save_path=output_path, filenames=train_filenames)"
      ],
      "execution_count": 92,
      "outputs": []
    }
  ]
}